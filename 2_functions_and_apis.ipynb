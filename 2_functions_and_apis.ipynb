{
  "nbformat": 4,
  "nbformat_minor": 0,
  "metadata": {
    "colab": {
      "name": "2_functions_and_apis.ipynb",
      "provenance": [],
      "collapsed_sections": [
        "42ZeCQ35Zzy5",
        "GALCY1t-dlYU",
        "JPi719RCZB9h",
        "5SsaRk_Hexv1",
        "DEUqTeCvliTC"
      ],
      "toc_visible": true,
      "include_colab_link": true
    },
    "kernelspec": {
      "name": "python3",
      "display_name": "Python 3"
    },
    "language_info": {
      "name": "python"
    },
    "widgets": {
      "application/vnd.jupyter.widget-state+json": {
        "dcb33fe04c9c4c558f0d1720188ba100": {
          "model_module": "@jupyter-widgets/controls",
          "model_name": "HBoxModel",
          "model_module_version": "1.5.0",
          "state": {
            "_dom_classes": [],
            "_model_module": "@jupyter-widgets/controls",
            "_model_module_version": "1.5.0",
            "_model_name": "HBoxModel",
            "_view_count": null,
            "_view_module": "@jupyter-widgets/controls",
            "_view_module_version": "1.5.0",
            "_view_name": "HBoxView",
            "box_style": "",
            "children": [
              "IPY_MODEL_4b200a2f43d8405a855998096e160088",
              "IPY_MODEL_4117e3fdc8ca4cb2a427106eb357f028",
              "IPY_MODEL_901aa280f7694451839a540f3eab4cd5"
            ],
            "layout": "IPY_MODEL_bd423088f56545b0bb13d33419f65eec"
          }
        },
        "4b200a2f43d8405a855998096e160088": {
          "model_module": "@jupyter-widgets/controls",
          "model_name": "HTMLModel",
          "model_module_version": "1.5.0",
          "state": {
            "_dom_classes": [],
            "_model_module": "@jupyter-widgets/controls",
            "_model_module_version": "1.5.0",
            "_model_name": "HTMLModel",
            "_view_count": null,
            "_view_module": "@jupyter-widgets/controls",
            "_view_module_version": "1.5.0",
            "_view_name": "HTMLView",
            "description": "",
            "description_tooltip": null,
            "layout": "IPY_MODEL_cbb61ab48f134699b092cc33513d6bbd",
            "placeholder": "​",
            "style": "IPY_MODEL_e4b3d7a447bc493da38e7c94874d6505",
            "value": "Downloading: 100%"
          }
        },
        "4117e3fdc8ca4cb2a427106eb357f028": {
          "model_module": "@jupyter-widgets/controls",
          "model_name": "FloatProgressModel",
          "model_module_version": "1.5.0",
          "state": {
            "_dom_classes": [],
            "_model_module": "@jupyter-widgets/controls",
            "_model_module_version": "1.5.0",
            "_model_name": "FloatProgressModel",
            "_view_count": null,
            "_view_module": "@jupyter-widgets/controls",
            "_view_module_version": "1.5.0",
            "_view_name": "ProgressView",
            "bar_style": "success",
            "description": "",
            "description_tooltip": null,
            "layout": "IPY_MODEL_8113c99e675d4d39bf7be9173974c535",
            "max": 747,
            "min": 0,
            "orientation": "horizontal",
            "style": "IPY_MODEL_bffe77e1ae9844cd9e2d42e727060c6d",
            "value": 747
          }
        },
        "901aa280f7694451839a540f3eab4cd5": {
          "model_module": "@jupyter-widgets/controls",
          "model_name": "HTMLModel",
          "model_module_version": "1.5.0",
          "state": {
            "_dom_classes": [],
            "_model_module": "@jupyter-widgets/controls",
            "_model_module_version": "1.5.0",
            "_model_name": "HTMLModel",
            "_view_count": null,
            "_view_module": "@jupyter-widgets/controls",
            "_view_module_version": "1.5.0",
            "_view_name": "HTMLView",
            "description": "",
            "description_tooltip": null,
            "layout": "IPY_MODEL_0acf58d5bb644f88b715d13d0962d0a6",
            "placeholder": "​",
            "style": "IPY_MODEL_48d3b1b3701546b1a21708446efbe32f",
            "value": " 747/747 [00:00&lt;00:00, 21.7kB/s]"
          }
        },
        "bd423088f56545b0bb13d33419f65eec": {
          "model_module": "@jupyter-widgets/base",
          "model_name": "LayoutModel",
          "model_module_version": "1.2.0",
          "state": {
            "_model_module": "@jupyter-widgets/base",
            "_model_module_version": "1.2.0",
            "_model_name": "LayoutModel",
            "_view_count": null,
            "_view_module": "@jupyter-widgets/base",
            "_view_module_version": "1.2.0",
            "_view_name": "LayoutView",
            "align_content": null,
            "align_items": null,
            "align_self": null,
            "border": null,
            "bottom": null,
            "display": null,
            "flex": null,
            "flex_flow": null,
            "grid_area": null,
            "grid_auto_columns": null,
            "grid_auto_flow": null,
            "grid_auto_rows": null,
            "grid_column": null,
            "grid_gap": null,
            "grid_row": null,
            "grid_template_areas": null,
            "grid_template_columns": null,
            "grid_template_rows": null,
            "height": null,
            "justify_content": null,
            "justify_items": null,
            "left": null,
            "margin": null,
            "max_height": null,
            "max_width": null,
            "min_height": null,
            "min_width": null,
            "object_fit": null,
            "object_position": null,
            "order": null,
            "overflow": null,
            "overflow_x": null,
            "overflow_y": null,
            "padding": null,
            "right": null,
            "top": null,
            "visibility": null,
            "width": null
          }
        },
        "cbb61ab48f134699b092cc33513d6bbd": {
          "model_module": "@jupyter-widgets/base",
          "model_name": "LayoutModel",
          "model_module_version": "1.2.0",
          "state": {
            "_model_module": "@jupyter-widgets/base",
            "_model_module_version": "1.2.0",
            "_model_name": "LayoutModel",
            "_view_count": null,
            "_view_module": "@jupyter-widgets/base",
            "_view_module_version": "1.2.0",
            "_view_name": "LayoutView",
            "align_content": null,
            "align_items": null,
            "align_self": null,
            "border": null,
            "bottom": null,
            "display": null,
            "flex": null,
            "flex_flow": null,
            "grid_area": null,
            "grid_auto_columns": null,
            "grid_auto_flow": null,
            "grid_auto_rows": null,
            "grid_column": null,
            "grid_gap": null,
            "grid_row": null,
            "grid_template_areas": null,
            "grid_template_columns": null,
            "grid_template_rows": null,
            "height": null,
            "justify_content": null,
            "justify_items": null,
            "left": null,
            "margin": null,
            "max_height": null,
            "max_width": null,
            "min_height": null,
            "min_width": null,
            "object_fit": null,
            "object_position": null,
            "order": null,
            "overflow": null,
            "overflow_x": null,
            "overflow_y": null,
            "padding": null,
            "right": null,
            "top": null,
            "visibility": null,
            "width": null
          }
        },
        "e4b3d7a447bc493da38e7c94874d6505": {
          "model_module": "@jupyter-widgets/controls",
          "model_name": "DescriptionStyleModel",
          "model_module_version": "1.5.0",
          "state": {
            "_model_module": "@jupyter-widgets/controls",
            "_model_module_version": "1.5.0",
            "_model_name": "DescriptionStyleModel",
            "_view_count": null,
            "_view_module": "@jupyter-widgets/base",
            "_view_module_version": "1.2.0",
            "_view_name": "StyleView",
            "description_width": ""
          }
        },
        "8113c99e675d4d39bf7be9173974c535": {
          "model_module": "@jupyter-widgets/base",
          "model_name": "LayoutModel",
          "model_module_version": "1.2.0",
          "state": {
            "_model_module": "@jupyter-widgets/base",
            "_model_module_version": "1.2.0",
            "_model_name": "LayoutModel",
            "_view_count": null,
            "_view_module": "@jupyter-widgets/base",
            "_view_module_version": "1.2.0",
            "_view_name": "LayoutView",
            "align_content": null,
            "align_items": null,
            "align_self": null,
            "border": null,
            "bottom": null,
            "display": null,
            "flex": null,
            "flex_flow": null,
            "grid_area": null,
            "grid_auto_columns": null,
            "grid_auto_flow": null,
            "grid_auto_rows": null,
            "grid_column": null,
            "grid_gap": null,
            "grid_row": null,
            "grid_template_areas": null,
            "grid_template_columns": null,
            "grid_template_rows": null,
            "height": null,
            "justify_content": null,
            "justify_items": null,
            "left": null,
            "margin": null,
            "max_height": null,
            "max_width": null,
            "min_height": null,
            "min_width": null,
            "object_fit": null,
            "object_position": null,
            "order": null,
            "overflow": null,
            "overflow_x": null,
            "overflow_y": null,
            "padding": null,
            "right": null,
            "top": null,
            "visibility": null,
            "width": null
          }
        },
        "bffe77e1ae9844cd9e2d42e727060c6d": {
          "model_module": "@jupyter-widgets/controls",
          "model_name": "ProgressStyleModel",
          "model_module_version": "1.5.0",
          "state": {
            "_model_module": "@jupyter-widgets/controls",
            "_model_module_version": "1.5.0",
            "_model_name": "ProgressStyleModel",
            "_view_count": null,
            "_view_module": "@jupyter-widgets/base",
            "_view_module_version": "1.2.0",
            "_view_name": "StyleView",
            "bar_color": null,
            "description_width": ""
          }
        },
        "0acf58d5bb644f88b715d13d0962d0a6": {
          "model_module": "@jupyter-widgets/base",
          "model_name": "LayoutModel",
          "model_module_version": "1.2.0",
          "state": {
            "_model_module": "@jupyter-widgets/base",
            "_model_module_version": "1.2.0",
            "_model_name": "LayoutModel",
            "_view_count": null,
            "_view_module": "@jupyter-widgets/base",
            "_view_module_version": "1.2.0",
            "_view_name": "LayoutView",
            "align_content": null,
            "align_items": null,
            "align_self": null,
            "border": null,
            "bottom": null,
            "display": null,
            "flex": null,
            "flex_flow": null,
            "grid_area": null,
            "grid_auto_columns": null,
            "grid_auto_flow": null,
            "grid_auto_rows": null,
            "grid_column": null,
            "grid_gap": null,
            "grid_row": null,
            "grid_template_areas": null,
            "grid_template_columns": null,
            "grid_template_rows": null,
            "height": null,
            "justify_content": null,
            "justify_items": null,
            "left": null,
            "margin": null,
            "max_height": null,
            "max_width": null,
            "min_height": null,
            "min_width": null,
            "object_fit": null,
            "object_position": null,
            "order": null,
            "overflow": null,
            "overflow_x": null,
            "overflow_y": null,
            "padding": null,
            "right": null,
            "top": null,
            "visibility": null,
            "width": null
          }
        },
        "48d3b1b3701546b1a21708446efbe32f": {
          "model_module": "@jupyter-widgets/controls",
          "model_name": "DescriptionStyleModel",
          "model_module_version": "1.5.0",
          "state": {
            "_model_module": "@jupyter-widgets/controls",
            "_model_module_version": "1.5.0",
            "_model_name": "DescriptionStyleModel",
            "_view_count": null,
            "_view_module": "@jupyter-widgets/base",
            "_view_module_version": "1.2.0",
            "_view_name": "StyleView",
            "description_width": ""
          }
        },
        "7db57bfa49424115ac9c8f4b4fc0f26a": {
          "model_module": "@jupyter-widgets/controls",
          "model_name": "HBoxModel",
          "model_module_version": "1.5.0",
          "state": {
            "_dom_classes": [],
            "_model_module": "@jupyter-widgets/controls",
            "_model_module_version": "1.5.0",
            "_model_name": "HBoxModel",
            "_view_count": null,
            "_view_module": "@jupyter-widgets/controls",
            "_view_module_version": "1.5.0",
            "_view_name": "HBoxView",
            "box_style": "",
            "children": [
              "IPY_MODEL_116bbb2e8c8a4b60b7a48a74865e0c8f",
              "IPY_MODEL_682d3c3c1bd3431bb0b88d3d4dbbc928",
              "IPY_MODEL_f82e43d4cf474a4f93e83150fdefc463"
            ],
            "layout": "IPY_MODEL_5d2d07dfd96049648af7cf6bf1c81da0"
          }
        },
        "116bbb2e8c8a4b60b7a48a74865e0c8f": {
          "model_module": "@jupyter-widgets/controls",
          "model_name": "HTMLModel",
          "model_module_version": "1.5.0",
          "state": {
            "_dom_classes": [],
            "_model_module": "@jupyter-widgets/controls",
            "_model_module_version": "1.5.0",
            "_model_name": "HTMLModel",
            "_view_count": null,
            "_view_module": "@jupyter-widgets/controls",
            "_view_module_version": "1.5.0",
            "_view_name": "HTMLView",
            "description": "",
            "description_tooltip": null,
            "layout": "IPY_MODEL_e06335bc9963424195d78bae2c5b51b0",
            "placeholder": "​",
            "style": "IPY_MODEL_11a12431762f4c9bb51a4799200d387c",
            "value": "Downloading: 100%"
          }
        },
        "682d3c3c1bd3431bb0b88d3d4dbbc928": {
          "model_module": "@jupyter-widgets/controls",
          "model_name": "FloatProgressModel",
          "model_module_version": "1.5.0",
          "state": {
            "_dom_classes": [],
            "_model_module": "@jupyter-widgets/controls",
            "_model_module_version": "1.5.0",
            "_model_name": "FloatProgressModel",
            "_view_count": null,
            "_view_module": "@jupyter-widgets/controls",
            "_view_module_version": "1.5.0",
            "_view_name": "ProgressView",
            "bar_style": "success",
            "description": "",
            "description_tooltip": null,
            "layout": "IPY_MODEL_1df259d5e89a43528416121dda59398c",
            "max": 498679497,
            "min": 0,
            "orientation": "horizontal",
            "style": "IPY_MODEL_49cffe8117cc4ab58e0eb53c272c9972",
            "value": 498679497
          }
        },
        "f82e43d4cf474a4f93e83150fdefc463": {
          "model_module": "@jupyter-widgets/controls",
          "model_name": "HTMLModel",
          "model_module_version": "1.5.0",
          "state": {
            "_dom_classes": [],
            "_model_module": "@jupyter-widgets/controls",
            "_model_module_version": "1.5.0",
            "_model_name": "HTMLModel",
            "_view_count": null,
            "_view_module": "@jupyter-widgets/controls",
            "_view_module_version": "1.5.0",
            "_view_name": "HTMLView",
            "description": "",
            "description_tooltip": null,
            "layout": "IPY_MODEL_1218b0deca7843f8871672753716924a",
            "placeholder": "​",
            "style": "IPY_MODEL_8c8ec4811e5943be8a5152069ce7f043",
            "value": " 476M/476M [00:10&lt;00:00, 51.7MB/s]"
          }
        },
        "5d2d07dfd96049648af7cf6bf1c81da0": {
          "model_module": "@jupyter-widgets/base",
          "model_name": "LayoutModel",
          "model_module_version": "1.2.0",
          "state": {
            "_model_module": "@jupyter-widgets/base",
            "_model_module_version": "1.2.0",
            "_model_name": "LayoutModel",
            "_view_count": null,
            "_view_module": "@jupyter-widgets/base",
            "_view_module_version": "1.2.0",
            "_view_name": "LayoutView",
            "align_content": null,
            "align_items": null,
            "align_self": null,
            "border": null,
            "bottom": null,
            "display": null,
            "flex": null,
            "flex_flow": null,
            "grid_area": null,
            "grid_auto_columns": null,
            "grid_auto_flow": null,
            "grid_auto_rows": null,
            "grid_column": null,
            "grid_gap": null,
            "grid_row": null,
            "grid_template_areas": null,
            "grid_template_columns": null,
            "grid_template_rows": null,
            "height": null,
            "justify_content": null,
            "justify_items": null,
            "left": null,
            "margin": null,
            "max_height": null,
            "max_width": null,
            "min_height": null,
            "min_width": null,
            "object_fit": null,
            "object_position": null,
            "order": null,
            "overflow": null,
            "overflow_x": null,
            "overflow_y": null,
            "padding": null,
            "right": null,
            "top": null,
            "visibility": null,
            "width": null
          }
        },
        "e06335bc9963424195d78bae2c5b51b0": {
          "model_module": "@jupyter-widgets/base",
          "model_name": "LayoutModel",
          "model_module_version": "1.2.0",
          "state": {
            "_model_module": "@jupyter-widgets/base",
            "_model_module_version": "1.2.0",
            "_model_name": "LayoutModel",
            "_view_count": null,
            "_view_module": "@jupyter-widgets/base",
            "_view_module_version": "1.2.0",
            "_view_name": "LayoutView",
            "align_content": null,
            "align_items": null,
            "align_self": null,
            "border": null,
            "bottom": null,
            "display": null,
            "flex": null,
            "flex_flow": null,
            "grid_area": null,
            "grid_auto_columns": null,
            "grid_auto_flow": null,
            "grid_auto_rows": null,
            "grid_column": null,
            "grid_gap": null,
            "grid_row": null,
            "grid_template_areas": null,
            "grid_template_columns": null,
            "grid_template_rows": null,
            "height": null,
            "justify_content": null,
            "justify_items": null,
            "left": null,
            "margin": null,
            "max_height": null,
            "max_width": null,
            "min_height": null,
            "min_width": null,
            "object_fit": null,
            "object_position": null,
            "order": null,
            "overflow": null,
            "overflow_x": null,
            "overflow_y": null,
            "padding": null,
            "right": null,
            "top": null,
            "visibility": null,
            "width": null
          }
        },
        "11a12431762f4c9bb51a4799200d387c": {
          "model_module": "@jupyter-widgets/controls",
          "model_name": "DescriptionStyleModel",
          "model_module_version": "1.5.0",
          "state": {
            "_model_module": "@jupyter-widgets/controls",
            "_model_module_version": "1.5.0",
            "_model_name": "DescriptionStyleModel",
            "_view_count": null,
            "_view_module": "@jupyter-widgets/base",
            "_view_module_version": "1.2.0",
            "_view_name": "StyleView",
            "description_width": ""
          }
        },
        "1df259d5e89a43528416121dda59398c": {
          "model_module": "@jupyter-widgets/base",
          "model_name": "LayoutModel",
          "model_module_version": "1.2.0",
          "state": {
            "_model_module": "@jupyter-widgets/base",
            "_model_module_version": "1.2.0",
            "_model_name": "LayoutModel",
            "_view_count": null,
            "_view_module": "@jupyter-widgets/base",
            "_view_module_version": "1.2.0",
            "_view_name": "LayoutView",
            "align_content": null,
            "align_items": null,
            "align_self": null,
            "border": null,
            "bottom": null,
            "display": null,
            "flex": null,
            "flex_flow": null,
            "grid_area": null,
            "grid_auto_columns": null,
            "grid_auto_flow": null,
            "grid_auto_rows": null,
            "grid_column": null,
            "grid_gap": null,
            "grid_row": null,
            "grid_template_areas": null,
            "grid_template_columns": null,
            "grid_template_rows": null,
            "height": null,
            "justify_content": null,
            "justify_items": null,
            "left": null,
            "margin": null,
            "max_height": null,
            "max_width": null,
            "min_height": null,
            "min_width": null,
            "object_fit": null,
            "object_position": null,
            "order": null,
            "overflow": null,
            "overflow_x": null,
            "overflow_y": null,
            "padding": null,
            "right": null,
            "top": null,
            "visibility": null,
            "width": null
          }
        },
        "49cffe8117cc4ab58e0eb53c272c9972": {
          "model_module": "@jupyter-widgets/controls",
          "model_name": "ProgressStyleModel",
          "model_module_version": "1.5.0",
          "state": {
            "_model_module": "@jupyter-widgets/controls",
            "_model_module_version": "1.5.0",
            "_model_name": "ProgressStyleModel",
            "_view_count": null,
            "_view_module": "@jupyter-widgets/base",
            "_view_module_version": "1.2.0",
            "_view_name": "StyleView",
            "bar_color": null,
            "description_width": ""
          }
        },
        "1218b0deca7843f8871672753716924a": {
          "model_module": "@jupyter-widgets/base",
          "model_name": "LayoutModel",
          "model_module_version": "1.2.0",
          "state": {
            "_model_module": "@jupyter-widgets/base",
            "_model_module_version": "1.2.0",
            "_model_name": "LayoutModel",
            "_view_count": null,
            "_view_module": "@jupyter-widgets/base",
            "_view_module_version": "1.2.0",
            "_view_name": "LayoutView",
            "align_content": null,
            "align_items": null,
            "align_self": null,
            "border": null,
            "bottom": null,
            "display": null,
            "flex": null,
            "flex_flow": null,
            "grid_area": null,
            "grid_auto_columns": null,
            "grid_auto_flow": null,
            "grid_auto_rows": null,
            "grid_column": null,
            "grid_gap": null,
            "grid_row": null,
            "grid_template_areas": null,
            "grid_template_columns": null,
            "grid_template_rows": null,
            "height": null,
            "justify_content": null,
            "justify_items": null,
            "left": null,
            "margin": null,
            "max_height": null,
            "max_width": null,
            "min_height": null,
            "min_width": null,
            "object_fit": null,
            "object_position": null,
            "order": null,
            "overflow": null,
            "overflow_x": null,
            "overflow_y": null,
            "padding": null,
            "right": null,
            "top": null,
            "visibility": null,
            "width": null
          }
        },
        "8c8ec4811e5943be8a5152069ce7f043": {
          "model_module": "@jupyter-widgets/controls",
          "model_name": "DescriptionStyleModel",
          "model_module_version": "1.5.0",
          "state": {
            "_model_module": "@jupyter-widgets/controls",
            "_model_module_version": "1.5.0",
            "_model_name": "DescriptionStyleModel",
            "_view_count": null,
            "_view_module": "@jupyter-widgets/base",
            "_view_module_version": "1.2.0",
            "_view_name": "StyleView",
            "description_width": ""
          }
        },
        "dab446ce113d4fd988fcde9873d0fb4a": {
          "model_module": "@jupyter-widgets/controls",
          "model_name": "HBoxModel",
          "model_module_version": "1.5.0",
          "state": {
            "_dom_classes": [],
            "_model_module": "@jupyter-widgets/controls",
            "_model_module_version": "1.5.0",
            "_model_name": "HBoxModel",
            "_view_count": null,
            "_view_module": "@jupyter-widgets/controls",
            "_view_module_version": "1.5.0",
            "_view_name": "HBoxView",
            "box_style": "",
            "children": [
              "IPY_MODEL_768614e2444a43c186b9707409bd4afc",
              "IPY_MODEL_7d925b51587b4806bf00815619e87869",
              "IPY_MODEL_7dcc98dfcc594f1680b80c11688c9dfe"
            ],
            "layout": "IPY_MODEL_acfe92e85e784d8cb3e3dcbf2b75a8c1"
          }
        },
        "768614e2444a43c186b9707409bd4afc": {
          "model_module": "@jupyter-widgets/controls",
          "model_name": "HTMLModel",
          "model_module_version": "1.5.0",
          "state": {
            "_dom_classes": [],
            "_model_module": "@jupyter-widgets/controls",
            "_model_module_version": "1.5.0",
            "_model_name": "HTMLModel",
            "_view_count": null,
            "_view_module": "@jupyter-widgets/controls",
            "_view_module_version": "1.5.0",
            "_view_name": "HTMLView",
            "description": "",
            "description_tooltip": null,
            "layout": "IPY_MODEL_2b6cb135bc4647c2a1ae5bc0c2b019ae",
            "placeholder": "​",
            "style": "IPY_MODEL_3e039099a55d4318b1859d1b3f428cf2",
            "value": "Downloading: 100%"
          }
        },
        "7d925b51587b4806bf00815619e87869": {
          "model_module": "@jupyter-widgets/controls",
          "model_name": "FloatProgressModel",
          "model_module_version": "1.5.0",
          "state": {
            "_dom_classes": [],
            "_model_module": "@jupyter-widgets/controls",
            "_model_module_version": "1.5.0",
            "_model_name": "FloatProgressModel",
            "_view_count": null,
            "_view_module": "@jupyter-widgets/controls",
            "_view_module_version": "1.5.0",
            "_view_name": "ProgressView",
            "bar_style": "success",
            "description": "",
            "description_tooltip": null,
            "layout": "IPY_MODEL_5e9fd688ca1246b2bdb981b96f000364",
            "max": 898822,
            "min": 0,
            "orientation": "horizontal",
            "style": "IPY_MODEL_3cd729801ade46848972c5c5a325de3a",
            "value": 898822
          }
        },
        "7dcc98dfcc594f1680b80c11688c9dfe": {
          "model_module": "@jupyter-widgets/controls",
          "model_name": "HTMLModel",
          "model_module_version": "1.5.0",
          "state": {
            "_dom_classes": [],
            "_model_module": "@jupyter-widgets/controls",
            "_model_module_version": "1.5.0",
            "_model_name": "HTMLModel",
            "_view_count": null,
            "_view_module": "@jupyter-widgets/controls",
            "_view_module_version": "1.5.0",
            "_view_name": "HTMLView",
            "description": "",
            "description_tooltip": null,
            "layout": "IPY_MODEL_dd57cd6d60fb4e09887f0d2048057f5b",
            "placeholder": "​",
            "style": "IPY_MODEL_9c82bd6f5f2c49ea87aafb263f460cb3",
            "value": " 878k/878k [00:00&lt;00:00, 3.33MB/s]"
          }
        },
        "acfe92e85e784d8cb3e3dcbf2b75a8c1": {
          "model_module": "@jupyter-widgets/base",
          "model_name": "LayoutModel",
          "model_module_version": "1.2.0",
          "state": {
            "_model_module": "@jupyter-widgets/base",
            "_model_module_version": "1.2.0",
            "_model_name": "LayoutModel",
            "_view_count": null,
            "_view_module": "@jupyter-widgets/base",
            "_view_module_version": "1.2.0",
            "_view_name": "LayoutView",
            "align_content": null,
            "align_items": null,
            "align_self": null,
            "border": null,
            "bottom": null,
            "display": null,
            "flex": null,
            "flex_flow": null,
            "grid_area": null,
            "grid_auto_columns": null,
            "grid_auto_flow": null,
            "grid_auto_rows": null,
            "grid_column": null,
            "grid_gap": null,
            "grid_row": null,
            "grid_template_areas": null,
            "grid_template_columns": null,
            "grid_template_rows": null,
            "height": null,
            "justify_content": null,
            "justify_items": null,
            "left": null,
            "margin": null,
            "max_height": null,
            "max_width": null,
            "min_height": null,
            "min_width": null,
            "object_fit": null,
            "object_position": null,
            "order": null,
            "overflow": null,
            "overflow_x": null,
            "overflow_y": null,
            "padding": null,
            "right": null,
            "top": null,
            "visibility": null,
            "width": null
          }
        },
        "2b6cb135bc4647c2a1ae5bc0c2b019ae": {
          "model_module": "@jupyter-widgets/base",
          "model_name": "LayoutModel",
          "model_module_version": "1.2.0",
          "state": {
            "_model_module": "@jupyter-widgets/base",
            "_model_module_version": "1.2.0",
            "_model_name": "LayoutModel",
            "_view_count": null,
            "_view_module": "@jupyter-widgets/base",
            "_view_module_version": "1.2.0",
            "_view_name": "LayoutView",
            "align_content": null,
            "align_items": null,
            "align_self": null,
            "border": null,
            "bottom": null,
            "display": null,
            "flex": null,
            "flex_flow": null,
            "grid_area": null,
            "grid_auto_columns": null,
            "grid_auto_flow": null,
            "grid_auto_rows": null,
            "grid_column": null,
            "grid_gap": null,
            "grid_row": null,
            "grid_template_areas": null,
            "grid_template_columns": null,
            "grid_template_rows": null,
            "height": null,
            "justify_content": null,
            "justify_items": null,
            "left": null,
            "margin": null,
            "max_height": null,
            "max_width": null,
            "min_height": null,
            "min_width": null,
            "object_fit": null,
            "object_position": null,
            "order": null,
            "overflow": null,
            "overflow_x": null,
            "overflow_y": null,
            "padding": null,
            "right": null,
            "top": null,
            "visibility": null,
            "width": null
          }
        },
        "3e039099a55d4318b1859d1b3f428cf2": {
          "model_module": "@jupyter-widgets/controls",
          "model_name": "DescriptionStyleModel",
          "model_module_version": "1.5.0",
          "state": {
            "_model_module": "@jupyter-widgets/controls",
            "_model_module_version": "1.5.0",
            "_model_name": "DescriptionStyleModel",
            "_view_count": null,
            "_view_module": "@jupyter-widgets/base",
            "_view_module_version": "1.2.0",
            "_view_name": "StyleView",
            "description_width": ""
          }
        },
        "5e9fd688ca1246b2bdb981b96f000364": {
          "model_module": "@jupyter-widgets/base",
          "model_name": "LayoutModel",
          "model_module_version": "1.2.0",
          "state": {
            "_model_module": "@jupyter-widgets/base",
            "_model_module_version": "1.2.0",
            "_model_name": "LayoutModel",
            "_view_count": null,
            "_view_module": "@jupyter-widgets/base",
            "_view_module_version": "1.2.0",
            "_view_name": "LayoutView",
            "align_content": null,
            "align_items": null,
            "align_self": null,
            "border": null,
            "bottom": null,
            "display": null,
            "flex": null,
            "flex_flow": null,
            "grid_area": null,
            "grid_auto_columns": null,
            "grid_auto_flow": null,
            "grid_auto_rows": null,
            "grid_column": null,
            "grid_gap": null,
            "grid_row": null,
            "grid_template_areas": null,
            "grid_template_columns": null,
            "grid_template_rows": null,
            "height": null,
            "justify_content": null,
            "justify_items": null,
            "left": null,
            "margin": null,
            "max_height": null,
            "max_width": null,
            "min_height": null,
            "min_width": null,
            "object_fit": null,
            "object_position": null,
            "order": null,
            "overflow": null,
            "overflow_x": null,
            "overflow_y": null,
            "padding": null,
            "right": null,
            "top": null,
            "visibility": null,
            "width": null
          }
        },
        "3cd729801ade46848972c5c5a325de3a": {
          "model_module": "@jupyter-widgets/controls",
          "model_name": "ProgressStyleModel",
          "model_module_version": "1.5.0",
          "state": {
            "_model_module": "@jupyter-widgets/controls",
            "_model_module_version": "1.5.0",
            "_model_name": "ProgressStyleModel",
            "_view_count": null,
            "_view_module": "@jupyter-widgets/base",
            "_view_module_version": "1.2.0",
            "_view_name": "StyleView",
            "bar_color": null,
            "description_width": ""
          }
        },
        "dd57cd6d60fb4e09887f0d2048057f5b": {
          "model_module": "@jupyter-widgets/base",
          "model_name": "LayoutModel",
          "model_module_version": "1.2.0",
          "state": {
            "_model_module": "@jupyter-widgets/base",
            "_model_module_version": "1.2.0",
            "_model_name": "LayoutModel",
            "_view_count": null,
            "_view_module": "@jupyter-widgets/base",
            "_view_module_version": "1.2.0",
            "_view_name": "LayoutView",
            "align_content": null,
            "align_items": null,
            "align_self": null,
            "border": null,
            "bottom": null,
            "display": null,
            "flex": null,
            "flex_flow": null,
            "grid_area": null,
            "grid_auto_columns": null,
            "grid_auto_flow": null,
            "grid_auto_rows": null,
            "grid_column": null,
            "grid_gap": null,
            "grid_row": null,
            "grid_template_areas": null,
            "grid_template_columns": null,
            "grid_template_rows": null,
            "height": null,
            "justify_content": null,
            "justify_items": null,
            "left": null,
            "margin": null,
            "max_height": null,
            "max_width": null,
            "min_height": null,
            "min_width": null,
            "object_fit": null,
            "object_position": null,
            "order": null,
            "overflow": null,
            "overflow_x": null,
            "overflow_y": null,
            "padding": null,
            "right": null,
            "top": null,
            "visibility": null,
            "width": null
          }
        },
        "9c82bd6f5f2c49ea87aafb263f460cb3": {
          "model_module": "@jupyter-widgets/controls",
          "model_name": "DescriptionStyleModel",
          "model_module_version": "1.5.0",
          "state": {
            "_model_module": "@jupyter-widgets/controls",
            "_model_module_version": "1.5.0",
            "_model_name": "DescriptionStyleModel",
            "_view_count": null,
            "_view_module": "@jupyter-widgets/base",
            "_view_module_version": "1.2.0",
            "_view_name": "StyleView",
            "description_width": ""
          }
        },
        "f79414b7973e4cf0b9ee3466e6e9a288": {
          "model_module": "@jupyter-widgets/controls",
          "model_name": "HBoxModel",
          "model_module_version": "1.5.0",
          "state": {
            "_dom_classes": [],
            "_model_module": "@jupyter-widgets/controls",
            "_model_module_version": "1.5.0",
            "_model_name": "HBoxModel",
            "_view_count": null,
            "_view_module": "@jupyter-widgets/controls",
            "_view_module_version": "1.5.0",
            "_view_name": "HBoxView",
            "box_style": "",
            "children": [
              "IPY_MODEL_825e0e996f82468eb6a869f0d434467f",
              "IPY_MODEL_4425b59e2410497d96f2572bc631d3c0",
              "IPY_MODEL_668ae6e1c13f429b93d104030dabb504"
            ],
            "layout": "IPY_MODEL_448dade2288043b7afaebb021d471b0b"
          }
        },
        "825e0e996f82468eb6a869f0d434467f": {
          "model_module": "@jupyter-widgets/controls",
          "model_name": "HTMLModel",
          "model_module_version": "1.5.0",
          "state": {
            "_dom_classes": [],
            "_model_module": "@jupyter-widgets/controls",
            "_model_module_version": "1.5.0",
            "_model_name": "HTMLModel",
            "_view_count": null,
            "_view_module": "@jupyter-widgets/controls",
            "_view_module_version": "1.5.0",
            "_view_name": "HTMLView",
            "description": "",
            "description_tooltip": null,
            "layout": "IPY_MODEL_ff65d781c33e4a37a32a64b42195bbab",
            "placeholder": "​",
            "style": "IPY_MODEL_a5771f4957e54b43ae6be0d8e97cf7b1",
            "value": "Downloading: 100%"
          }
        },
        "4425b59e2410497d96f2572bc631d3c0": {
          "model_module": "@jupyter-widgets/controls",
          "model_name": "FloatProgressModel",
          "model_module_version": "1.5.0",
          "state": {
            "_dom_classes": [],
            "_model_module": "@jupyter-widgets/controls",
            "_model_module_version": "1.5.0",
            "_model_name": "FloatProgressModel",
            "_view_count": null,
            "_view_module": "@jupyter-widgets/controls",
            "_view_module_version": "1.5.0",
            "_view_name": "ProgressView",
            "bar_style": "success",
            "description": "",
            "description_tooltip": null,
            "layout": "IPY_MODEL_04e1f97018984a7dac5916a9d643d032",
            "max": 456318,
            "min": 0,
            "orientation": "horizontal",
            "style": "IPY_MODEL_09fe4a465f004ca3a9b9a247866e8bf0",
            "value": 456318
          }
        },
        "668ae6e1c13f429b93d104030dabb504": {
          "model_module": "@jupyter-widgets/controls",
          "model_name": "HTMLModel",
          "model_module_version": "1.5.0",
          "state": {
            "_dom_classes": [],
            "_model_module": "@jupyter-widgets/controls",
            "_model_module_version": "1.5.0",
            "_model_name": "HTMLModel",
            "_view_count": null,
            "_view_module": "@jupyter-widgets/controls",
            "_view_module_version": "1.5.0",
            "_view_name": "HTMLView",
            "description": "",
            "description_tooltip": null,
            "layout": "IPY_MODEL_da7589d67a6940babd068f1eb7c8abeb",
            "placeholder": "​",
            "style": "IPY_MODEL_33edc90cb5e74366ac12bc133fc69b00",
            "value": " 446k/446k [00:00&lt;00:00, 1.97MB/s]"
          }
        },
        "448dade2288043b7afaebb021d471b0b": {
          "model_module": "@jupyter-widgets/base",
          "model_name": "LayoutModel",
          "model_module_version": "1.2.0",
          "state": {
            "_model_module": "@jupyter-widgets/base",
            "_model_module_version": "1.2.0",
            "_model_name": "LayoutModel",
            "_view_count": null,
            "_view_module": "@jupyter-widgets/base",
            "_view_module_version": "1.2.0",
            "_view_name": "LayoutView",
            "align_content": null,
            "align_items": null,
            "align_self": null,
            "border": null,
            "bottom": null,
            "display": null,
            "flex": null,
            "flex_flow": null,
            "grid_area": null,
            "grid_auto_columns": null,
            "grid_auto_flow": null,
            "grid_auto_rows": null,
            "grid_column": null,
            "grid_gap": null,
            "grid_row": null,
            "grid_template_areas": null,
            "grid_template_columns": null,
            "grid_template_rows": null,
            "height": null,
            "justify_content": null,
            "justify_items": null,
            "left": null,
            "margin": null,
            "max_height": null,
            "max_width": null,
            "min_height": null,
            "min_width": null,
            "object_fit": null,
            "object_position": null,
            "order": null,
            "overflow": null,
            "overflow_x": null,
            "overflow_y": null,
            "padding": null,
            "right": null,
            "top": null,
            "visibility": null,
            "width": null
          }
        },
        "ff65d781c33e4a37a32a64b42195bbab": {
          "model_module": "@jupyter-widgets/base",
          "model_name": "LayoutModel",
          "model_module_version": "1.2.0",
          "state": {
            "_model_module": "@jupyter-widgets/base",
            "_model_module_version": "1.2.0",
            "_model_name": "LayoutModel",
            "_view_count": null,
            "_view_module": "@jupyter-widgets/base",
            "_view_module_version": "1.2.0",
            "_view_name": "LayoutView",
            "align_content": null,
            "align_items": null,
            "align_self": null,
            "border": null,
            "bottom": null,
            "display": null,
            "flex": null,
            "flex_flow": null,
            "grid_area": null,
            "grid_auto_columns": null,
            "grid_auto_flow": null,
            "grid_auto_rows": null,
            "grid_column": null,
            "grid_gap": null,
            "grid_row": null,
            "grid_template_areas": null,
            "grid_template_columns": null,
            "grid_template_rows": null,
            "height": null,
            "justify_content": null,
            "justify_items": null,
            "left": null,
            "margin": null,
            "max_height": null,
            "max_width": null,
            "min_height": null,
            "min_width": null,
            "object_fit": null,
            "object_position": null,
            "order": null,
            "overflow": null,
            "overflow_x": null,
            "overflow_y": null,
            "padding": null,
            "right": null,
            "top": null,
            "visibility": null,
            "width": null
          }
        },
        "a5771f4957e54b43ae6be0d8e97cf7b1": {
          "model_module": "@jupyter-widgets/controls",
          "model_name": "DescriptionStyleModel",
          "model_module_version": "1.5.0",
          "state": {
            "_model_module": "@jupyter-widgets/controls",
            "_model_module_version": "1.5.0",
            "_model_name": "DescriptionStyleModel",
            "_view_count": null,
            "_view_module": "@jupyter-widgets/base",
            "_view_module_version": "1.2.0",
            "_view_name": "StyleView",
            "description_width": ""
          }
        },
        "04e1f97018984a7dac5916a9d643d032": {
          "model_module": "@jupyter-widgets/base",
          "model_name": "LayoutModel",
          "model_module_version": "1.2.0",
          "state": {
            "_model_module": "@jupyter-widgets/base",
            "_model_module_version": "1.2.0",
            "_model_name": "LayoutModel",
            "_view_count": null,
            "_view_module": "@jupyter-widgets/base",
            "_view_module_version": "1.2.0",
            "_view_name": "LayoutView",
            "align_content": null,
            "align_items": null,
            "align_self": null,
            "border": null,
            "bottom": null,
            "display": null,
            "flex": null,
            "flex_flow": null,
            "grid_area": null,
            "grid_auto_columns": null,
            "grid_auto_flow": null,
            "grid_auto_rows": null,
            "grid_column": null,
            "grid_gap": null,
            "grid_row": null,
            "grid_template_areas": null,
            "grid_template_columns": null,
            "grid_template_rows": null,
            "height": null,
            "justify_content": null,
            "justify_items": null,
            "left": null,
            "margin": null,
            "max_height": null,
            "max_width": null,
            "min_height": null,
            "min_width": null,
            "object_fit": null,
            "object_position": null,
            "order": null,
            "overflow": null,
            "overflow_x": null,
            "overflow_y": null,
            "padding": null,
            "right": null,
            "top": null,
            "visibility": null,
            "width": null
          }
        },
        "09fe4a465f004ca3a9b9a247866e8bf0": {
          "model_module": "@jupyter-widgets/controls",
          "model_name": "ProgressStyleModel",
          "model_module_version": "1.5.0",
          "state": {
            "_model_module": "@jupyter-widgets/controls",
            "_model_module_version": "1.5.0",
            "_model_name": "ProgressStyleModel",
            "_view_count": null,
            "_view_module": "@jupyter-widgets/base",
            "_view_module_version": "1.2.0",
            "_view_name": "StyleView",
            "bar_color": null,
            "description_width": ""
          }
        },
        "da7589d67a6940babd068f1eb7c8abeb": {
          "model_module": "@jupyter-widgets/base",
          "model_name": "LayoutModel",
          "model_module_version": "1.2.0",
          "state": {
            "_model_module": "@jupyter-widgets/base",
            "_model_module_version": "1.2.0",
            "_model_name": "LayoutModel",
            "_view_count": null,
            "_view_module": "@jupyter-widgets/base",
            "_view_module_version": "1.2.0",
            "_view_name": "LayoutView",
            "align_content": null,
            "align_items": null,
            "align_self": null,
            "border": null,
            "bottom": null,
            "display": null,
            "flex": null,
            "flex_flow": null,
            "grid_area": null,
            "grid_auto_columns": null,
            "grid_auto_flow": null,
            "grid_auto_rows": null,
            "grid_column": null,
            "grid_gap": null,
            "grid_row": null,
            "grid_template_areas": null,
            "grid_template_columns": null,
            "grid_template_rows": null,
            "height": null,
            "justify_content": null,
            "justify_items": null,
            "left": null,
            "margin": null,
            "max_height": null,
            "max_width": null,
            "min_height": null,
            "min_width": null,
            "object_fit": null,
            "object_position": null,
            "order": null,
            "overflow": null,
            "overflow_x": null,
            "overflow_y": null,
            "padding": null,
            "right": null,
            "top": null,
            "visibility": null,
            "width": null
          }
        },
        "33edc90cb5e74366ac12bc133fc69b00": {
          "model_module": "@jupyter-widgets/controls",
          "model_name": "DescriptionStyleModel",
          "model_module_version": "1.5.0",
          "state": {
            "_model_module": "@jupyter-widgets/controls",
            "_model_module_version": "1.5.0",
            "_model_name": "DescriptionStyleModel",
            "_view_count": null,
            "_view_module": "@jupyter-widgets/base",
            "_view_module_version": "1.2.0",
            "_view_name": "StyleView",
            "description_width": ""
          }
        },
        "a88299945b2441679bf40fb1acaf8285": {
          "model_module": "@jupyter-widgets/controls",
          "model_name": "HBoxModel",
          "model_module_version": "1.5.0",
          "state": {
            "_dom_classes": [],
            "_model_module": "@jupyter-widgets/controls",
            "_model_module_version": "1.5.0",
            "_model_name": "HBoxModel",
            "_view_count": null,
            "_view_module": "@jupyter-widgets/controls",
            "_view_module_version": "1.5.0",
            "_view_name": "HBoxView",
            "box_style": "",
            "children": [
              "IPY_MODEL_e1d4a254cd5a4b52ac125f9622807a85",
              "IPY_MODEL_22ec1679050e4a82b64e7281ef19bba1",
              "IPY_MODEL_9358b32d1ac842e4b54b3afff2b24a0b"
            ],
            "layout": "IPY_MODEL_0b1b11f513c049a58d63b77eb083c569"
          }
        },
        "e1d4a254cd5a4b52ac125f9622807a85": {
          "model_module": "@jupyter-widgets/controls",
          "model_name": "HTMLModel",
          "model_module_version": "1.5.0",
          "state": {
            "_dom_classes": [],
            "_model_module": "@jupyter-widgets/controls",
            "_model_module_version": "1.5.0",
            "_model_name": "HTMLModel",
            "_view_count": null,
            "_view_module": "@jupyter-widgets/controls",
            "_view_module_version": "1.5.0",
            "_view_name": "HTMLView",
            "description": "",
            "description_tooltip": null,
            "layout": "IPY_MODEL_19cf662808834bd7bdb626248ab1d45e",
            "placeholder": "​",
            "style": "IPY_MODEL_2c53d89b5e774bbc8782e503081f6a6c",
            "value": "Downloading: 100%"
          }
        },
        "22ec1679050e4a82b64e7281ef19bba1": {
          "model_module": "@jupyter-widgets/controls",
          "model_name": "FloatProgressModel",
          "model_module_version": "1.5.0",
          "state": {
            "_dom_classes": [],
            "_model_module": "@jupyter-widgets/controls",
            "_model_module_version": "1.5.0",
            "_model_name": "FloatProgressModel",
            "_view_count": null,
            "_view_module": "@jupyter-widgets/controls",
            "_view_module_version": "1.5.0",
            "_view_name": "ProgressView",
            "bar_style": "success",
            "description": "",
            "description_tooltip": null,
            "layout": "IPY_MODEL_0f6e4693d777409181f09fa6cbbcbb29",
            "max": 150,
            "min": 0,
            "orientation": "horizontal",
            "style": "IPY_MODEL_d462bdb8bc5743509d943a5efbcfa40b",
            "value": 150
          }
        },
        "9358b32d1ac842e4b54b3afff2b24a0b": {
          "model_module": "@jupyter-widgets/controls",
          "model_name": "HTMLModel",
          "model_module_version": "1.5.0",
          "state": {
            "_dom_classes": [],
            "_model_module": "@jupyter-widgets/controls",
            "_model_module_version": "1.5.0",
            "_model_name": "HTMLModel",
            "_view_count": null,
            "_view_module": "@jupyter-widgets/controls",
            "_view_module_version": "1.5.0",
            "_view_name": "HTMLView",
            "description": "",
            "description_tooltip": null,
            "layout": "IPY_MODEL_10caa4c019c54789bd3b779d3a327863",
            "placeholder": "​",
            "style": "IPY_MODEL_249c19fa2f3d4fc585681c58f648c692",
            "value": " 150/150 [00:00&lt;00:00, 2.71kB/s]"
          }
        },
        "0b1b11f513c049a58d63b77eb083c569": {
          "model_module": "@jupyter-widgets/base",
          "model_name": "LayoutModel",
          "model_module_version": "1.2.0",
          "state": {
            "_model_module": "@jupyter-widgets/base",
            "_model_module_version": "1.2.0",
            "_model_name": "LayoutModel",
            "_view_count": null,
            "_view_module": "@jupyter-widgets/base",
            "_view_module_version": "1.2.0",
            "_view_name": "LayoutView",
            "align_content": null,
            "align_items": null,
            "align_self": null,
            "border": null,
            "bottom": null,
            "display": null,
            "flex": null,
            "flex_flow": null,
            "grid_area": null,
            "grid_auto_columns": null,
            "grid_auto_flow": null,
            "grid_auto_rows": null,
            "grid_column": null,
            "grid_gap": null,
            "grid_row": null,
            "grid_template_areas": null,
            "grid_template_columns": null,
            "grid_template_rows": null,
            "height": null,
            "justify_content": null,
            "justify_items": null,
            "left": null,
            "margin": null,
            "max_height": null,
            "max_width": null,
            "min_height": null,
            "min_width": null,
            "object_fit": null,
            "object_position": null,
            "order": null,
            "overflow": null,
            "overflow_x": null,
            "overflow_y": null,
            "padding": null,
            "right": null,
            "top": null,
            "visibility": null,
            "width": null
          }
        },
        "19cf662808834bd7bdb626248ab1d45e": {
          "model_module": "@jupyter-widgets/base",
          "model_name": "LayoutModel",
          "model_module_version": "1.2.0",
          "state": {
            "_model_module": "@jupyter-widgets/base",
            "_model_module_version": "1.2.0",
            "_model_name": "LayoutModel",
            "_view_count": null,
            "_view_module": "@jupyter-widgets/base",
            "_view_module_version": "1.2.0",
            "_view_name": "LayoutView",
            "align_content": null,
            "align_items": null,
            "align_self": null,
            "border": null,
            "bottom": null,
            "display": null,
            "flex": null,
            "flex_flow": null,
            "grid_area": null,
            "grid_auto_columns": null,
            "grid_auto_flow": null,
            "grid_auto_rows": null,
            "grid_column": null,
            "grid_gap": null,
            "grid_row": null,
            "grid_template_areas": null,
            "grid_template_columns": null,
            "grid_template_rows": null,
            "height": null,
            "justify_content": null,
            "justify_items": null,
            "left": null,
            "margin": null,
            "max_height": null,
            "max_width": null,
            "min_height": null,
            "min_width": null,
            "object_fit": null,
            "object_position": null,
            "order": null,
            "overflow": null,
            "overflow_x": null,
            "overflow_y": null,
            "padding": null,
            "right": null,
            "top": null,
            "visibility": null,
            "width": null
          }
        },
        "2c53d89b5e774bbc8782e503081f6a6c": {
          "model_module": "@jupyter-widgets/controls",
          "model_name": "DescriptionStyleModel",
          "model_module_version": "1.5.0",
          "state": {
            "_model_module": "@jupyter-widgets/controls",
            "_model_module_version": "1.5.0",
            "_model_name": "DescriptionStyleModel",
            "_view_count": null,
            "_view_module": "@jupyter-widgets/base",
            "_view_module_version": "1.2.0",
            "_view_name": "StyleView",
            "description_width": ""
          }
        },
        "0f6e4693d777409181f09fa6cbbcbb29": {
          "model_module": "@jupyter-widgets/base",
          "model_name": "LayoutModel",
          "model_module_version": "1.2.0",
          "state": {
            "_model_module": "@jupyter-widgets/base",
            "_model_module_version": "1.2.0",
            "_model_name": "LayoutModel",
            "_view_count": null,
            "_view_module": "@jupyter-widgets/base",
            "_view_module_version": "1.2.0",
            "_view_name": "LayoutView",
            "align_content": null,
            "align_items": null,
            "align_self": null,
            "border": null,
            "bottom": null,
            "display": null,
            "flex": null,
            "flex_flow": null,
            "grid_area": null,
            "grid_auto_columns": null,
            "grid_auto_flow": null,
            "grid_auto_rows": null,
            "grid_column": null,
            "grid_gap": null,
            "grid_row": null,
            "grid_template_areas": null,
            "grid_template_columns": null,
            "grid_template_rows": null,
            "height": null,
            "justify_content": null,
            "justify_items": null,
            "left": null,
            "margin": null,
            "max_height": null,
            "max_width": null,
            "min_height": null,
            "min_width": null,
            "object_fit": null,
            "object_position": null,
            "order": null,
            "overflow": null,
            "overflow_x": null,
            "overflow_y": null,
            "padding": null,
            "right": null,
            "top": null,
            "visibility": null,
            "width": null
          }
        },
        "d462bdb8bc5743509d943a5efbcfa40b": {
          "model_module": "@jupyter-widgets/controls",
          "model_name": "ProgressStyleModel",
          "model_module_version": "1.5.0",
          "state": {
            "_model_module": "@jupyter-widgets/controls",
            "_model_module_version": "1.5.0",
            "_model_name": "ProgressStyleModel",
            "_view_count": null,
            "_view_module": "@jupyter-widgets/base",
            "_view_module_version": "1.2.0",
            "_view_name": "StyleView",
            "bar_color": null,
            "description_width": ""
          }
        },
        "10caa4c019c54789bd3b779d3a327863": {
          "model_module": "@jupyter-widgets/base",
          "model_name": "LayoutModel",
          "model_module_version": "1.2.0",
          "state": {
            "_model_module": "@jupyter-widgets/base",
            "_model_module_version": "1.2.0",
            "_model_name": "LayoutModel",
            "_view_count": null,
            "_view_module": "@jupyter-widgets/base",
            "_view_module_version": "1.2.0",
            "_view_name": "LayoutView",
            "align_content": null,
            "align_items": null,
            "align_self": null,
            "border": null,
            "bottom": null,
            "display": null,
            "flex": null,
            "flex_flow": null,
            "grid_area": null,
            "grid_auto_columns": null,
            "grid_auto_flow": null,
            "grid_auto_rows": null,
            "grid_column": null,
            "grid_gap": null,
            "grid_row": null,
            "grid_template_areas": null,
            "grid_template_columns": null,
            "grid_template_rows": null,
            "height": null,
            "justify_content": null,
            "justify_items": null,
            "left": null,
            "margin": null,
            "max_height": null,
            "max_width": null,
            "min_height": null,
            "min_width": null,
            "object_fit": null,
            "object_position": null,
            "order": null,
            "overflow": null,
            "overflow_x": null,
            "overflow_y": null,
            "padding": null,
            "right": null,
            "top": null,
            "visibility": null,
            "width": null
          }
        },
        "249c19fa2f3d4fc585681c58f648c692": {
          "model_module": "@jupyter-widgets/controls",
          "model_name": "DescriptionStyleModel",
          "model_module_version": "1.5.0",
          "state": {
            "_model_module": "@jupyter-widgets/controls",
            "_model_module_version": "1.5.0",
            "_model_name": "DescriptionStyleModel",
            "_view_count": null,
            "_view_module": "@jupyter-widgets/base",
            "_view_module_version": "1.2.0",
            "_view_name": "StyleView",
            "description_width": ""
          }
        },
        "daeacfefab674439a412c636ebe0b5c0": {
          "model_module": "@jupyter-widgets/controls",
          "model_name": "HBoxModel",
          "model_module_version": "1.5.0",
          "state": {
            "_dom_classes": [],
            "_model_module": "@jupyter-widgets/controls",
            "_model_module_version": "1.5.0",
            "_model_name": "HBoxModel",
            "_view_count": null,
            "_view_module": "@jupyter-widgets/controls",
            "_view_module_version": "1.5.0",
            "_view_name": "HBoxView",
            "box_style": "",
            "children": [
              "IPY_MODEL_86c211d1cb9c4df3ad345651d615374e",
              "IPY_MODEL_fdfee47f75e04f719fed5fade84f98de",
              "IPY_MODEL_898e5e5e87fd4fd485c908fd89d3ca92"
            ],
            "layout": "IPY_MODEL_dc64a3863f484470adcd6dd04c61df4b"
          }
        },
        "86c211d1cb9c4df3ad345651d615374e": {
          "model_module": "@jupyter-widgets/controls",
          "model_name": "HTMLModel",
          "model_module_version": "1.5.0",
          "state": {
            "_dom_classes": [],
            "_model_module": "@jupyter-widgets/controls",
            "_model_module_version": "1.5.0",
            "_model_name": "HTMLModel",
            "_view_count": null,
            "_view_module": "@jupyter-widgets/controls",
            "_view_module_version": "1.5.0",
            "_view_name": "HTMLView",
            "description": "",
            "description_tooltip": null,
            "layout": "IPY_MODEL_7891331f8f56427388786ff57809d89b",
            "placeholder": "​",
            "style": "IPY_MODEL_d58acdda69dd4d70b2131d7d46ac7335",
            "value": "Downloading: 100%"
          }
        },
        "fdfee47f75e04f719fed5fade84f98de": {
          "model_module": "@jupyter-widgets/controls",
          "model_name": "FloatProgressModel",
          "model_module_version": "1.5.0",
          "state": {
            "_dom_classes": [],
            "_model_module": "@jupyter-widgets/controls",
            "_model_module_version": "1.5.0",
            "_model_name": "FloatProgressModel",
            "_view_count": null,
            "_view_module": "@jupyter-widgets/controls",
            "_view_module_version": "1.5.0",
            "_view_name": "ProgressView",
            "bar_style": "success",
            "description": "",
            "description_tooltip": null,
            "layout": "IPY_MODEL_591fc54f35484a75b8bb70aaa8f03e4d",
            "max": 665,
            "min": 0,
            "orientation": "horizontal",
            "style": "IPY_MODEL_95715a5c21cd4d55b2b82141c681df4f",
            "value": 665
          }
        },
        "898e5e5e87fd4fd485c908fd89d3ca92": {
          "model_module": "@jupyter-widgets/controls",
          "model_name": "HTMLModel",
          "model_module_version": "1.5.0",
          "state": {
            "_dom_classes": [],
            "_model_module": "@jupyter-widgets/controls",
            "_model_module_version": "1.5.0",
            "_model_name": "HTMLModel",
            "_view_count": null,
            "_view_module": "@jupyter-widgets/controls",
            "_view_module_version": "1.5.0",
            "_view_name": "HTMLView",
            "description": "",
            "description_tooltip": null,
            "layout": "IPY_MODEL_5505d5286a4f44e0890239423d30dafd",
            "placeholder": "​",
            "style": "IPY_MODEL_83d6dae3a4264147abe40cd6c3d08181",
            "value": " 665/665 [00:00&lt;00:00, 15.6kB/s]"
          }
        },
        "dc64a3863f484470adcd6dd04c61df4b": {
          "model_module": "@jupyter-widgets/base",
          "model_name": "LayoutModel",
          "model_module_version": "1.2.0",
          "state": {
            "_model_module": "@jupyter-widgets/base",
            "_model_module_version": "1.2.0",
            "_model_name": "LayoutModel",
            "_view_count": null,
            "_view_module": "@jupyter-widgets/base",
            "_view_module_version": "1.2.0",
            "_view_name": "LayoutView",
            "align_content": null,
            "align_items": null,
            "align_self": null,
            "border": null,
            "bottom": null,
            "display": null,
            "flex": null,
            "flex_flow": null,
            "grid_area": null,
            "grid_auto_columns": null,
            "grid_auto_flow": null,
            "grid_auto_rows": null,
            "grid_column": null,
            "grid_gap": null,
            "grid_row": null,
            "grid_template_areas": null,
            "grid_template_columns": null,
            "grid_template_rows": null,
            "height": null,
            "justify_content": null,
            "justify_items": null,
            "left": null,
            "margin": null,
            "max_height": null,
            "max_width": null,
            "min_height": null,
            "min_width": null,
            "object_fit": null,
            "object_position": null,
            "order": null,
            "overflow": null,
            "overflow_x": null,
            "overflow_y": null,
            "padding": null,
            "right": null,
            "top": null,
            "visibility": null,
            "width": null
          }
        },
        "7891331f8f56427388786ff57809d89b": {
          "model_module": "@jupyter-widgets/base",
          "model_name": "LayoutModel",
          "model_module_version": "1.2.0",
          "state": {
            "_model_module": "@jupyter-widgets/base",
            "_model_module_version": "1.2.0",
            "_model_name": "LayoutModel",
            "_view_count": null,
            "_view_module": "@jupyter-widgets/base",
            "_view_module_version": "1.2.0",
            "_view_name": "LayoutView",
            "align_content": null,
            "align_items": null,
            "align_self": null,
            "border": null,
            "bottom": null,
            "display": null,
            "flex": null,
            "flex_flow": null,
            "grid_area": null,
            "grid_auto_columns": null,
            "grid_auto_flow": null,
            "grid_auto_rows": null,
            "grid_column": null,
            "grid_gap": null,
            "grid_row": null,
            "grid_template_areas": null,
            "grid_template_columns": null,
            "grid_template_rows": null,
            "height": null,
            "justify_content": null,
            "justify_items": null,
            "left": null,
            "margin": null,
            "max_height": null,
            "max_width": null,
            "min_height": null,
            "min_width": null,
            "object_fit": null,
            "object_position": null,
            "order": null,
            "overflow": null,
            "overflow_x": null,
            "overflow_y": null,
            "padding": null,
            "right": null,
            "top": null,
            "visibility": null,
            "width": null
          }
        },
        "d58acdda69dd4d70b2131d7d46ac7335": {
          "model_module": "@jupyter-widgets/controls",
          "model_name": "DescriptionStyleModel",
          "model_module_version": "1.5.0",
          "state": {
            "_model_module": "@jupyter-widgets/controls",
            "_model_module_version": "1.5.0",
            "_model_name": "DescriptionStyleModel",
            "_view_count": null,
            "_view_module": "@jupyter-widgets/base",
            "_view_module_version": "1.2.0",
            "_view_name": "StyleView",
            "description_width": ""
          }
        },
        "591fc54f35484a75b8bb70aaa8f03e4d": {
          "model_module": "@jupyter-widgets/base",
          "model_name": "LayoutModel",
          "model_module_version": "1.2.0",
          "state": {
            "_model_module": "@jupyter-widgets/base",
            "_model_module_version": "1.2.0",
            "_model_name": "LayoutModel",
            "_view_count": null,
            "_view_module": "@jupyter-widgets/base",
            "_view_module_version": "1.2.0",
            "_view_name": "LayoutView",
            "align_content": null,
            "align_items": null,
            "align_self": null,
            "border": null,
            "bottom": null,
            "display": null,
            "flex": null,
            "flex_flow": null,
            "grid_area": null,
            "grid_auto_columns": null,
            "grid_auto_flow": null,
            "grid_auto_rows": null,
            "grid_column": null,
            "grid_gap": null,
            "grid_row": null,
            "grid_template_areas": null,
            "grid_template_columns": null,
            "grid_template_rows": null,
            "height": null,
            "justify_content": null,
            "justify_items": null,
            "left": null,
            "margin": null,
            "max_height": null,
            "max_width": null,
            "min_height": null,
            "min_width": null,
            "object_fit": null,
            "object_position": null,
            "order": null,
            "overflow": null,
            "overflow_x": null,
            "overflow_y": null,
            "padding": null,
            "right": null,
            "top": null,
            "visibility": null,
            "width": null
          }
        },
        "95715a5c21cd4d55b2b82141c681df4f": {
          "model_module": "@jupyter-widgets/controls",
          "model_name": "ProgressStyleModel",
          "model_module_version": "1.5.0",
          "state": {
            "_model_module": "@jupyter-widgets/controls",
            "_model_module_version": "1.5.0",
            "_model_name": "ProgressStyleModel",
            "_view_count": null,
            "_view_module": "@jupyter-widgets/base",
            "_view_module_version": "1.2.0",
            "_view_name": "StyleView",
            "bar_color": null,
            "description_width": ""
          }
        },
        "5505d5286a4f44e0890239423d30dafd": {
          "model_module": "@jupyter-widgets/base",
          "model_name": "LayoutModel",
          "model_module_version": "1.2.0",
          "state": {
            "_model_module": "@jupyter-widgets/base",
            "_model_module_version": "1.2.0",
            "_model_name": "LayoutModel",
            "_view_count": null,
            "_view_module": "@jupyter-widgets/base",
            "_view_module_version": "1.2.0",
            "_view_name": "LayoutView",
            "align_content": null,
            "align_items": null,
            "align_self": null,
            "border": null,
            "bottom": null,
            "display": null,
            "flex": null,
            "flex_flow": null,
            "grid_area": null,
            "grid_auto_columns": null,
            "grid_auto_flow": null,
            "grid_auto_rows": null,
            "grid_column": null,
            "grid_gap": null,
            "grid_row": null,
            "grid_template_areas": null,
            "grid_template_columns": null,
            "grid_template_rows": null,
            "height": null,
            "justify_content": null,
            "justify_items": null,
            "left": null,
            "margin": null,
            "max_height": null,
            "max_width": null,
            "min_height": null,
            "min_width": null,
            "object_fit": null,
            "object_position": null,
            "order": null,
            "overflow": null,
            "overflow_x": null,
            "overflow_y": null,
            "padding": null,
            "right": null,
            "top": null,
            "visibility": null,
            "width": null
          }
        },
        "83d6dae3a4264147abe40cd6c3d08181": {
          "model_module": "@jupyter-widgets/controls",
          "model_name": "DescriptionStyleModel",
          "model_module_version": "1.5.0",
          "state": {
            "_model_module": "@jupyter-widgets/controls",
            "_model_module_version": "1.5.0",
            "_model_name": "DescriptionStyleModel",
            "_view_count": null,
            "_view_module": "@jupyter-widgets/base",
            "_view_module_version": "1.2.0",
            "_view_name": "StyleView",
            "description_width": ""
          }
        },
        "e9c1d59290e940fb829370a39dd59aa3": {
          "model_module": "@jupyter-widgets/controls",
          "model_name": "HBoxModel",
          "model_module_version": "1.5.0",
          "state": {
            "_dom_classes": [],
            "_model_module": "@jupyter-widgets/controls",
            "_model_module_version": "1.5.0",
            "_model_name": "HBoxModel",
            "_view_count": null,
            "_view_module": "@jupyter-widgets/controls",
            "_view_module_version": "1.5.0",
            "_view_name": "HBoxView",
            "box_style": "",
            "children": [
              "IPY_MODEL_1886f0be7459467b89e937ef739cacef",
              "IPY_MODEL_c9e9153889604143b2c6df4b30d36bbe",
              "IPY_MODEL_34fadecc23114e22856e8d82a61bea15"
            ],
            "layout": "IPY_MODEL_7102b3d015dd4123a3809f95c8dd6156"
          }
        },
        "1886f0be7459467b89e937ef739cacef": {
          "model_module": "@jupyter-widgets/controls",
          "model_name": "HTMLModel",
          "model_module_version": "1.5.0",
          "state": {
            "_dom_classes": [],
            "_model_module": "@jupyter-widgets/controls",
            "_model_module_version": "1.5.0",
            "_model_name": "HTMLModel",
            "_view_count": null,
            "_view_module": "@jupyter-widgets/controls",
            "_view_module_version": "1.5.0",
            "_view_name": "HTMLView",
            "description": "",
            "description_tooltip": null,
            "layout": "IPY_MODEL_90df716a45934cdbb7b2ae71d0cc9be1",
            "placeholder": "​",
            "style": "IPY_MODEL_8fda57ffcf19460ea89538bdc34a7355",
            "value": "Downloading: 100%"
          }
        },
        "c9e9153889604143b2c6df4b30d36bbe": {
          "model_module": "@jupyter-widgets/controls",
          "model_name": "FloatProgressModel",
          "model_module_version": "1.5.0",
          "state": {
            "_dom_classes": [],
            "_model_module": "@jupyter-widgets/controls",
            "_model_module_version": "1.5.0",
            "_model_name": "FloatProgressModel",
            "_view_count": null,
            "_view_module": "@jupyter-widgets/controls",
            "_view_module_version": "1.5.0",
            "_view_name": "ProgressView",
            "bar_style": "success",
            "description": "",
            "description_tooltip": null,
            "layout": "IPY_MODEL_6855c333c8594d5e860a49f0743b3cd7",
            "max": 548118077,
            "min": 0,
            "orientation": "horizontal",
            "style": "IPY_MODEL_fa17a8f6c78d415fba423489eb7bb554",
            "value": 548118077
          }
        },
        "34fadecc23114e22856e8d82a61bea15": {
          "model_module": "@jupyter-widgets/controls",
          "model_name": "HTMLModel",
          "model_module_version": "1.5.0",
          "state": {
            "_dom_classes": [],
            "_model_module": "@jupyter-widgets/controls",
            "_model_module_version": "1.5.0",
            "_model_name": "HTMLModel",
            "_view_count": null,
            "_view_module": "@jupyter-widgets/controls",
            "_view_module_version": "1.5.0",
            "_view_name": "HTMLView",
            "description": "",
            "description_tooltip": null,
            "layout": "IPY_MODEL_7e8cd75db0ad40abb6286843baac4900",
            "placeholder": "​",
            "style": "IPY_MODEL_591a421697f245919ccd70c7f6d6d53e",
            "value": " 523M/523M [00:12&lt;00:00, 51.6MB/s]"
          }
        },
        "7102b3d015dd4123a3809f95c8dd6156": {
          "model_module": "@jupyter-widgets/base",
          "model_name": "LayoutModel",
          "model_module_version": "1.2.0",
          "state": {
            "_model_module": "@jupyter-widgets/base",
            "_model_module_version": "1.2.0",
            "_model_name": "LayoutModel",
            "_view_count": null,
            "_view_module": "@jupyter-widgets/base",
            "_view_module_version": "1.2.0",
            "_view_name": "LayoutView",
            "align_content": null,
            "align_items": null,
            "align_self": null,
            "border": null,
            "bottom": null,
            "display": null,
            "flex": null,
            "flex_flow": null,
            "grid_area": null,
            "grid_auto_columns": null,
            "grid_auto_flow": null,
            "grid_auto_rows": null,
            "grid_column": null,
            "grid_gap": null,
            "grid_row": null,
            "grid_template_areas": null,
            "grid_template_columns": null,
            "grid_template_rows": null,
            "height": null,
            "justify_content": null,
            "justify_items": null,
            "left": null,
            "margin": null,
            "max_height": null,
            "max_width": null,
            "min_height": null,
            "min_width": null,
            "object_fit": null,
            "object_position": null,
            "order": null,
            "overflow": null,
            "overflow_x": null,
            "overflow_y": null,
            "padding": null,
            "right": null,
            "top": null,
            "visibility": null,
            "width": null
          }
        },
        "90df716a45934cdbb7b2ae71d0cc9be1": {
          "model_module": "@jupyter-widgets/base",
          "model_name": "LayoutModel",
          "model_module_version": "1.2.0",
          "state": {
            "_model_module": "@jupyter-widgets/base",
            "_model_module_version": "1.2.0",
            "_model_name": "LayoutModel",
            "_view_count": null,
            "_view_module": "@jupyter-widgets/base",
            "_view_module_version": "1.2.0",
            "_view_name": "LayoutView",
            "align_content": null,
            "align_items": null,
            "align_self": null,
            "border": null,
            "bottom": null,
            "display": null,
            "flex": null,
            "flex_flow": null,
            "grid_area": null,
            "grid_auto_columns": null,
            "grid_auto_flow": null,
            "grid_auto_rows": null,
            "grid_column": null,
            "grid_gap": null,
            "grid_row": null,
            "grid_template_areas": null,
            "grid_template_columns": null,
            "grid_template_rows": null,
            "height": null,
            "justify_content": null,
            "justify_items": null,
            "left": null,
            "margin": null,
            "max_height": null,
            "max_width": null,
            "min_height": null,
            "min_width": null,
            "object_fit": null,
            "object_position": null,
            "order": null,
            "overflow": null,
            "overflow_x": null,
            "overflow_y": null,
            "padding": null,
            "right": null,
            "top": null,
            "visibility": null,
            "width": null
          }
        },
        "8fda57ffcf19460ea89538bdc34a7355": {
          "model_module": "@jupyter-widgets/controls",
          "model_name": "DescriptionStyleModel",
          "model_module_version": "1.5.0",
          "state": {
            "_model_module": "@jupyter-widgets/controls",
            "_model_module_version": "1.5.0",
            "_model_name": "DescriptionStyleModel",
            "_view_count": null,
            "_view_module": "@jupyter-widgets/base",
            "_view_module_version": "1.2.0",
            "_view_name": "StyleView",
            "description_width": ""
          }
        },
        "6855c333c8594d5e860a49f0743b3cd7": {
          "model_module": "@jupyter-widgets/base",
          "model_name": "LayoutModel",
          "model_module_version": "1.2.0",
          "state": {
            "_model_module": "@jupyter-widgets/base",
            "_model_module_version": "1.2.0",
            "_model_name": "LayoutModel",
            "_view_count": null,
            "_view_module": "@jupyter-widgets/base",
            "_view_module_version": "1.2.0",
            "_view_name": "LayoutView",
            "align_content": null,
            "align_items": null,
            "align_self": null,
            "border": null,
            "bottom": null,
            "display": null,
            "flex": null,
            "flex_flow": null,
            "grid_area": null,
            "grid_auto_columns": null,
            "grid_auto_flow": null,
            "grid_auto_rows": null,
            "grid_column": null,
            "grid_gap": null,
            "grid_row": null,
            "grid_template_areas": null,
            "grid_template_columns": null,
            "grid_template_rows": null,
            "height": null,
            "justify_content": null,
            "justify_items": null,
            "left": null,
            "margin": null,
            "max_height": null,
            "max_width": null,
            "min_height": null,
            "min_width": null,
            "object_fit": null,
            "object_position": null,
            "order": null,
            "overflow": null,
            "overflow_x": null,
            "overflow_y": null,
            "padding": null,
            "right": null,
            "top": null,
            "visibility": null,
            "width": null
          }
        },
        "fa17a8f6c78d415fba423489eb7bb554": {
          "model_module": "@jupyter-widgets/controls",
          "model_name": "ProgressStyleModel",
          "model_module_version": "1.5.0",
          "state": {
            "_model_module": "@jupyter-widgets/controls",
            "_model_module_version": "1.5.0",
            "_model_name": "ProgressStyleModel",
            "_view_count": null,
            "_view_module": "@jupyter-widgets/base",
            "_view_module_version": "1.2.0",
            "_view_name": "StyleView",
            "bar_color": null,
            "description_width": ""
          }
        },
        "7e8cd75db0ad40abb6286843baac4900": {
          "model_module": "@jupyter-widgets/base",
          "model_name": "LayoutModel",
          "model_module_version": "1.2.0",
          "state": {
            "_model_module": "@jupyter-widgets/base",
            "_model_module_version": "1.2.0",
            "_model_name": "LayoutModel",
            "_view_count": null,
            "_view_module": "@jupyter-widgets/base",
            "_view_module_version": "1.2.0",
            "_view_name": "LayoutView",
            "align_content": null,
            "align_items": null,
            "align_self": null,
            "border": null,
            "bottom": null,
            "display": null,
            "flex": null,
            "flex_flow": null,
            "grid_area": null,
            "grid_auto_columns": null,
            "grid_auto_flow": null,
            "grid_auto_rows": null,
            "grid_column": null,
            "grid_gap": null,
            "grid_row": null,
            "grid_template_areas": null,
            "grid_template_columns": null,
            "grid_template_rows": null,
            "height": null,
            "justify_content": null,
            "justify_items": null,
            "left": null,
            "margin": null,
            "max_height": null,
            "max_width": null,
            "min_height": null,
            "min_width": null,
            "object_fit": null,
            "object_position": null,
            "order": null,
            "overflow": null,
            "overflow_x": null,
            "overflow_y": null,
            "padding": null,
            "right": null,
            "top": null,
            "visibility": null,
            "width": null
          }
        },
        "591a421697f245919ccd70c7f6d6d53e": {
          "model_module": "@jupyter-widgets/controls",
          "model_name": "DescriptionStyleModel",
          "model_module_version": "1.5.0",
          "state": {
            "_model_module": "@jupyter-widgets/controls",
            "_model_module_version": "1.5.0",
            "_model_name": "DescriptionStyleModel",
            "_view_count": null,
            "_view_module": "@jupyter-widgets/base",
            "_view_module_version": "1.2.0",
            "_view_name": "StyleView",
            "description_width": ""
          }
        },
        "406297335bf34213a0617f97adbe30f3": {
          "model_module": "@jupyter-widgets/controls",
          "model_name": "HBoxModel",
          "model_module_version": "1.5.0",
          "state": {
            "_dom_classes": [],
            "_model_module": "@jupyter-widgets/controls",
            "_model_module_version": "1.5.0",
            "_model_name": "HBoxModel",
            "_view_count": null,
            "_view_module": "@jupyter-widgets/controls",
            "_view_module_version": "1.5.0",
            "_view_name": "HBoxView",
            "box_style": "",
            "children": [
              "IPY_MODEL_d56ef5eda4724fdeb63293c76834636f",
              "IPY_MODEL_154843c14792461a912b2b3032b737f2",
              "IPY_MODEL_6cc67ec98db44e50998f3e60ed22679e"
            ],
            "layout": "IPY_MODEL_65916094877a415dbec1412f91c893f0"
          }
        },
        "d56ef5eda4724fdeb63293c76834636f": {
          "model_module": "@jupyter-widgets/controls",
          "model_name": "HTMLModel",
          "model_module_version": "1.5.0",
          "state": {
            "_dom_classes": [],
            "_model_module": "@jupyter-widgets/controls",
            "_model_module_version": "1.5.0",
            "_model_name": "HTMLModel",
            "_view_count": null,
            "_view_module": "@jupyter-widgets/controls",
            "_view_module_version": "1.5.0",
            "_view_name": "HTMLView",
            "description": "",
            "description_tooltip": null,
            "layout": "IPY_MODEL_f54e795b8cc24dac9af73affb83157cb",
            "placeholder": "​",
            "style": "IPY_MODEL_5ce5e695d9144807b15bfb7e7414af46",
            "value": "Downloading: 100%"
          }
        },
        "154843c14792461a912b2b3032b737f2": {
          "model_module": "@jupyter-widgets/controls",
          "model_name": "FloatProgressModel",
          "model_module_version": "1.5.0",
          "state": {
            "_dom_classes": [],
            "_model_module": "@jupyter-widgets/controls",
            "_model_module_version": "1.5.0",
            "_model_name": "FloatProgressModel",
            "_view_count": null,
            "_view_module": "@jupyter-widgets/controls",
            "_view_module_version": "1.5.0",
            "_view_name": "ProgressView",
            "bar_style": "success",
            "description": "",
            "description_tooltip": null,
            "layout": "IPY_MODEL_fe336eba0fdd4c7fbd69741c3cea182b",
            "max": 1042301,
            "min": 0,
            "orientation": "horizontal",
            "style": "IPY_MODEL_38c14694b13e4f89aa964d318de07b73",
            "value": 1042301
          }
        },
        "6cc67ec98db44e50998f3e60ed22679e": {
          "model_module": "@jupyter-widgets/controls",
          "model_name": "HTMLModel",
          "model_module_version": "1.5.0",
          "state": {
            "_dom_classes": [],
            "_model_module": "@jupyter-widgets/controls",
            "_model_module_version": "1.5.0",
            "_model_name": "HTMLModel",
            "_view_count": null,
            "_view_module": "@jupyter-widgets/controls",
            "_view_module_version": "1.5.0",
            "_view_name": "HTMLView",
            "description": "",
            "description_tooltip": null,
            "layout": "IPY_MODEL_8b3c29b55e894b34bac8d2d2611451fd",
            "placeholder": "​",
            "style": "IPY_MODEL_153b5345897341f3a604d8425148fd8d",
            "value": " 0.99M/0.99M [00:00&lt;00:00, 1.98MB/s]"
          }
        },
        "65916094877a415dbec1412f91c893f0": {
          "model_module": "@jupyter-widgets/base",
          "model_name": "LayoutModel",
          "model_module_version": "1.2.0",
          "state": {
            "_model_module": "@jupyter-widgets/base",
            "_model_module_version": "1.2.0",
            "_model_name": "LayoutModel",
            "_view_count": null,
            "_view_module": "@jupyter-widgets/base",
            "_view_module_version": "1.2.0",
            "_view_name": "LayoutView",
            "align_content": null,
            "align_items": null,
            "align_self": null,
            "border": null,
            "bottom": null,
            "display": null,
            "flex": null,
            "flex_flow": null,
            "grid_area": null,
            "grid_auto_columns": null,
            "grid_auto_flow": null,
            "grid_auto_rows": null,
            "grid_column": null,
            "grid_gap": null,
            "grid_row": null,
            "grid_template_areas": null,
            "grid_template_columns": null,
            "grid_template_rows": null,
            "height": null,
            "justify_content": null,
            "justify_items": null,
            "left": null,
            "margin": null,
            "max_height": null,
            "max_width": null,
            "min_height": null,
            "min_width": null,
            "object_fit": null,
            "object_position": null,
            "order": null,
            "overflow": null,
            "overflow_x": null,
            "overflow_y": null,
            "padding": null,
            "right": null,
            "top": null,
            "visibility": null,
            "width": null
          }
        },
        "f54e795b8cc24dac9af73affb83157cb": {
          "model_module": "@jupyter-widgets/base",
          "model_name": "LayoutModel",
          "model_module_version": "1.2.0",
          "state": {
            "_model_module": "@jupyter-widgets/base",
            "_model_module_version": "1.2.0",
            "_model_name": "LayoutModel",
            "_view_count": null,
            "_view_module": "@jupyter-widgets/base",
            "_view_module_version": "1.2.0",
            "_view_name": "LayoutView",
            "align_content": null,
            "align_items": null,
            "align_self": null,
            "border": null,
            "bottom": null,
            "display": null,
            "flex": null,
            "flex_flow": null,
            "grid_area": null,
            "grid_auto_columns": null,
            "grid_auto_flow": null,
            "grid_auto_rows": null,
            "grid_column": null,
            "grid_gap": null,
            "grid_row": null,
            "grid_template_areas": null,
            "grid_template_columns": null,
            "grid_template_rows": null,
            "height": null,
            "justify_content": null,
            "justify_items": null,
            "left": null,
            "margin": null,
            "max_height": null,
            "max_width": null,
            "min_height": null,
            "min_width": null,
            "object_fit": null,
            "object_position": null,
            "order": null,
            "overflow": null,
            "overflow_x": null,
            "overflow_y": null,
            "padding": null,
            "right": null,
            "top": null,
            "visibility": null,
            "width": null
          }
        },
        "5ce5e695d9144807b15bfb7e7414af46": {
          "model_module": "@jupyter-widgets/controls",
          "model_name": "DescriptionStyleModel",
          "model_module_version": "1.5.0",
          "state": {
            "_model_module": "@jupyter-widgets/controls",
            "_model_module_version": "1.5.0",
            "_model_name": "DescriptionStyleModel",
            "_view_count": null,
            "_view_module": "@jupyter-widgets/base",
            "_view_module_version": "1.2.0",
            "_view_name": "StyleView",
            "description_width": ""
          }
        },
        "fe336eba0fdd4c7fbd69741c3cea182b": {
          "model_module": "@jupyter-widgets/base",
          "model_name": "LayoutModel",
          "model_module_version": "1.2.0",
          "state": {
            "_model_module": "@jupyter-widgets/base",
            "_model_module_version": "1.2.0",
            "_model_name": "LayoutModel",
            "_view_count": null,
            "_view_module": "@jupyter-widgets/base",
            "_view_module_version": "1.2.0",
            "_view_name": "LayoutView",
            "align_content": null,
            "align_items": null,
            "align_self": null,
            "border": null,
            "bottom": null,
            "display": null,
            "flex": null,
            "flex_flow": null,
            "grid_area": null,
            "grid_auto_columns": null,
            "grid_auto_flow": null,
            "grid_auto_rows": null,
            "grid_column": null,
            "grid_gap": null,
            "grid_row": null,
            "grid_template_areas": null,
            "grid_template_columns": null,
            "grid_template_rows": null,
            "height": null,
            "justify_content": null,
            "justify_items": null,
            "left": null,
            "margin": null,
            "max_height": null,
            "max_width": null,
            "min_height": null,
            "min_width": null,
            "object_fit": null,
            "object_position": null,
            "order": null,
            "overflow": null,
            "overflow_x": null,
            "overflow_y": null,
            "padding": null,
            "right": null,
            "top": null,
            "visibility": null,
            "width": null
          }
        },
        "38c14694b13e4f89aa964d318de07b73": {
          "model_module": "@jupyter-widgets/controls",
          "model_name": "ProgressStyleModel",
          "model_module_version": "1.5.0",
          "state": {
            "_model_module": "@jupyter-widgets/controls",
            "_model_module_version": "1.5.0",
            "_model_name": "ProgressStyleModel",
            "_view_count": null,
            "_view_module": "@jupyter-widgets/base",
            "_view_module_version": "1.2.0",
            "_view_name": "StyleView",
            "bar_color": null,
            "description_width": ""
          }
        },
        "8b3c29b55e894b34bac8d2d2611451fd": {
          "model_module": "@jupyter-widgets/base",
          "model_name": "LayoutModel",
          "model_module_version": "1.2.0",
          "state": {
            "_model_module": "@jupyter-widgets/base",
            "_model_module_version": "1.2.0",
            "_model_name": "LayoutModel",
            "_view_count": null,
            "_view_module": "@jupyter-widgets/base",
            "_view_module_version": "1.2.0",
            "_view_name": "LayoutView",
            "align_content": null,
            "align_items": null,
            "align_self": null,
            "border": null,
            "bottom": null,
            "display": null,
            "flex": null,
            "flex_flow": null,
            "grid_area": null,
            "grid_auto_columns": null,
            "grid_auto_flow": null,
            "grid_auto_rows": null,
            "grid_column": null,
            "grid_gap": null,
            "grid_row": null,
            "grid_template_areas": null,
            "grid_template_columns": null,
            "grid_template_rows": null,
            "height": null,
            "justify_content": null,
            "justify_items": null,
            "left": null,
            "margin": null,
            "max_height": null,
            "max_width": null,
            "min_height": null,
            "min_width": null,
            "object_fit": null,
            "object_position": null,
            "order": null,
            "overflow": null,
            "overflow_x": null,
            "overflow_y": null,
            "padding": null,
            "right": null,
            "top": null,
            "visibility": null,
            "width": null
          }
        },
        "153b5345897341f3a604d8425148fd8d": {
          "model_module": "@jupyter-widgets/controls",
          "model_name": "DescriptionStyleModel",
          "model_module_version": "1.5.0",
          "state": {
            "_model_module": "@jupyter-widgets/controls",
            "_model_module_version": "1.5.0",
            "_model_name": "DescriptionStyleModel",
            "_view_count": null,
            "_view_module": "@jupyter-widgets/base",
            "_view_module_version": "1.2.0",
            "_view_name": "StyleView",
            "description_width": ""
          }
        },
        "2fa7d9213636455fbaca74592055bf2e": {
          "model_module": "@jupyter-widgets/controls",
          "model_name": "HBoxModel",
          "model_module_version": "1.5.0",
          "state": {
            "_dom_classes": [],
            "_model_module": "@jupyter-widgets/controls",
            "_model_module_version": "1.5.0",
            "_model_name": "HBoxModel",
            "_view_count": null,
            "_view_module": "@jupyter-widgets/controls",
            "_view_module_version": "1.5.0",
            "_view_name": "HBoxView",
            "box_style": "",
            "children": [
              "IPY_MODEL_99f19dd33f974af7a98b6086e9093d98",
              "IPY_MODEL_c51f647cff294501a78bf17ab759e089",
              "IPY_MODEL_27de49d5ef434ace9dbe1d0748c3d61c"
            ],
            "layout": "IPY_MODEL_dc5e63540b4f46669c66de69f51087e2"
          }
        },
        "99f19dd33f974af7a98b6086e9093d98": {
          "model_module": "@jupyter-widgets/controls",
          "model_name": "HTMLModel",
          "model_module_version": "1.5.0",
          "state": {
            "_dom_classes": [],
            "_model_module": "@jupyter-widgets/controls",
            "_model_module_version": "1.5.0",
            "_model_name": "HTMLModel",
            "_view_count": null,
            "_view_module": "@jupyter-widgets/controls",
            "_view_module_version": "1.5.0",
            "_view_name": "HTMLView",
            "description": "",
            "description_tooltip": null,
            "layout": "IPY_MODEL_63f542500487419ba0dc9cca32ed258f",
            "placeholder": "​",
            "style": "IPY_MODEL_57c3bcae795c442787543d226fb98462",
            "value": "Downloading: 100%"
          }
        },
        "c51f647cff294501a78bf17ab759e089": {
          "model_module": "@jupyter-widgets/controls",
          "model_name": "FloatProgressModel",
          "model_module_version": "1.5.0",
          "state": {
            "_dom_classes": [],
            "_model_module": "@jupyter-widgets/controls",
            "_model_module_version": "1.5.0",
            "_model_name": "FloatProgressModel",
            "_view_count": null,
            "_view_module": "@jupyter-widgets/controls",
            "_view_module_version": "1.5.0",
            "_view_name": "ProgressView",
            "bar_style": "success",
            "description": "",
            "description_tooltip": null,
            "layout": "IPY_MODEL_c03e29adedc24c679633baa7adc25e13",
            "max": 456318,
            "min": 0,
            "orientation": "horizontal",
            "style": "IPY_MODEL_cd6955ed07dc4ddaa7577450a5a42d34",
            "value": 456318
          }
        },
        "27de49d5ef434ace9dbe1d0748c3d61c": {
          "model_module": "@jupyter-widgets/controls",
          "model_name": "HTMLModel",
          "model_module_version": "1.5.0",
          "state": {
            "_dom_classes": [],
            "_model_module": "@jupyter-widgets/controls",
            "_model_module_version": "1.5.0",
            "_model_name": "HTMLModel",
            "_view_count": null,
            "_view_module": "@jupyter-widgets/controls",
            "_view_module_version": "1.5.0",
            "_view_name": "HTMLView",
            "description": "",
            "description_tooltip": null,
            "layout": "IPY_MODEL_e5af3601e4ca4fb48185081af8e3f5d6",
            "placeholder": "​",
            "style": "IPY_MODEL_7e0dc5bbf25a4223a105397b13516291",
            "value": " 446k/446k [00:00&lt;00:00, 925kB/s]"
          }
        },
        "dc5e63540b4f46669c66de69f51087e2": {
          "model_module": "@jupyter-widgets/base",
          "model_name": "LayoutModel",
          "model_module_version": "1.2.0",
          "state": {
            "_model_module": "@jupyter-widgets/base",
            "_model_module_version": "1.2.0",
            "_model_name": "LayoutModel",
            "_view_count": null,
            "_view_module": "@jupyter-widgets/base",
            "_view_module_version": "1.2.0",
            "_view_name": "LayoutView",
            "align_content": null,
            "align_items": null,
            "align_self": null,
            "border": null,
            "bottom": null,
            "display": null,
            "flex": null,
            "flex_flow": null,
            "grid_area": null,
            "grid_auto_columns": null,
            "grid_auto_flow": null,
            "grid_auto_rows": null,
            "grid_column": null,
            "grid_gap": null,
            "grid_row": null,
            "grid_template_areas": null,
            "grid_template_columns": null,
            "grid_template_rows": null,
            "height": null,
            "justify_content": null,
            "justify_items": null,
            "left": null,
            "margin": null,
            "max_height": null,
            "max_width": null,
            "min_height": null,
            "min_width": null,
            "object_fit": null,
            "object_position": null,
            "order": null,
            "overflow": null,
            "overflow_x": null,
            "overflow_y": null,
            "padding": null,
            "right": null,
            "top": null,
            "visibility": null,
            "width": null
          }
        },
        "63f542500487419ba0dc9cca32ed258f": {
          "model_module": "@jupyter-widgets/base",
          "model_name": "LayoutModel",
          "model_module_version": "1.2.0",
          "state": {
            "_model_module": "@jupyter-widgets/base",
            "_model_module_version": "1.2.0",
            "_model_name": "LayoutModel",
            "_view_count": null,
            "_view_module": "@jupyter-widgets/base",
            "_view_module_version": "1.2.0",
            "_view_name": "LayoutView",
            "align_content": null,
            "align_items": null,
            "align_self": null,
            "border": null,
            "bottom": null,
            "display": null,
            "flex": null,
            "flex_flow": null,
            "grid_area": null,
            "grid_auto_columns": null,
            "grid_auto_flow": null,
            "grid_auto_rows": null,
            "grid_column": null,
            "grid_gap": null,
            "grid_row": null,
            "grid_template_areas": null,
            "grid_template_columns": null,
            "grid_template_rows": null,
            "height": null,
            "justify_content": null,
            "justify_items": null,
            "left": null,
            "margin": null,
            "max_height": null,
            "max_width": null,
            "min_height": null,
            "min_width": null,
            "object_fit": null,
            "object_position": null,
            "order": null,
            "overflow": null,
            "overflow_x": null,
            "overflow_y": null,
            "padding": null,
            "right": null,
            "top": null,
            "visibility": null,
            "width": null
          }
        },
        "57c3bcae795c442787543d226fb98462": {
          "model_module": "@jupyter-widgets/controls",
          "model_name": "DescriptionStyleModel",
          "model_module_version": "1.5.0",
          "state": {
            "_model_module": "@jupyter-widgets/controls",
            "_model_module_version": "1.5.0",
            "_model_name": "DescriptionStyleModel",
            "_view_count": null,
            "_view_module": "@jupyter-widgets/base",
            "_view_module_version": "1.2.0",
            "_view_name": "StyleView",
            "description_width": ""
          }
        },
        "c03e29adedc24c679633baa7adc25e13": {
          "model_module": "@jupyter-widgets/base",
          "model_name": "LayoutModel",
          "model_module_version": "1.2.0",
          "state": {
            "_model_module": "@jupyter-widgets/base",
            "_model_module_version": "1.2.0",
            "_model_name": "LayoutModel",
            "_view_count": null,
            "_view_module": "@jupyter-widgets/base",
            "_view_module_version": "1.2.0",
            "_view_name": "LayoutView",
            "align_content": null,
            "align_items": null,
            "align_self": null,
            "border": null,
            "bottom": null,
            "display": null,
            "flex": null,
            "flex_flow": null,
            "grid_area": null,
            "grid_auto_columns": null,
            "grid_auto_flow": null,
            "grid_auto_rows": null,
            "grid_column": null,
            "grid_gap": null,
            "grid_row": null,
            "grid_template_areas": null,
            "grid_template_columns": null,
            "grid_template_rows": null,
            "height": null,
            "justify_content": null,
            "justify_items": null,
            "left": null,
            "margin": null,
            "max_height": null,
            "max_width": null,
            "min_height": null,
            "min_width": null,
            "object_fit": null,
            "object_position": null,
            "order": null,
            "overflow": null,
            "overflow_x": null,
            "overflow_y": null,
            "padding": null,
            "right": null,
            "top": null,
            "visibility": null,
            "width": null
          }
        },
        "cd6955ed07dc4ddaa7577450a5a42d34": {
          "model_module": "@jupyter-widgets/controls",
          "model_name": "ProgressStyleModel",
          "model_module_version": "1.5.0",
          "state": {
            "_model_module": "@jupyter-widgets/controls",
            "_model_module_version": "1.5.0",
            "_model_name": "ProgressStyleModel",
            "_view_count": null,
            "_view_module": "@jupyter-widgets/base",
            "_view_module_version": "1.2.0",
            "_view_name": "StyleView",
            "bar_color": null,
            "description_width": ""
          }
        },
        "e5af3601e4ca4fb48185081af8e3f5d6": {
          "model_module": "@jupyter-widgets/base",
          "model_name": "LayoutModel",
          "model_module_version": "1.2.0",
          "state": {
            "_model_module": "@jupyter-widgets/base",
            "_model_module_version": "1.2.0",
            "_model_name": "LayoutModel",
            "_view_count": null,
            "_view_module": "@jupyter-widgets/base",
            "_view_module_version": "1.2.0",
            "_view_name": "LayoutView",
            "align_content": null,
            "align_items": null,
            "align_self": null,
            "border": null,
            "bottom": null,
            "display": null,
            "flex": null,
            "flex_flow": null,
            "grid_area": null,
            "grid_auto_columns": null,
            "grid_auto_flow": null,
            "grid_auto_rows": null,
            "grid_column": null,
            "grid_gap": null,
            "grid_row": null,
            "grid_template_areas": null,
            "grid_template_columns": null,
            "grid_template_rows": null,
            "height": null,
            "justify_content": null,
            "justify_items": null,
            "left": null,
            "margin": null,
            "max_height": null,
            "max_width": null,
            "min_height": null,
            "min_width": null,
            "object_fit": null,
            "object_position": null,
            "order": null,
            "overflow": null,
            "overflow_x": null,
            "overflow_y": null,
            "padding": null,
            "right": null,
            "top": null,
            "visibility": null,
            "width": null
          }
        },
        "7e0dc5bbf25a4223a105397b13516291": {
          "model_module": "@jupyter-widgets/controls",
          "model_name": "DescriptionStyleModel",
          "model_module_version": "1.5.0",
          "state": {
            "_model_module": "@jupyter-widgets/controls",
            "_model_module_version": "1.5.0",
            "_model_name": "DescriptionStyleModel",
            "_view_count": null,
            "_view_module": "@jupyter-widgets/base",
            "_view_module_version": "1.2.0",
            "_view_name": "StyleView",
            "description_width": ""
          }
        },
        "03915e9e445b4e9bbcf23c2746e3f43c": {
          "model_module": "@jupyter-widgets/controls",
          "model_name": "HBoxModel",
          "model_module_version": "1.5.0",
          "state": {
            "_dom_classes": [],
            "_model_module": "@jupyter-widgets/controls",
            "_model_module_version": "1.5.0",
            "_model_name": "HBoxModel",
            "_view_count": null,
            "_view_module": "@jupyter-widgets/controls",
            "_view_module_version": "1.5.0",
            "_view_name": "HBoxView",
            "box_style": "",
            "children": [
              "IPY_MODEL_d10815ad46c443ac93397bd1ead97def",
              "IPY_MODEL_6d0a1a97fa6e4ee1a7e3320f2c8d9b70",
              "IPY_MODEL_df8330cc28694d45ab9e7202836849bb"
            ],
            "layout": "IPY_MODEL_288049e91c894f42ac9fdcd78a6272a2"
          }
        },
        "d10815ad46c443ac93397bd1ead97def": {
          "model_module": "@jupyter-widgets/controls",
          "model_name": "HTMLModel",
          "model_module_version": "1.5.0",
          "state": {
            "_dom_classes": [],
            "_model_module": "@jupyter-widgets/controls",
            "_model_module_version": "1.5.0",
            "_model_name": "HTMLModel",
            "_view_count": null,
            "_view_module": "@jupyter-widgets/controls",
            "_view_module_version": "1.5.0",
            "_view_name": "HTMLView",
            "description": "",
            "description_tooltip": null,
            "layout": "IPY_MODEL_07ccb5cdf60f4b40befcbb410da0a97b",
            "placeholder": "​",
            "style": "IPY_MODEL_51ccc050df3b4337a8056206d81bf99a",
            "value": "Downloading: 100%"
          }
        },
        "6d0a1a97fa6e4ee1a7e3320f2c8d9b70": {
          "model_module": "@jupyter-widgets/controls",
          "model_name": "FloatProgressModel",
          "model_module_version": "1.5.0",
          "state": {
            "_dom_classes": [],
            "_model_module": "@jupyter-widgets/controls",
            "_model_module_version": "1.5.0",
            "_model_name": "FloatProgressModel",
            "_view_count": null,
            "_view_module": "@jupyter-widgets/controls",
            "_view_module_version": "1.5.0",
            "_view_name": "ProgressView",
            "bar_style": "success",
            "description": "",
            "description_tooltip": null,
            "layout": "IPY_MODEL_b7eb5db3ca4f47ce9160a581e63a8d1a",
            "max": 1355256,
            "min": 0,
            "orientation": "horizontal",
            "style": "IPY_MODEL_7beb6ad4a4d94b6ca998a0eaf79af502",
            "value": 1355256
          }
        },
        "df8330cc28694d45ab9e7202836849bb": {
          "model_module": "@jupyter-widgets/controls",
          "model_name": "HTMLModel",
          "model_module_version": "1.5.0",
          "state": {
            "_dom_classes": [],
            "_model_module": "@jupyter-widgets/controls",
            "_model_module_version": "1.5.0",
            "_model_name": "HTMLModel",
            "_view_count": null,
            "_view_module": "@jupyter-widgets/controls",
            "_view_module_version": "1.5.0",
            "_view_name": "HTMLView",
            "description": "",
            "description_tooltip": null,
            "layout": "IPY_MODEL_d44512d68a6a432c8e8061ed4bd7d721",
            "placeholder": "​",
            "style": "IPY_MODEL_8bec35ecf8394e20b0b56ca20fe671ca",
            "value": " 1.29M/1.29M [00:00&lt;00:00, 3.73MB/s]"
          }
        },
        "288049e91c894f42ac9fdcd78a6272a2": {
          "model_module": "@jupyter-widgets/base",
          "model_name": "LayoutModel",
          "model_module_version": "1.2.0",
          "state": {
            "_model_module": "@jupyter-widgets/base",
            "_model_module_version": "1.2.0",
            "_model_name": "LayoutModel",
            "_view_count": null,
            "_view_module": "@jupyter-widgets/base",
            "_view_module_version": "1.2.0",
            "_view_name": "LayoutView",
            "align_content": null,
            "align_items": null,
            "align_self": null,
            "border": null,
            "bottom": null,
            "display": null,
            "flex": null,
            "flex_flow": null,
            "grid_area": null,
            "grid_auto_columns": null,
            "grid_auto_flow": null,
            "grid_auto_rows": null,
            "grid_column": null,
            "grid_gap": null,
            "grid_row": null,
            "grid_template_areas": null,
            "grid_template_columns": null,
            "grid_template_rows": null,
            "height": null,
            "justify_content": null,
            "justify_items": null,
            "left": null,
            "margin": null,
            "max_height": null,
            "max_width": null,
            "min_height": null,
            "min_width": null,
            "object_fit": null,
            "object_position": null,
            "order": null,
            "overflow": null,
            "overflow_x": null,
            "overflow_y": null,
            "padding": null,
            "right": null,
            "top": null,
            "visibility": null,
            "width": null
          }
        },
        "07ccb5cdf60f4b40befcbb410da0a97b": {
          "model_module": "@jupyter-widgets/base",
          "model_name": "LayoutModel",
          "model_module_version": "1.2.0",
          "state": {
            "_model_module": "@jupyter-widgets/base",
            "_model_module_version": "1.2.0",
            "_model_name": "LayoutModel",
            "_view_count": null,
            "_view_module": "@jupyter-widgets/base",
            "_view_module_version": "1.2.0",
            "_view_name": "LayoutView",
            "align_content": null,
            "align_items": null,
            "align_self": null,
            "border": null,
            "bottom": null,
            "display": null,
            "flex": null,
            "flex_flow": null,
            "grid_area": null,
            "grid_auto_columns": null,
            "grid_auto_flow": null,
            "grid_auto_rows": null,
            "grid_column": null,
            "grid_gap": null,
            "grid_row": null,
            "grid_template_areas": null,
            "grid_template_columns": null,
            "grid_template_rows": null,
            "height": null,
            "justify_content": null,
            "justify_items": null,
            "left": null,
            "margin": null,
            "max_height": null,
            "max_width": null,
            "min_height": null,
            "min_width": null,
            "object_fit": null,
            "object_position": null,
            "order": null,
            "overflow": null,
            "overflow_x": null,
            "overflow_y": null,
            "padding": null,
            "right": null,
            "top": null,
            "visibility": null,
            "width": null
          }
        },
        "51ccc050df3b4337a8056206d81bf99a": {
          "model_module": "@jupyter-widgets/controls",
          "model_name": "DescriptionStyleModel",
          "model_module_version": "1.5.0",
          "state": {
            "_model_module": "@jupyter-widgets/controls",
            "_model_module_version": "1.5.0",
            "_model_name": "DescriptionStyleModel",
            "_view_count": null,
            "_view_module": "@jupyter-widgets/base",
            "_view_module_version": "1.2.0",
            "_view_name": "StyleView",
            "description_width": ""
          }
        },
        "b7eb5db3ca4f47ce9160a581e63a8d1a": {
          "model_module": "@jupyter-widgets/base",
          "model_name": "LayoutModel",
          "model_module_version": "1.2.0",
          "state": {
            "_model_module": "@jupyter-widgets/base",
            "_model_module_version": "1.2.0",
            "_model_name": "LayoutModel",
            "_view_count": null,
            "_view_module": "@jupyter-widgets/base",
            "_view_module_version": "1.2.0",
            "_view_name": "LayoutView",
            "align_content": null,
            "align_items": null,
            "align_self": null,
            "border": null,
            "bottom": null,
            "display": null,
            "flex": null,
            "flex_flow": null,
            "grid_area": null,
            "grid_auto_columns": null,
            "grid_auto_flow": null,
            "grid_auto_rows": null,
            "grid_column": null,
            "grid_gap": null,
            "grid_row": null,
            "grid_template_areas": null,
            "grid_template_columns": null,
            "grid_template_rows": null,
            "height": null,
            "justify_content": null,
            "justify_items": null,
            "left": null,
            "margin": null,
            "max_height": null,
            "max_width": null,
            "min_height": null,
            "min_width": null,
            "object_fit": null,
            "object_position": null,
            "order": null,
            "overflow": null,
            "overflow_x": null,
            "overflow_y": null,
            "padding": null,
            "right": null,
            "top": null,
            "visibility": null,
            "width": null
          }
        },
        "7beb6ad4a4d94b6ca998a0eaf79af502": {
          "model_module": "@jupyter-widgets/controls",
          "model_name": "ProgressStyleModel",
          "model_module_version": "1.5.0",
          "state": {
            "_model_module": "@jupyter-widgets/controls",
            "_model_module_version": "1.5.0",
            "_model_name": "ProgressStyleModel",
            "_view_count": null,
            "_view_module": "@jupyter-widgets/base",
            "_view_module_version": "1.2.0",
            "_view_name": "StyleView",
            "bar_color": null,
            "description_width": ""
          }
        },
        "d44512d68a6a432c8e8061ed4bd7d721": {
          "model_module": "@jupyter-widgets/base",
          "model_name": "LayoutModel",
          "model_module_version": "1.2.0",
          "state": {
            "_model_module": "@jupyter-widgets/base",
            "_model_module_version": "1.2.0",
            "_model_name": "LayoutModel",
            "_view_count": null,
            "_view_module": "@jupyter-widgets/base",
            "_view_module_version": "1.2.0",
            "_view_name": "LayoutView",
            "align_content": null,
            "align_items": null,
            "align_self": null,
            "border": null,
            "bottom": null,
            "display": null,
            "flex": null,
            "flex_flow": null,
            "grid_area": null,
            "grid_auto_columns": null,
            "grid_auto_flow": null,
            "grid_auto_rows": null,
            "grid_column": null,
            "grid_gap": null,
            "grid_row": null,
            "grid_template_areas": null,
            "grid_template_columns": null,
            "grid_template_rows": null,
            "height": null,
            "justify_content": null,
            "justify_items": null,
            "left": null,
            "margin": null,
            "max_height": null,
            "max_width": null,
            "min_height": null,
            "min_width": null,
            "object_fit": null,
            "object_position": null,
            "order": null,
            "overflow": null,
            "overflow_x": null,
            "overflow_y": null,
            "padding": null,
            "right": null,
            "top": null,
            "visibility": null,
            "width": null
          }
        },
        "8bec35ecf8394e20b0b56ca20fe671ca": {
          "model_module": "@jupyter-widgets/controls",
          "model_name": "DescriptionStyleModel",
          "model_module_version": "1.5.0",
          "state": {
            "_model_module": "@jupyter-widgets/controls",
            "_model_module_version": "1.5.0",
            "_model_name": "DescriptionStyleModel",
            "_view_count": null,
            "_view_module": "@jupyter-widgets/base",
            "_view_module_version": "1.2.0",
            "_view_name": "StyleView",
            "description_width": ""
          }
        }
      }
    }
  },
  "cells": [
    {
      "cell_type": "markdown",
      "metadata": {
        "id": "view-in-github",
        "colab_type": "text"
      },
      "source": [
        "<a href=\"https://colab.research.google.com/github/mbyanfei/p4ai-essentials/blob/main/2_functions_and_apis.ipynb\" target=\"_parent\"><img src=\"https://colab.research.google.com/assets/colab-badge.svg\" alt=\"Open In Colab\"/></a>"
      ]
    },
    {
      "cell_type": "markdown",
      "source": [
        "# Functions and APIs\n",
        "> Expanding things Python \"Already Knows\"\n",
        "\n",
        "In the last lesson, we learned about Google Colab, Python, and built-in data types and data structures. We talked about how there are some tasks/instructions/data that Python already knows how to do, and then others which we need to tell Python about. Today, we'll learn the syntax and grammar of how to communicate higher-order tasks to Python.\n",
        "\n",
        "## Lesson Objectives\n",
        "At the end of today's lesson, you should be able to:\n",
        "* Describe the purpose of a function\n",
        "* Describe the different input/output relationships of functions\n",
        "* Write a function\n",
        "* Describe what it means to install packages/modules/libraries\n",
        "* Describe what it means to import packages/modules/libraries\n",
        "* Use an API to accomplish a task\n",
        "\n",
        "Let's get started!"
      ],
      "metadata": {
        "id": "mMBdFRMzYuea"
      }
    },
    {
      "cell_type": "markdown",
      "source": [
        "# What are functions?\n",
        "\n",
        "A function is essentially a programming apparatus which:\n",
        "* Optionally receives some data as inputs\n",
        "* Performs some operation\n",
        "* Optionally returns some values\n",
        "\n",
        "What? \n",
        "\n",
        "One can conceptualize a function to objects we use in everyday life. Let's explore an example of an oven.\n",
        "\n",
        "<center>\n",
        "<img src=\"https://live.staticflickr.com/65535/49670670063_9ca1e9ac31_b.jpg\" width=\"600\">\n",
        "</center>\n",
        "\n",
        "Describe how you use an oven."
      ],
      "metadata": {
        "id": "42ZeCQ35Zzy5"
      }
    },
    {
      "cell_type": "code",
      "source": [
        "#@title Writing an Oven Function\n",
        "#@markdown Let's begin to codify how one might write an oven function.\n",
        "\n",
        "#@markdown **Description.** What will the oven function do (in plain words)?\n",
        "oven_description = \"oven is used to cook/heat food to make it ready to eat\" #@param {type:\"string\"}\n",
        "\n",
        "#@markdown **Function Name.** What would you like to call this oven function? It should be descriptive but concise.\n",
        "function_name = \"oven\" #@param {type:\"string\"}\n",
        "\n",
        "#@markdown **Parameters.** What things affect how the oven cooks the food?\n",
        "oven_input_parameters = \"temperature , time\" #@param {type:\"string\"}\n",
        "\n",
        "#@markdown **Main object.** What food will be passed in?\n",
        "oven_main_object = \"bread, cookie etc\" #@param {type:\"string\"}\n",
        "\n",
        "#@markdown **Outputs.** What will be returned from the oven after cooking?\n",
        "oven_outputs = \"cooked food\" #@param {type:\"string\"}\n",
        "\n",
        "#@markdown **Oven Behavior.** What does the oven itself need to do to cook the food? You can write something short,\n",
        "#@markdown and broad, given that writing how an oven works sounds terrible.\n",
        "oven_behavior = \"heating to set temperature and stay there for the set duration and cook/heat until time is up\" #@param {type:\"string\"}\n",
        "\n"
      ],
      "metadata": {
        "id": "G8n9U0cpbrfT"
      },
      "execution_count": null,
      "outputs": []
    },
    {
      "cell_type": "code",
      "source": [
        "#@markdown this is a test of markdown tag"
      ],
      "metadata": {
        "cellView": "form",
        "id": "rw0oHUK3f1Zj"
      },
      "execution_count": 1,
      "outputs": []
    },
    {
      "cell_type": "markdown",
      "source": [
        "If you've filled out the previous form, you've got all the components necessary to actually write an oven function. Now, you just need the syntax and grammar of how to communicate it to Python. The syntax for a function looks like this, using your defined parameters above:\n",
        "\n",
        "```\n",
        "# def, paretheses, commas, and colon are syntax elements to communicate a function\n",
        "def function_name(oven_main_object, oven_input_parameters):\n",
        "  '''\n",
        "  oven_description\n",
        "  '''\n",
        "  \n",
        "  #lines of code operating on the oven_main_object and using the oven_input_parameters, note indentation\n",
        "  oven_behavior\n",
        "\n",
        "  #'return' keyword communicates the object(s) to be returned\n",
        "  return oven_outputs\n",
        "```\n",
        "\n",
        "Let's try this with code...."
      ],
      "metadata": {
        "id": "6SbRaSdseooj"
      }
    },
    {
      "cell_type": "code",
      "source": [
        "# A function to cook in oven\n",
        "def cook_in_oven(food_to_cook, time, temperature, rack):\n",
        "  '''\n",
        "    Function cook_in_oven: cooks input food based on oven parameters passed in; returns cooked food\n",
        "      food_to_cook: String indicating the food to cook\n",
        "      time: Interger of the time required to coook the food in seconds\n",
        "      temperature: Integer of the temperature at which food should be cooked in degrees Fahrenheit\n",
        "      rack: Integre of the rack the food should be cooked in\n",
        "\n",
        "      returns: String appended with '-Cooked!' if the food is cooked      \n",
        "  '''\n",
        "\n",
        "  # cook food, an example\n",
        "  if time > 20 and temperature > 215:\n",
        "    food_to_cook = food_to_cook + ' -  Cooked!'\n",
        "\n",
        "  # return something\n",
        "  return food_to_cook\n",
        "\n",
        "\n"
      ],
      "metadata": {
        "id": "CtovnLxdfp6A"
      },
      "execution_count": 2,
      "outputs": []
    },
    {
      "cell_type": "code",
      "source": [
        "#@markdown Run the cell above. What happened? What did you expect to happen?\n",
        "\n",
        "#@markdown Click `Show Code` below for an explanation.\n",
        "\n",
        "#Answer\n",
        "#Nothing appeared to happen, but the code was merely stored in the kernel to be used later.\n",
        "#When you buy an oven, is the food automatically cooked? No, you have to intentionally apply the\n",
        "#oven to something."
      ],
      "metadata": {
        "id": "NGExBd4fuXv1"
      },
      "execution_count": null,
      "outputs": []
    },
    {
      "cell_type": "markdown",
      "source": [
        "## Calling the oven function\n",
        "Let's actually use the oven. Let's see how we can do this."
      ],
      "metadata": {
        "id": "plfrDnIFxuXF"
      }
    },
    {
      "cell_type": "code",
      "source": [
        "#set parameters and inputs for cooking\n",
        "cook_food = 'potatos'\n",
        "cook_time = 25\n",
        "cook_temp = 325\n",
        "cook_rack = 2\n",
        "\n",
        "#call function and get returned result\n",
        "\n",
        "my_food_update = cook_in_oven(cook_food, cook_time, cook_temp, cook_rack)\n",
        "my_food_update\n"
      ],
      "metadata": {
        "id": "QWgOi8sIx56x",
        "colab": {
          "base_uri": "https://localhost:8080/",
          "height": 35
        },
        "outputId": "e97f3e01-35e1-4ddf-9b63-ead05f7abbd4"
      },
      "execution_count": 4,
      "outputs": [
        {
          "output_type": "execute_result",
          "data": {
            "text/plain": [
              "'potatos -  Cooked!'"
            ],
            "application/vnd.google.colaboratory.intrinsic+json": {
              "type": "string"
            }
          },
          "metadata": {},
          "execution_count": 4
        }
      ]
    },
    {
      "cell_type": "markdown",
      "source": [
        "## Setting default parameters and keywords\n",
        "It can sometimes be pretty annoying to specify long lists of configuration/parameter settings in the input. Thinking of digital ovens, they often come with default settings when you turn them on, e.g.:\n",
        "* The default temperature is 350\n",
        "* The default time is 20 minutes\n",
        "* The default rack is the 3rd rack.\n",
        "\n",
        "Can we mirror this behavior into a function?"
      ],
      "metadata": {
        "id": "jkiF_FxJz447"
      }
    },
    {
      "cell_type": "code",
      "source": [
        "# We can change the following code to have default value for parameters\n",
        "# A function to cook in oven\n",
        "def cook_in_oven(food_to_cook, time=20, temperature=350, rack=3):\n",
        "  '''\n",
        "    Function cook_in_oven: cooks input food based on oven parameters passed in; returns cooked food\n",
        "      food_to_cook: String indicating the food to cook\n",
        "      time: Interger of the time required to coook the food in seconds\n",
        "      temperature: Integer of the temperature at which food should be cooked in degrees Fahrenheit\n",
        "      rack: Integre of the rack the food should be cooked in\n",
        "\n",
        "      returns: String appended with '-Cooked!' if the food is cooked      \n",
        "  '''\n",
        "\n",
        "  # cook food, an example\n",
        "  if time > 20 and temperature > 215:\n",
        "    food_to_cook = food_to_cook + ' -  Cooked!'\n",
        "\n",
        "  # return something\n",
        "  return food_to_cook\n"
      ],
      "metadata": {
        "id": "FSVhS74bz4fg"
      },
      "execution_count": 15,
      "outputs": []
    },
    {
      "cell_type": "code",
      "source": [
        "# Try our new function\n",
        "cook_in_oven('patatos', time=30)"
      ],
      "metadata": {
        "id": "kp7tdViI0X4C",
        "colab": {
          "base_uri": "https://localhost:8080/",
          "height": 35
        },
        "outputId": "8191ba89-88c7-4e63-8f7d-a9dfc92b4099"
      },
      "execution_count": 17,
      "outputs": [
        {
          "output_type": "execute_result",
          "data": {
            "text/plain": [
              "'patatos -  Cooked!'"
            ],
            "application/vnd.google.colaboratory.intrinsic+json": {
              "type": "string"
            }
          },
          "metadata": {},
          "execution_count": 17
        }
      ]
    },
    {
      "cell_type": "code",
      "source": [
        "new_food = 'salmon'\n",
        "new_food = cook_in_oven(new_food, 25)\n",
        "new_food\n"
      ],
      "metadata": {
        "colab": {
          "base_uri": "https://localhost:8080/",
          "height": 35
        },
        "id": "CAPY0rZsnF4M",
        "outputId": "87f0c701-7808-4ca3-b0df-1516854e1e18"
      },
      "execution_count": 18,
      "outputs": [
        {
          "output_type": "execute_result",
          "data": {
            "text/plain": [
              "'salmon -  Cooked!'"
            ],
            "application/vnd.google.colaboratory.intrinsic+json": {
              "type": "string"
            }
          },
          "metadata": {},
          "execution_count": 18
        }
      ]
    },
    {
      "cell_type": "code",
      "source": [
        "\n",
        "new_food_2 = 'Salmon'\n",
        "new_food_2 = cook_in_oven(new_food_2, temperature=375, time=20)\n",
        "new_food_2"
      ],
      "metadata": {
        "colab": {
          "base_uri": "https://localhost:8080/",
          "height": 35
        },
        "id": "vsimbcdGnwNt",
        "outputId": "6f935404-add9-4984-ef65-069643e17d9a"
      },
      "execution_count": 23,
      "outputs": [
        {
          "output_type": "execute_result",
          "data": {
            "text/plain": [
              "'Salmon'"
            ],
            "application/vnd.google.colaboratory.intrinsic+json": {
              "type": "string"
            }
          },
          "metadata": {},
          "execution_count": 23
        }
      ]
    },
    {
      "cell_type": "markdown",
      "source": [
        "Fantastic. We learned that a function:\n",
        "* does something\n",
        "* can have inputs\n",
        "* can have outputs\n",
        "* should be defined in memory\n",
        "* must be called on something to operate\n",
        "\n",
        "Let's try a real example."
      ],
      "metadata": {
        "id": "x9v9jqGdyhXj"
      }
    },
    {
      "cell_type": "markdown",
      "source": [
        "## Practical Examples"
      ],
      "metadata": {
        "id": "b2KFnmXPXcBg"
      }
    },
    {
      "cell_type": "code",
      "source": [
        "#@title Guided Example\n",
        "\n",
        "#@markdown In this example, we'll leverage some more built-in string functionality\n",
        "#@markdown from Python. You can learn more about string methods from [The Python String API](https://docs.python.org/3/library/stdtypes.html#text-sequence-type-str).\n",
        "\n",
        "#@markdown You currently have a list of class labels. However, all of the class labels are uppercase,\n",
        "#@markdown and you prefer them to be lowercase.\n",
        "\n",
        "#@markdown 1. Write a function called `class_names_lower` that does this. The input should be a single\n",
        "#@markdown string, and the output should be the same string, but lowercased.\n",
        "#@markdown 2. Demonstrate that the function works as expected. This essentially means that you should\n",
        "#@markdown call your function on some input value."
      ],
      "metadata": {
        "cellView": "form",
        "id": "4_215NO1Z7rs"
      },
      "execution_count": null,
      "outputs": []
    },
    {
      "cell_type": "code",
      "source": [
        "# Exercise 1 Answer\n",
        "def class_names_lower(cased_class_name):\n",
        "  '''\n",
        "  Docstring we should put something into\n",
        "  '''\n",
        "  #lowercase the input string\n",
        "  fixed_class_name = cased_class_name.lower()\n",
        "\n",
        "  #return\n",
        "  return fixed_class_name"
      ],
      "metadata": {
        "id": "tiXDvSU3c1bQ"
      },
      "execution_count": 24,
      "outputs": []
    },
    {
      "cell_type": "code",
      "source": [
        "# Demo for Answer 2\n",
        "demo_string = 'Yan Fei'\n",
        "class_names_lower(demo_string)\n"
      ],
      "metadata": {
        "id": "RhAs9E16dEkC",
        "colab": {
          "base_uri": "https://localhost:8080/",
          "height": 35
        },
        "outputId": "f976702a-1f96-40f3-9f8e-88bd07c6e6c3"
      },
      "execution_count": 27,
      "outputs": [
        {
          "output_type": "execute_result",
          "data": {
            "text/plain": [
              "'yan fei'"
            ],
            "application/vnd.google.colaboratory.intrinsic+json": {
              "type": "string"
            }
          },
          "metadata": {},
          "execution_count": 27
        }
      ]
    },
    {
      "cell_type": "code",
      "source": [
        "#@title In-class Exercise - Try it yourself!\n",
        "#@markdown You currently have a list of class ids, loaded from a file. Don't worry about the\n",
        "#@markdown logistics of this statement, it's just setting the stage. However, the values aren't 0-indexed and you want them to be. The starting index given is 1, and you realize that you need to subtract 1 from each of the input values.\n",
        "\n",
        "#@markdown 1. Write a function called `adjust_label_values` that does this. The input should be a single integer,\n",
        "#@markdown and the output should be the integer minus 1.\n",
        "#@markdown 2. Demonstrate that the function works as expected. This essentially means\n",
        "#@markdown that you should call your function on some input value. If you get stuck\n",
        "#@markdown you can reveal some hints by clicking the `Show Code` button below.\n",
        "\n",
        "# Answer for #1\n",
        "def adjust_label_values(label_in):\n",
        "\n",
        "  #adjust value\n",
        "  label_in = label_in - 1\n",
        "\n",
        "  #return the value\n",
        "  return label_in\n",
        "\n",
        "# Demonstration for #2\n",
        "print(adjust_label_values(1))\n",
        "\n",
        "print(adjust_label_values(0))"
      ],
      "metadata": {
        "id": "BdtNT76wzBkr",
        "cellView": "form"
      },
      "execution_count": null,
      "outputs": []
    },
    {
      "cell_type": "code",
      "source": [
        "# Answer for #1\n",
        "def adjust_label_values(input_integer):\n",
        "  '''\n",
        "  Docstring\n",
        "  '''\n",
        "  return input_integer - 1\n"
      ],
      "metadata": {
        "id": "M_fxy4BcYHPA"
      },
      "execution_count": 28,
      "outputs": []
    },
    {
      "cell_type": "code",
      "source": [
        "# Demonstration for #2\n",
        "adjust_label_values(10)"
      ],
      "metadata": {
        "id": "KC4bomhzYf_S",
        "colab": {
          "base_uri": "https://localhost:8080/"
        },
        "outputId": "a4365006-ed70-4171-afc1-be5889b1b85b"
      },
      "execution_count": 29,
      "outputs": [
        {
          "output_type": "execute_result",
          "data": {
            "text/plain": [
              "9"
            ]
          },
          "metadata": {},
          "execution_count": 29
        }
      ]
    },
    {
      "cell_type": "code",
      "source": [
        "class_ids = [1,2,3,4,5]\n",
        "class_ids"
      ],
      "metadata": {
        "colab": {
          "base_uri": "https://localhost:8080/"
        },
        "id": "WtdFzmcltutZ",
        "outputId": "5a59d5c7-5371-480d-acbb-bdc8748e4c06"
      },
      "execution_count": 41,
      "outputs": [
        {
          "output_type": "execute_result",
          "data": {
            "text/plain": [
              "[1, 2, 3, 4, 5]"
            ]
          },
          "metadata": {},
          "execution_count": 41
        }
      ]
    },
    {
      "cell_type": "code",
      "source": [
        "print(class_ids[0])"
      ],
      "metadata": {
        "colab": {
          "base_uri": "https://localhost:8080/"
        },
        "id": "Cz5KuVY4vWru",
        "outputId": "e24f482d-e518-477a-f0eb-1237f7cb5782"
      },
      "execution_count": 39,
      "outputs": [
        {
          "output_type": "stream",
          "name": "stdout",
          "text": [
            "1\n"
          ]
        }
      ]
    },
    {
      "cell_type": "code",
      "source": [
        "for id in class_ids:\n",
        "  print(id)\n"
      ],
      "metadata": {
        "colab": {
          "base_uri": "https://localhost:8080/"
        },
        "id": "e_YYAhdFt0K3",
        "outputId": "7ee5a063-4c39-44cd-96ca-270135cfca1d"
      },
      "execution_count": 43,
      "outputs": [
        {
          "output_type": "stream",
          "name": "stdout",
          "text": [
            "1\n",
            "2\n",
            "3\n",
            "4\n",
            "5\n"
          ]
        }
      ]
    },
    {
      "cell_type": "code",
      "source": [
        "#@title Catching Unwanted behavior\n",
        "#@markdown Sometimes, it will be the case that you want to make sure that certain\n",
        "#@markdown things don't happen in your code, or at least be notified that they have\n",
        "#@markdown occurred.\n",
        "\n",
        "#@markdown This can be achieved through:\n",
        "#@markdown 1. **warnings**: continue code execution, but notify the user\n",
        "#@markdown 2. **Exceptions**: halt code execution and notify the user\n",
        "\n",
        "#@markdown To see how this can be implemented for the code above click the `Show Code` button below.\n",
        "#@markdown Here, we'll be generating an error if the resultant ID would be less than 0.\n",
        "\n",
        "def adjust_label_values_werr(label_in):\n",
        "  label_in = label_in - 1\n",
        "\n",
        "  if label_in < 0:\n",
        "    raise ValueError('Label id ' + str(label_in) + ' generates a label less than 0')\n",
        "  \n",
        "  return label_in\n",
        "\n",
        "adjust_label_values_werr(0)"
      ],
      "metadata": {
        "id": "e5CbT6V0YiwA"
      },
      "execution_count": null,
      "outputs": []
    },
    {
      "cell_type": "code",
      "source": [
        "class_ids = [1,2,3,4,5]\n",
        "for position, id in enumerate(class_ids):\n",
        "  # print(position, id)\n",
        "  class_ids[position] = class_ids[position] - 1\n",
        "\n",
        "class_ids"
      ],
      "metadata": {
        "colab": {
          "base_uri": "https://localhost:8080/"
        },
        "id": "M16sR-qLxjFq",
        "outputId": "05ce07b0-74c7-4389-e295-096edd153cfa"
      },
      "execution_count": 48,
      "outputs": [
        {
          "output_type": "execute_result",
          "data": {
            "text/plain": [
              "[0, 1, 2, 3, 4]"
            ]
          },
          "metadata": {},
          "execution_count": 48
        }
      ]
    },
    {
      "cell_type": "markdown",
      "source": [
        "# API Structure"
      ],
      "metadata": {
        "id": "GALCY1t-dlYU"
      }
    },
    {
      "cell_type": "markdown",
      "source": [
        "## Functions, Methods, and Classes\n",
        "We just now wrote our own function, but Python is chocked full of lots of different built-in functions that you can already use! We just now used some:\n",
        "* `print()`\n",
        "* `lower()`\n",
        "\n",
        "And saw several others in Python's API for math operations and strings.\n",
        "\n",
        "Most strictly speaking, the code we just wrote was a function, but when we call \"operations\" relevant to the object they're working on, this is called a _method_. This distinction matters to the extent to which you can capitalize upon this knowledge.\n",
        "\n",
        "What? I know, that was a confusing statement, so lets take an example.\n",
        "\n",
        "<center>\n",
        "<figure>\n",
        "<img src=\"https://github.com/vanderbilt-data-science/p4ai-essentials/blob/main/img/oven_class.png?raw=true\" width=\"600\"/>\n",
        "<figcaption>Not all methods should apply to all objects. Sometimes, it helps for the specification of a particular object to come grouped with its attributes as well.</figcaption>\n",
        "</figure>\n",
        "</center>\n"
      ],
      "metadata": {
        "id": "TCtSVP_yxWmW"
      }
    },
    {
      "cell_type": "markdown",
      "source": [
        "\n",
        "## Packages and Libraries\n",
        "This leads to the practical structuring of tons of functions and classes. These tend to take shape through **packages**, **libraries**, **modules**, and **classes**.\n",
        "\n",
        "<center>\n",
        "<table>\n",
        "  <tr>\n",
        "    <th>Package  Hierarchy  Model</th>\n",
        "    <th>Kitchen Package Application</th>\n",
        "  </tr>\n",
        "  <tr>\n",
        "    <th><img style=\"vertical-align: bottom;\" src=\"https://github.com/vanderbilt-data-science/p4ai-essentials/blob/main/img/class_package_hierarchy.png?raw=true\" width=100% /></th>\n",
        "    <th><img style=\"vertical-align: bottom;\" src=\"https://github.com/vanderbilt-data-science/p4ai-essentials/blob/main/img/kitchen_package_hierarchy.png?raw=true\" width=100% /></th>\n",
        "  </tr>\n",
        "</table>\n",
        "</center>"
      ],
      "metadata": {
        "id": "TroHymrdxReH"
      }
    },
    {
      "cell_type": "markdown",
      "source": [
        "## APIs\n",
        "\n",
        "APIs define the way in which you can programmatically interact with a codebase, server, etc. It's essentially a contract outlining:\n",
        "* The available tasks that can be done by the framework and the names these operations are called by\n",
        "* The required and optional inputs to these operations\n",
        "* The required and optional outputs from these operations.\n",
        "\n",
        "APIs often come in the form of **libraries**, **packages**, and **modules**. Libraries are a great way of quickly infusing Python with LOTS more functionality.\n",
        "\n",
        "<center>\n",
        "<figure>\n",
        "<img src=\"https://cdn.mos.cms.futurecdn.net/GSkcxRqtHam58T5URwTN7c-1024-80.jpg.webp\" width=\"300\"/>\n",
        "<figcaption>Image from livescience.com</figcaption>\n",
        "</figure>\n",
        "</center>\n",
        "\n",
        "I always think of importing modules similarly to this scene in The Matrix. Information \"packages\" on how to fly a helicopter or kung fu are downloaded instantly into the user's \"kernel\". Then, we need to use the functions from these packages.\n",
        "\n",
        "Let's start with looking at [HuggingFace's API](https://huggingface.co)."
      ],
      "metadata": {
        "id": "H8Hkqoq5fEpi"
      }
    },
    {
      "cell_type": "markdown",
      "source": [
        "# Guided Exploration of HF API\n",
        "\n",
        "We can see that most of the time, we see code that looks sort of like functions. We see the \"contract\" components of the new functions that are available to us - the function name, the inputs required and available, and the outputs. Let's experiment with one!"
      ],
      "metadata": {
        "id": "JPi719RCZB9h"
      }
    },
    {
      "cell_type": "code",
      "source": [
        "#install packages\n",
        "!pip install transformers"
      ],
      "metadata": {
        "id": "mWln3rT4Z_RG"
      },
      "execution_count": null,
      "outputs": []
    },
    {
      "cell_type": "code",
      "source": [
        "#make package available to python kernel\n",
        "from transformers import pipeline"
      ],
      "metadata": {
        "id": "S_4DXki4Z39b"
      },
      "execution_count": 53,
      "outputs": []
    },
    {
      "cell_type": "code",
      "source": [
        "# create a pipeline\n",
        "mdl_pipe = pipeline('text-classification')\n"
      ],
      "metadata": {
        "id": "VEa7dYDrZcN8"
      },
      "execution_count": null,
      "outputs": []
    },
    {
      "cell_type": "code",
      "source": [
        "#when in doubt, check the type\n",
        "type(mdl_pipe)\n"
      ],
      "metadata": {
        "id": "mQvkv2RzaTpv",
        "colab": {
          "base_uri": "https://localhost:8080/"
        },
        "outputId": "fef1fd36-c792-4a51-f5b4-7eb32d15d272"
      },
      "execution_count": 55,
      "outputs": [
        {
          "output_type": "execute_result",
          "data": {
            "text/plain": [
              "transformers.pipelines.text_classification.TextClassificationPipeline"
            ]
          },
          "metadata": {},
          "execution_count": 55
        }
      ]
    },
    {
      "cell_type": "code",
      "source": [
        "#Use the pipeline for inference\n",
        "mdl_pipe(\"This restaurant is awesome\")"
      ],
      "metadata": {
        "id": "9YNeVlZGaUud",
        "colab": {
          "base_uri": "https://localhost:8080/"
        },
        "outputId": "bb7d6b3a-f7c3-460c-a97b-eaf030ed41f0"
      },
      "execution_count": 56,
      "outputs": [
        {
          "output_type": "execute_result",
          "data": {
            "text/plain": [
              "[{'label': 'POSITIVE', 'score': 0.9998743534088135}]"
            ]
          },
          "metadata": {},
          "execution_count": 56
        }
      ]
    },
    {
      "cell_type": "code",
      "source": [
        "mdl_pipe(\"I feel not so good ...\")"
      ],
      "metadata": {
        "id": "Kd3FkS0y5HPm",
        "outputId": "6ab85db9-6990-439b-a54f-3a5b7dca2356",
        "colab": {
          "base_uri": "https://localhost:8080/"
        }
      },
      "execution_count": 57,
      "outputs": [
        {
          "output_type": "execute_result",
          "data": {
            "text/plain": [
              "[{'label': 'NEGATIVE', 'score': 0.999794065952301}]"
            ]
          },
          "metadata": {},
          "execution_count": 57
        }
      ]
    },
    {
      "cell_type": "code",
      "source": [
        "a_text = 'The dog was walking on a beautiful summer day!'\n",
        "mdl_pipe(a_text)"
      ],
      "metadata": {
        "id": "qm6KygLE5Pr8",
        "outputId": "f511a220-1183-479b-bc75-42678a844a9c",
        "colab": {
          "base_uri": "https://localhost:8080/"
        }
      },
      "execution_count": 59,
      "outputs": [
        {
          "output_type": "execute_result",
          "data": {
            "text/plain": [
              "[{'label': 'POSITIVE', 'score': 0.9998475313186646}]"
            ]
          },
          "metadata": {},
          "execution_count": 59
        }
      ]
    },
    {
      "cell_type": "code",
      "source": [
        "a_text = 'The dog was barking not-stop!'\n",
        "mdl_pipe(a_text)"
      ],
      "metadata": {
        "id": "JnDOSHTC5iiZ",
        "outputId": "2be2eec8-abde-4d8b-aaf9-ca71eca6bf5b",
        "colab": {
          "base_uri": "https://localhost:8080/"
        }
      },
      "execution_count": 60,
      "outputs": [
        {
          "output_type": "execute_result",
          "data": {
            "text/plain": [
              "[{'label': 'NEGATIVE', 'score': 0.9755150675773621}]"
            ]
          },
          "metadata": {},
          "execution_count": 60
        }
      ]
    },
    {
      "cell_type": "code",
      "source": [
        "a_text = 'It is an OK movie!'\n",
        "mdl_pipe(a_text)"
      ],
      "metadata": {
        "id": "w_C5LOl05paU",
        "outputId": "d64e5f4b-96a8-481e-f3e2-03f27674b922",
        "colab": {
          "base_uri": "https://localhost:8080/"
        }
      },
      "execution_count": 61,
      "outputs": [
        {
          "output_type": "execute_result",
          "data": {
            "text/plain": [
              "[{'label': 'POSITIVE', 'score': 0.9998683929443359}]"
            ]
          },
          "metadata": {},
          "execution_count": 61
        }
      ]
    },
    {
      "cell_type": "code",
      "source": [
        "a_text = 'The food is OK, not great.'\n",
        "mdl_pipe(a_text)"
      ],
      "metadata": {
        "id": "aBQ7wSmJ5vEA",
        "outputId": "317c1c7d-b7d9-41dc-ef99-63a4cdcf240c",
        "colab": {
          "base_uri": "https://localhost:8080/"
        }
      },
      "execution_count": 63,
      "outputs": [
        {
          "output_type": "execute_result",
          "data": {
            "text/plain": [
              "[{'label': 'NEGATIVE', 'score': 0.9315193891525269}]"
            ]
          },
          "metadata": {},
          "execution_count": 63
        }
      ]
    },
    {
      "cell_type": "markdown",
      "source": [
        "## Guided Example 1\n",
        "What if we want to return all scores?"
      ],
      "metadata": {
        "id": "pUUBedAidIwO"
      }
    },
    {
      "cell_type": "code",
      "source": [
        "#Modify code to return all scores\n",
        "a_text_scores = mdl_pipe(a_text, return_all_scores=True)\n",
        "a_text_scores"
      ],
      "metadata": {
        "id": "Ok2TGs4ebgSr",
        "colab": {
          "base_uri": "https://localhost:8080/"
        },
        "outputId": "ba065bb0-8d70-471c-c4e2-4e1960a32600"
      },
      "execution_count": 65,
      "outputs": [
        {
          "output_type": "execute_result",
          "data": {
            "text/plain": [
              "[[{'label': 'NEGATIVE', 'score': 0.9315193891525269},\n",
              "  {'label': 'POSITIVE', 'score': 0.06848055869340897}]]"
            ]
          },
          "metadata": {},
          "execution_count": 65
        }
      ]
    },
    {
      "cell_type": "markdown",
      "source": [
        "## Guided Example 2\n",
        "What if we had a list of texts, loaded, for example, from file?"
      ],
      "metadata": {
        "id": "4h_4Pr6zdNzI"
      }
    },
    {
      "cell_type": "code",
      "source": [
        "#Using lists\n",
        "texts = ['The dog was happy and ran along playfully.',\n",
        "         'The cat glared at me, judging me from afar.',\n",
        "         'The groundhog peeked its head above the ground.',\n",
        "         'Opposums are criminally underrated.']\n",
        "\n",
        "mdl_pipe(texts)\n"
      ],
      "metadata": {
        "id": "LaV_9sQ_cC5Q",
        "colab": {
          "base_uri": "https://localhost:8080/"
        },
        "outputId": "b4feabc8-aff0-42f9-eadd-9a9ab7636673"
      },
      "execution_count": 66,
      "outputs": [
        {
          "output_type": "execute_result",
          "data": {
            "text/plain": [
              "[{'label': 'POSITIVE', 'score': 0.9997424483299255},\n",
              " {'label': 'NEGATIVE', 'score': 0.8735086917877197},\n",
              " {'label': 'POSITIVE', 'score': 0.9485796689987183},\n",
              " {'label': 'NEGATIVE', 'score': 0.9712409377098083}]"
            ]
          },
          "metadata": {},
          "execution_count": 66
        }
      ]
    },
    {
      "cell_type": "markdown",
      "source": [
        "## Guided Example 3\n",
        "Maybe we don't like how this model is performing. Can we use a different model? How?\n",
        "\n",
        "Reference: [Huggingface Models](https://huggingface.co/models)"
      ],
      "metadata": {
        "id": "IfXOkWeWdXoV"
      }
    },
    {
      "cell_type": "code",
      "source": [
        "#modify code to use different model\n",
        "cardiff_pipe = pipeline('text-classification', model='cardiffnlp/twitter-roberta-base-sentiment')\n"
      ],
      "metadata": {
        "colab": {
          "base_uri": "https://localhost:8080/",
          "height": 177,
          "referenced_widgets": [
            "dcb33fe04c9c4c558f0d1720188ba100",
            "4b200a2f43d8405a855998096e160088",
            "4117e3fdc8ca4cb2a427106eb357f028",
            "901aa280f7694451839a540f3eab4cd5",
            "bd423088f56545b0bb13d33419f65eec",
            "cbb61ab48f134699b092cc33513d6bbd",
            "e4b3d7a447bc493da38e7c94874d6505",
            "8113c99e675d4d39bf7be9173974c535",
            "bffe77e1ae9844cd9e2d42e727060c6d",
            "0acf58d5bb644f88b715d13d0962d0a6",
            "48d3b1b3701546b1a21708446efbe32f",
            "7db57bfa49424115ac9c8f4b4fc0f26a",
            "116bbb2e8c8a4b60b7a48a74865e0c8f",
            "682d3c3c1bd3431bb0b88d3d4dbbc928",
            "f82e43d4cf474a4f93e83150fdefc463",
            "5d2d07dfd96049648af7cf6bf1c81da0",
            "e06335bc9963424195d78bae2c5b51b0",
            "11a12431762f4c9bb51a4799200d387c",
            "1df259d5e89a43528416121dda59398c",
            "49cffe8117cc4ab58e0eb53c272c9972",
            "1218b0deca7843f8871672753716924a",
            "8c8ec4811e5943be8a5152069ce7f043",
            "dab446ce113d4fd988fcde9873d0fb4a",
            "768614e2444a43c186b9707409bd4afc",
            "7d925b51587b4806bf00815619e87869",
            "7dcc98dfcc594f1680b80c11688c9dfe",
            "acfe92e85e784d8cb3e3dcbf2b75a8c1",
            "2b6cb135bc4647c2a1ae5bc0c2b019ae",
            "3e039099a55d4318b1859d1b3f428cf2",
            "5e9fd688ca1246b2bdb981b96f000364",
            "3cd729801ade46848972c5c5a325de3a",
            "dd57cd6d60fb4e09887f0d2048057f5b",
            "9c82bd6f5f2c49ea87aafb263f460cb3",
            "f79414b7973e4cf0b9ee3466e6e9a288",
            "825e0e996f82468eb6a869f0d434467f",
            "4425b59e2410497d96f2572bc631d3c0",
            "668ae6e1c13f429b93d104030dabb504",
            "448dade2288043b7afaebb021d471b0b",
            "ff65d781c33e4a37a32a64b42195bbab",
            "a5771f4957e54b43ae6be0d8e97cf7b1",
            "04e1f97018984a7dac5916a9d643d032",
            "09fe4a465f004ca3a9b9a247866e8bf0",
            "da7589d67a6940babd068f1eb7c8abeb",
            "33edc90cb5e74366ac12bc133fc69b00",
            "a88299945b2441679bf40fb1acaf8285",
            "e1d4a254cd5a4b52ac125f9622807a85",
            "22ec1679050e4a82b64e7281ef19bba1",
            "9358b32d1ac842e4b54b3afff2b24a0b",
            "0b1b11f513c049a58d63b77eb083c569",
            "19cf662808834bd7bdb626248ab1d45e",
            "2c53d89b5e774bbc8782e503081f6a6c",
            "0f6e4693d777409181f09fa6cbbcbb29",
            "d462bdb8bc5743509d943a5efbcfa40b",
            "10caa4c019c54789bd3b779d3a327863",
            "249c19fa2f3d4fc585681c58f648c692"
          ]
        },
        "id": "wsRh3FXBchAu",
        "outputId": "43ff4815-23e6-43fd-e4a2-5404b7a3e8d7"
      },
      "execution_count": 68,
      "outputs": [
        {
          "output_type": "display_data",
          "data": {
            "text/plain": [
              "Downloading:   0%|          | 0.00/747 [00:00<?, ?B/s]"
            ],
            "application/vnd.jupyter.widget-view+json": {
              "version_major": 2,
              "version_minor": 0,
              "model_id": "dcb33fe04c9c4c558f0d1720188ba100"
            }
          },
          "metadata": {}
        },
        {
          "output_type": "display_data",
          "data": {
            "text/plain": [
              "Downloading:   0%|          | 0.00/476M [00:00<?, ?B/s]"
            ],
            "application/vnd.jupyter.widget-view+json": {
              "version_major": 2,
              "version_minor": 0,
              "model_id": "7db57bfa49424115ac9c8f4b4fc0f26a"
            }
          },
          "metadata": {}
        },
        {
          "output_type": "display_data",
          "data": {
            "text/plain": [
              "Downloading:   0%|          | 0.00/878k [00:00<?, ?B/s]"
            ],
            "application/vnd.jupyter.widget-view+json": {
              "version_major": 2,
              "version_minor": 0,
              "model_id": "dab446ce113d4fd988fcde9873d0fb4a"
            }
          },
          "metadata": {}
        },
        {
          "output_type": "display_data",
          "data": {
            "text/plain": [
              "Downloading:   0%|          | 0.00/446k [00:00<?, ?B/s]"
            ],
            "application/vnd.jupyter.widget-view+json": {
              "version_major": 2,
              "version_minor": 0,
              "model_id": "f79414b7973e4cf0b9ee3466e6e9a288"
            }
          },
          "metadata": {}
        },
        {
          "output_type": "display_data",
          "data": {
            "text/plain": [
              "Downloading:   0%|          | 0.00/150 [00:00<?, ?B/s]"
            ],
            "application/vnd.jupyter.widget-view+json": {
              "version_major": 2,
              "version_minor": 0,
              "model_id": "a88299945b2441679bf40fb1acaf8285"
            }
          },
          "metadata": {}
        }
      ]
    },
    {
      "cell_type": "code",
      "source": [
        "#see results\n",
        "cardiff_pipe(texts)\n"
      ],
      "metadata": {
        "id": "bWIlDJKNeoDP",
        "colab": {
          "base_uri": "https://localhost:8080/"
        },
        "outputId": "d702c588-0f29-407a-b2f7-6df7d0f9ebf4"
      },
      "execution_count": 69,
      "outputs": [
        {
          "output_type": "execute_result",
          "data": {
            "text/plain": [
              "[{'label': 'LABEL_2', 'score': 0.9303200244903564},\n",
              " {'label': 'LABEL_0', 'score': 0.575447142124176},\n",
              " {'label': 'LABEL_1', 'score': 0.8416591286659241},\n",
              " {'label': 'LABEL_0', 'score': 0.9006277322769165}]"
            ]
          },
          "metadata": {},
          "execution_count": 69
        }
      ]
    },
    {
      "cell_type": "code",
      "source": [
        ""
      ],
      "metadata": {
        "id": "y1o1dvKj03L7"
      },
      "execution_count": null,
      "outputs": []
    },
    {
      "cell_type": "markdown",
      "source": [
        "# Practical Example: Try it Yourself!\n",
        "Now, you'll try this on your own or in small groups! Let's try a different pipeline and explore using the pipeline API to realize our goal."
      ],
      "metadata": {
        "id": "5SsaRk_Hexv1"
      }
    },
    {
      "cell_type": "code",
      "source": [
        "#@title Exercise: Text Generation\n",
        "#@markdown In this example, you'll create a text generation pipeline. Use the API to answer\n",
        "#@markdown the following questions:\n",
        "#@markdown 1. What is the expected behavior of the text generation pipeline in plain words?\n",
        "#@markdown 2. What types of main arguments (`args`) can you pass in?\n",
        "#@markdown 3. What do you expect to be returned by TextGenerationPipeline?\n",
        "#@markdown 4. Create a text generation pipeline\n",
        "#@markdown 5. Use a simple input (e.g., a string rather than a list of strings) to generate and view the output\n",
        "#@markdown 6. If you didn't want to return the full text, and only the added text, what parameter would you change? Change this parameter to the appropriate value and observe the results.\n",
        "#@markdown 7. Use a different model and explore the resultant performance of Question 5.\n",
        "\n",
        "#@markdown Use the `Show Code` button for hints if you get stuck!\n",
        "\n",
        "#1\n",
        "#The expected behavior is that based on the input text, more text will be generated to \"complete\" the given input text\n",
        "\n",
        "#2\n",
        "# You can pass in a single string or a list of strings. These strings are the prompts from which\n",
        "# the model will base its text generation.\n",
        "\n",
        "#3\n",
        "#The returned type will be a list or a list of list of dict\n",
        "\n",
        "#4\n",
        "tgen_pipe = pipeline('text-generation')\n",
        "\n",
        "#5\n",
        "textgen_input = 'The dog was on a leisurely stroll, walking through the neighborhood when'\n",
        "textgen_out = tgen_pipe(textgen_input)\n",
        "\n",
        "#6\n",
        "textgen_out_added = tgen_pipe(textgen_input, return_full_text = False)\n",
        "\n",
        "#7\n",
        "gpt2_pipe = pipeline('text-generation', model = 'distilgpt2')\n",
        "gpt2_out = gpt2_pipe(textgen_input)"
      ],
      "metadata": {
        "cellView": "form",
        "id": "dwCgzJPqfuyh"
      },
      "execution_count": null,
      "outputs": []
    },
    {
      "cell_type": "markdown",
      "source": [
        "Answers to #1 through #3 here:\n",
        "1. \n",
        "2. \n",
        "3. "
      ],
      "metadata": {
        "id": "jZ7m63y9jyM_"
      }
    },
    {
      "cell_type": "code",
      "source": [
        "# 4. Create text generation pipeline\n",
        "prompt = \"My name is Yan and I like to\"\n",
        "mdl_text_gen = pipeline('text-generation', model='distilgpt2')\n",
        "mdl_text_gen(prompt)\n"
      ],
      "metadata": {
        "id": "RaPJIEwsj3zW",
        "colab": {
          "base_uri": "https://localhost:8080/"
        },
        "outputId": "870bd1b7-cda2-4c55-a6c8-59a7936b5534"
      },
      "execution_count": 72,
      "outputs": [
        {
          "output_type": "stream",
          "name": "stderr",
          "text": [
            "Setting `pad_token_id` to `eos_token_id`:50256 for open-end generation.\n"
          ]
        },
        {
          "output_type": "execute_result",
          "data": {
            "text/plain": [
              "[{'generated_text': 'My name is Yan and I like to say that the world is about to change.\"'}]"
            ]
          },
          "metadata": {},
          "execution_count": 72
        }
      ]
    },
    {
      "cell_type": "code",
      "source": [
        "# 4. Create text generation pipeline\n",
        "prompt = \"My name is Yan and I like to\"\n",
        "mdl_text_gen = pipeline('text-generation')\n",
        "mdl_text_gen(prompt)"
      ],
      "metadata": {
        "id": "MNWQ1PgUClBz",
        "outputId": "df5262cb-a58b-46ea-dd86-1715a1253273",
        "colab": {
          "base_uri": "https://localhost:8080/",
          "height": 249,
          "referenced_widgets": [
            "daeacfefab674439a412c636ebe0b5c0",
            "86c211d1cb9c4df3ad345651d615374e",
            "fdfee47f75e04f719fed5fade84f98de",
            "898e5e5e87fd4fd485c908fd89d3ca92",
            "dc64a3863f484470adcd6dd04c61df4b",
            "7891331f8f56427388786ff57809d89b",
            "d58acdda69dd4d70b2131d7d46ac7335",
            "591fc54f35484a75b8bb70aaa8f03e4d",
            "95715a5c21cd4d55b2b82141c681df4f",
            "5505d5286a4f44e0890239423d30dafd",
            "83d6dae3a4264147abe40cd6c3d08181",
            "e9c1d59290e940fb829370a39dd59aa3",
            "1886f0be7459467b89e937ef739cacef",
            "c9e9153889604143b2c6df4b30d36bbe",
            "34fadecc23114e22856e8d82a61bea15",
            "7102b3d015dd4123a3809f95c8dd6156",
            "90df716a45934cdbb7b2ae71d0cc9be1",
            "8fda57ffcf19460ea89538bdc34a7355",
            "6855c333c8594d5e860a49f0743b3cd7",
            "fa17a8f6c78d415fba423489eb7bb554",
            "7e8cd75db0ad40abb6286843baac4900",
            "591a421697f245919ccd70c7f6d6d53e",
            "406297335bf34213a0617f97adbe30f3",
            "d56ef5eda4724fdeb63293c76834636f",
            "154843c14792461a912b2b3032b737f2",
            "6cc67ec98db44e50998f3e60ed22679e",
            "65916094877a415dbec1412f91c893f0",
            "f54e795b8cc24dac9af73affb83157cb",
            "5ce5e695d9144807b15bfb7e7414af46",
            "fe336eba0fdd4c7fbd69741c3cea182b",
            "38c14694b13e4f89aa964d318de07b73",
            "8b3c29b55e894b34bac8d2d2611451fd",
            "153b5345897341f3a604d8425148fd8d",
            "2fa7d9213636455fbaca74592055bf2e",
            "99f19dd33f974af7a98b6086e9093d98",
            "c51f647cff294501a78bf17ab759e089",
            "27de49d5ef434ace9dbe1d0748c3d61c",
            "dc5e63540b4f46669c66de69f51087e2",
            "63f542500487419ba0dc9cca32ed258f",
            "57c3bcae795c442787543d226fb98462",
            "c03e29adedc24c679633baa7adc25e13",
            "cd6955ed07dc4ddaa7577450a5a42d34",
            "e5af3601e4ca4fb48185081af8e3f5d6",
            "7e0dc5bbf25a4223a105397b13516291",
            "03915e9e445b4e9bbcf23c2746e3f43c",
            "d10815ad46c443ac93397bd1ead97def",
            "6d0a1a97fa6e4ee1a7e3320f2c8d9b70",
            "df8330cc28694d45ab9e7202836849bb",
            "288049e91c894f42ac9fdcd78a6272a2",
            "07ccb5cdf60f4b40befcbb410da0a97b",
            "51ccc050df3b4337a8056206d81bf99a",
            "b7eb5db3ca4f47ce9160a581e63a8d1a",
            "7beb6ad4a4d94b6ca998a0eaf79af502",
            "d44512d68a6a432c8e8061ed4bd7d721",
            "8bec35ecf8394e20b0b56ca20fe671ca"
          ]
        }
      },
      "execution_count": 73,
      "outputs": [
        {
          "output_type": "stream",
          "name": "stderr",
          "text": [
            "No model was supplied, defaulted to gpt2 (https://huggingface.co/gpt2)\n"
          ]
        },
        {
          "output_type": "display_data",
          "data": {
            "text/plain": [
              "Downloading:   0%|          | 0.00/665 [00:00<?, ?B/s]"
            ],
            "application/vnd.jupyter.widget-view+json": {
              "version_major": 2,
              "version_minor": 0,
              "model_id": "daeacfefab674439a412c636ebe0b5c0"
            }
          },
          "metadata": {}
        },
        {
          "output_type": "display_data",
          "data": {
            "text/plain": [
              "Downloading:   0%|          | 0.00/523M [00:00<?, ?B/s]"
            ],
            "application/vnd.jupyter.widget-view+json": {
              "version_major": 2,
              "version_minor": 0,
              "model_id": "e9c1d59290e940fb829370a39dd59aa3"
            }
          },
          "metadata": {}
        },
        {
          "output_type": "display_data",
          "data": {
            "text/plain": [
              "Downloading:   0%|          | 0.00/0.99M [00:00<?, ?B/s]"
            ],
            "application/vnd.jupyter.widget-view+json": {
              "version_major": 2,
              "version_minor": 0,
              "model_id": "406297335bf34213a0617f97adbe30f3"
            }
          },
          "metadata": {}
        },
        {
          "output_type": "display_data",
          "data": {
            "text/plain": [
              "Downloading:   0%|          | 0.00/446k [00:00<?, ?B/s]"
            ],
            "application/vnd.jupyter.widget-view+json": {
              "version_major": 2,
              "version_minor": 0,
              "model_id": "2fa7d9213636455fbaca74592055bf2e"
            }
          },
          "metadata": {}
        },
        {
          "output_type": "display_data",
          "data": {
            "text/plain": [
              "Downloading:   0%|          | 0.00/1.29M [00:00<?, ?B/s]"
            ],
            "application/vnd.jupyter.widget-view+json": {
              "version_major": 2,
              "version_minor": 0,
              "model_id": "03915e9e445b4e9bbcf23c2746e3f43c"
            }
          },
          "metadata": {}
        },
        {
          "output_type": "stream",
          "name": "stderr",
          "text": [
            "Setting `pad_token_id` to `eos_token_id`:50256 for open-end generation.\n"
          ]
        },
        {
          "output_type": "execute_result",
          "data": {
            "text/plain": [
              "[{'generated_text': 'My name is Yan and I like to be cool, but these days I\\'m going to become good friends with the coolest guy, and I\\'m going to be going out into the world to win some gold and get to know the world better!\"\\n'}]"
            ]
          },
          "metadata": {},
          "execution_count": 73
        }
      ]
    },
    {
      "cell_type": "code",
      "source": [
        "#5. Perform inference on a simple input\n"
      ],
      "metadata": {
        "id": "dUsJnxKej8aD"
      },
      "execution_count": null,
      "outputs": []
    },
    {
      "cell_type": "code",
      "source": [
        "#6. Choose to return only added text and not full text\n"
      ],
      "metadata": {
        "id": "j3_WUMGLkBkc"
      },
      "execution_count": null,
      "outputs": []
    },
    {
      "cell_type": "code",
      "source": [
        "#7. Create a new pipeline using a model of your choice and repeat #5 on it\n"
      ],
      "metadata": {
        "id": "rbfdP6ngkGkg"
      },
      "execution_count": null,
      "outputs": []
    },
    {
      "cell_type": "markdown",
      "source": [
        "# Homework Exercises\n",
        "Remember that you can always click the `Show Code` button for help or to check your answers. Now that you're more familiar with the Google Colab interface, creat your own cells - markdown or code - to answer the questions below."
      ],
      "metadata": {
        "id": "DEUqTeCvliTC"
      }
    },
    {
      "cell_type": "markdown",
      "source": [
        "## Connection to Day 1: Data Types and Data Structures"
      ],
      "metadata": {
        "id": "O1-D7K7mfb8I"
      }
    },
    {
      "cell_type": "code",
      "source": [
        "#@title Reflect: Data Types\n",
        "#@markdown Recall Day 1, where we learned about data types. Recall that in\n",
        "#@markdown today's content, we observed a function call of the form:\n",
        "\n",
        "#@markdown ```\n",
        "#@markdown pipe = pipeline('text-generation', model='gpt2')\n",
        "#@markdown result = pipe('The cat ran merrily with its prey to', return_full_text=False)\n",
        "#@markdown ```\n",
        "\n",
        "#@markdown 1. In line 1, what are the datatypes of the two input arguments?\n",
        "#@markdown 2. In line 2, what are the datatypes of the two input arguments?\n",
        "\n",
        "#1\n",
        "# 'text-generation' is a string\n",
        "# The argument provided as the model parameter, 'gpt2', is also a string.\n",
        "\n",
        "#2\n",
        "# 'The cat ran merrily with its prey to' is a string\n",
        "# The argument provided as the return_full_text parameter, False, is a Boolean.\n"
      ],
      "metadata": {
        "cellView": "form",
        "id": "LO785NErhbFX"
      },
      "execution_count": null,
      "outputs": []
    },
    {
      "cell_type": "code",
      "source": [
        "#@title Reflect: Data Structures and Visual Presentation\n",
        "#@markdown The code below differs a bit in visual format than what we've seen,\n",
        "#@markdown but performs the expected behavior. It may look unfamiliar, but\n",
        "#@markdown let's explore why it does look different yet it's the same as\n",
        "#@markdown anything we've seen.\n",
        "\n",
        "#@markdown ```\n",
        "#@markdown # Use text generation pipeline\n",
        "#@markdown result = pipe(['The dog is adorable and so',\n",
        "#@markdown                'the cat meowed sleepily and'],\n",
        "#@markdown               return_full_text=False)\n",
        "#@markdown ```\n",
        "\n",
        "#@markdown 1. What is the data type of the first argument to `pipe`?\n",
        "#@markdown 2. What is different about the visual presentation of this list, if anything?\n",
        "#@markdown 3. Do you think this affects the behavior of the code? In other words, would it\n",
        "#@markdown return the same results, regardless of how this is formatted?\n",
        "\n",
        "#1\n",
        "# The first argument to pipe is a list of strings. The list has 2 elements.\n",
        "\n",
        "#2\n",
        "# We haven't seen a list whose contents are split across multiple lines, particularly\n",
        "# within a function call\n",
        "\n",
        "#3\n",
        "# This does not affect the behavior of the code, given that all of the indentation is correct.\n",
        "# This type of visual formatting is acceptable syntax for Python and most IDEs (like Google Colab)\n",
        "# will support this type of functionality by correctly indenting any line when it is\n",
        "# enclosed by parentheses (function arguments, tuples), brackets (creation of lists),\n",
        "# or curly braces (creation of dictionaries)"
      ],
      "metadata": {
        "cellView": "form",
        "id": "t3kpT9Izfi9X"
      },
      "execution_count": null,
      "outputs": []
    },
    {
      "cell_type": "code",
      "source": [
        "#@title Reflect: Data Structures - Part 1\n",
        "#@markdown Recall the output of our text classification pipeline, shown below:\n",
        "#@markdown ```\n",
        "#@markdown [{'label': 'POSITIVE', 'score': 0.9997424483299255},\n",
        "#@markdown {'label': 'NEGATIVE', 'score': 0.8735086917877197},\n",
        "#@markdown {'label': 'POSITIVE', 'score': 0.9485796689987183},\n",
        "#@markdown {'label': 'NEGATIVE', 'score': 0.9712409377098083}]\n",
        "#@markdown ```\n",
        "\n",
        "#@markdown Perhaps this looks terrifying, but let us convince ourselves that\n",
        "#@markdown it is nothing that we haven't seen before and we know what it is.\n",
        "\n",
        "#@markdown 1. What is data structure of this output? How do we know?\n",
        "#@markdown 2. How many elements does this data structure have?\n",
        "#@markdown 3. Look at element 0. What is its data structure? How do we know?\n",
        "#@markdown 4. How many elements does the element 0 data structure have?\n",
        "#@markdown 5. What are the keys of this data structure?\n",
        "#@markdown 6. What are the values of this data structure?\n",
        "\n",
        "#1\n",
        "# This data structure is a list. We know because the brackets tend to indicate\n",
        "# a list, and we can see that the contents are a sequence of elements, separated\n",
        "# by commas\n",
        "\n",
        "#2\n",
        "# The list has 4 elements\n",
        "\n",
        "#3\n",
        "# The data structure of element 0 is a dictionary. We know because it is\n",
        "# indicated by the presence of curly braces, its key-value pairs are separated\n",
        "# by commas, and each element is a key-value pair, specified by colons\n",
        "\n",
        "#4\n",
        "# Each dictionary has 2 elements (2 key-value pairs)\n",
        "\n",
        "#5\n",
        "# The keys of this data structure are 'label' and 'score'\n",
        "\n",
        "#6\n",
        "# The values of this data structure are the string of the inferenced label\n",
        "# and the probability associated with this prediction.\n",
        "\n"
      ],
      "metadata": {
        "cellView": "form",
        "id": "B2IGExFdkRyg"
      },
      "execution_count": null,
      "outputs": []
    },
    {
      "cell_type": "code",
      "source": [
        "#@title Reflect: Data Structures - Part 2\n",
        "\n",
        "#@markdown Recall the output of our text classification pipeline, shown below:\n",
        "#@markdown ```\n",
        "#@markdown output = [{'label': 'POSITIVE', 'score': 0.9997424483299255},\n",
        "#@markdown           {'label': 'NEGATIVE', 'score': 0.8735086917877197},\n",
        "#@markdown           {'label': 'POSITIVE', 'score': 0.9485796689987183},\n",
        "#@markdown           {'label': 'NEGATIVE', 'score': 0.9712409377098083}]\n",
        "#@markdown ```\n",
        "\n",
        "#@markdown Given the answers to the previous question, let's do some programming\n",
        "#@markdown with these known data structures. Note that we have assigned this data\n",
        "#@markdown data structure to the variable name `output`.\n",
        "\n",
        "#@markdown Recall that we can retrieve individual elements of lists and dictionaries.\n",
        "#@markdown 1. What was the syntax for retrieving an individual element of a list given a position (e.g., index/position 0)?\n",
        "#@markdown 2. Write the code that will retrieve the 0th element of the list\n",
        "#@markdown 3. What was the syntax for retrieving an individual element of a dictionary given a key?\n",
        "#@markdown 4. This one is a little harder. Return the label value (e.g., positive, negative)\n",
        "#@markdown for the dictionary at list element 0. Hint: The answer to question 2 will\n",
        "#@markdown return the dictionary; use this to lookup values\n",
        "\n",
        "#\n",
        "output = [{'label': 'POSITIVE', 'score': 0.9997424483299255},\n",
        "          {'label': 'NEGATIVE', 'score': 0.8735086917877197},\n",
        "          {'label': 'POSITIVE', 'score': 0.9485796689987183},\n",
        "          {'label': 'NEGATIVE', 'score': 0.9712409377098083}]\n",
        "\n",
        "#1\n",
        "# We use brackets to indicate that a particular position of the variable\n",
        "# is in our cross-hairs\n",
        "\n",
        "#2\n",
        "output[0]\n",
        "\n",
        "#3\n",
        "# We again use brackets to indicate that a particular key in the dictionary\n",
        "# is in our cross-hairs\n",
        "\n",
        "#4\n",
        "output[0]['label']\n",
        "#or\n",
        "out_dict = output[0]\n",
        "out_dict['label']\n",
        "# You'll see the syntax for the first option a lot, so convince yourself about\n",
        "# what it means\n"
      ],
      "metadata": {
        "cellView": "form",
        "id": "Mei8dZq8nH8-"
      },
      "execution_count": null,
      "outputs": []
    },
    {
      "cell_type": "markdown",
      "source": [
        "## Connection to Day 1: APIs and Functions\n",
        "On day 1, we could have used Python APIs and built-in functions to help us achieve more built-in functionality. Let's check that out."
      ],
      "metadata": {
        "id": "iGe_A_AdpmzZ"
      }
    },
    {
      "cell_type": "code",
      "source": [
        "#@title Code: Built-in Math API\n",
        "#@markdown On Day 1, we explored operators, e.g., `+`, `-`, etc. However, there's\n",
        "#@markdown lots more that we can do now that we can use functions!\n",
        "\n",
        "#@markdown Using the documentation on [built-in Numeric Types](https://docs.python.org/3/library/stdtypes.html#numeric-types-int-float-complex),\n",
        "#@markdown answer the following questions:\n",
        "#@markdown 1. Compute the absolute value of -2\n",
        "#@markdown 2. Convert the float 3.7 to an integer\n",
        "#@markdown 3. Use a function to raise 2 to the power of 3 (e.g., 8)\n",
        "\n",
        "#1\n",
        "abs(-2)\n",
        "\n",
        "#2\n",
        "int(3.7)\n",
        "\n",
        "#3\n",
        "pow(2,3)"
      ],
      "metadata": {
        "cellView": "form",
        "id": "xwgsN6eFpu6y"
      },
      "execution_count": null,
      "outputs": []
    },
    {
      "cell_type": "code",
      "source": [
        "#@title Code: Built-in String API\n",
        "#@markdown Today, we explored using the `lower` function to lowercase an input string.\n",
        "\n",
        "#@markdown Using the documentation on [built-in String methods](https://docs.python.org/3/library/stdtypes.html#string-methods),\n",
        "#@markdown answer the following questions using string methods:\n",
        "#@markdown 1. Capitalize the first letter of the word 'huggingface'\n",
        "#@markdown 2. Determine whether the string '6 dogs and a cat' is alphanumeric\n",
        "#@markdown 3. Determine whether the string '2341' is numeric\n",
        "#@markdown 4. Determine whether the string 'BJORN' contains all uppercase letters\n",
        "\n",
        "#1\n",
        "'huggingface'.capitalize()\n",
        "\n",
        "#2\n",
        "'6 dogs and a cat'.isalnum() #note that this is not alphanumeric ONLY because it contains spaces\n",
        "\n",
        "#3\n",
        "'2341'.isnumeric()\n",
        "\n",
        "#4\n",
        "'BJORN'.isupper()"
      ],
      "metadata": {
        "cellView": "form",
        "id": "H24-8T2QrKlY"
      },
      "execution_count": null,
      "outputs": []
    },
    {
      "cell_type": "markdown",
      "source": [
        "## Huggingface API Practice\n",
        "In this section, you'll continue exploring the [Pipeline API from Huggingface](https://huggingface.co/docs/transformers/v4.18.0/en/main_classes/pipelines). "
      ],
      "metadata": {
        "id": "nA4-vnDpt1gh"
      }
    },
    {
      "cell_type": "code",
      "source": [
        "#@title Exercise: Question Answering\n",
        "#@markdown In this example, you'll create a question answering pipeline. Use the API to answer\n",
        "#@markdown the following questions:\n",
        "#@markdown 1. What is the expected behavior of the question-answer pipeline in plain words?\n",
        "#@markdown 2. What types of main arguments can you pass in _that are something that you have_?\n",
        "#@markdown e.g., if you don't have `SquadExample` inputs, what other parameters can you use?\n",
        "#@markdown 3. What do you expect to be returned by QuestionAnsweringPipeline?\n",
        "#@markdown 4. Create a question answering generation pipeline\n",
        "#@markdown 5. Use simple inputs (e.g., a string rather than a list of strings) to generate and view the output\n",
        "#@markdown 6. If you wanted to allow 'impossible' as an answer, what parameter would you change? Change this parameter to the appropriate value and observe the results.\n",
        "#@markdown 7. Use a different model and explore the resultant performance of Question 5.\n",
        "\n",
        "#1\n",
        "# The question answering pipeline uses the context information provided to answer questions\n",
        "\n",
        "#2\n",
        "# You can pass in question, which is a string or a list of strings, and\n",
        "# context, which is a string or list of strings.\n",
        "\n",
        "#3\n",
        "# The return type is a dict or a list of dicts. Each dict will contain the keys\n",
        "# score, start, end, and answer.\n",
        "\n",
        "#4\n",
        "qpipe = pipeline('question-answering')\n",
        "\n",
        "#5\n",
        "qpipe(context = 'Jack is 26 years old and is from Algeria',\n",
        "      question='Where is Jack from?')\n",
        "\n",
        "#6\n",
        "qpipe(context = 'Jack is 26 years old and is from Algeria',\n",
        "      question=\"Where is Jack from?\",\n",
        "      allow_impossible_answer = True)\n",
        "\n",
        "#7\n",
        "qpipe = pipeline('question-answering', model='valhalla/bart-large-finetuned-squadv1')\n",
        "qpipe(context = 'Jack is 26 years old and is from Algeria',\n",
        "      question=\"What is Jack's job?\")\n"
      ],
      "metadata": {
        "cellView": "form",
        "id": "hRF2BNwmsx4j"
      },
      "execution_count": null,
      "outputs": []
    },
    {
      "cell_type": "code",
      "source": [
        "#@title Exercise: Image Classification\n",
        "#@markdown In this example, you'll create an Image Classification pipeline. Use the API to answer\n",
        "#@markdown the following questions:\n",
        "#@markdown 1. What is the expected behavior of the image classification pipeline in plain words?\n",
        "#@markdown 2. What types of main arguments can you pass in?\n",
        "#@markdown 3. What do you expect to be returned by the pipeline?\n",
        "#@markdown 4. Create the pipeline\n",
        "#@markdown 5. Use simple inputs (e.g., a string rather than a list of strings) to generate and view the output\n",
        "#@markdown 6. If you wanted to see the 2 top labels only, what parameter would you change? Change this parameter to the appropriate value and observe the results.\n",
        "#@markdown 7. Use a different model and explore the resultant performance of Question 5.\n",
        "#@markdown 8. Interpret the meaning of the outputs\n",
        "\n",
        "#1\n",
        "# This pipeline predicts the class of an image\n",
        "\n",
        "#2\n",
        "# You can pass images, which is a single string or a list of strings where are\n",
        "# image URLs. You can also pass a PIL image or a list of PIL images.\n",
        "\n",
        "#3\n",
        "# The return type is unclear from the API, but some representation of the\n",
        "# labels of the images is expected\n",
        "\n",
        "#4\n",
        "icpipe = pipeline('image-classification')\n",
        "\n",
        "#5\n",
        "icpipe('https://live.staticflickr.com/65535/50881797506_176f3d534f_z.jpg')\n",
        "\n",
        "#6\n",
        "icpipe('https://live.staticflickr.com/65535/50881797506_176f3d534f_z.jpg',\n",
        "       top_k = 2)\n",
        "\n",
        "#7\n",
        "icpipe = pipeline('image-classification', model='microsoft/swin-tiny-patch4-window7-224')\n",
        "icpipe('https://live.staticflickr.com/65535/50881797506_176f3d534f_z.jpg')\n",
        "\n",
        "#8\n",
        "# This is an image classification pipeline, meaning that the model is trying\n",
        "# to come up with a classification for the whole image. We have several labels\n",
        "# returned because of the top_k parameter, which by default is 5. Essentially,\n",
        "# it would classify the image as the top result."
      ],
      "metadata": {
        "cellView": "form",
        "id": "FV0086bVzkFA"
      },
      "execution_count": null,
      "outputs": []
    }
  ]
}