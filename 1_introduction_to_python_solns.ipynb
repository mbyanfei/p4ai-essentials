{
  "nbformat": 4,
  "nbformat_minor": 0,
  "metadata": {
    "colab": {
      "name": "1-introduction-to-python-solns",
      "provenance": [],
      "collapsed_sections": [
        "RSIS2NnG6PyP",
        "OX-7DwiOddrr",
        "lOO3dQmj9AN3",
        "wqRWwy7nAF_B",
        "eXMZeBSi4drM",
        "3Z41BmK2TOmF",
        "oICyZ1fljKwd"
      ],
      "toc_visible": true,
      "authorship_tag": "ABX9TyPDTC3d4B/CLcsQKv8VJFS5",
      "include_colab_link": true
    },
    "kernelspec": {
      "name": "python3",
      "display_name": "Python 3"
    },
    "language_info": {
      "name": "python"
    }
  },
  "cells": [
    {
      "cell_type": "markdown",
      "metadata": {
        "id": "view-in-github",
        "colab_type": "text"
      },
      "source": [
        "<a href=\"https://colab.research.google.com/github/vanderbilt-data-science/p4ai-essentials/blob/main/1_introduction_to_python_solns.ipynb\" target=\"_parent\"><img src=\"https://colab.research.google.com/assets/colab-badge.svg\" alt=\"Open In Colab\"/></a>"
      ]
    },
    {
      "cell_type": "markdown",
      "source": [
        "# Introduction to Python with Google Colab\n",
        "> An overview of the user interface to the kernel\n",
        "\n",
        "## Lesson Objectives\n",
        "At the end of this lesson, you should be able to:\n",
        "1. Provide a high-level description of interactions with the Python kernel\n",
        "2. Identify and use the relevant features of Google Colab and Jupyter Notebooks\n",
        "  * How to create a code cell\n",
        "  * How to create a markdown cell\n",
        "  * How to execute or render a cell\n",
        "3. Create and explain the use of literate programming\n",
        "4. Create and use basic Python data types\n",
        "5. Conceptually understand and explain, create, and use standard Python data structures\n",
        "  * Lists\n",
        "  * Dictionaries\n",
        "  * Tuples\n",
        "\n",
        "Let's get started!"
      ],
      "metadata": {
        "id": "63sdkoOBbZOY"
      }
    },
    {
      "cell_type": "markdown",
      "source": [
        "# Introduction to Google Colab\n",
        "Google Colab facilitates literate programming, meaning that it's not just code and code comments. We can narrate, as you see here! Double click this cell to inspect what markdown notation looks like!"
      ],
      "metadata": {
        "id": "RSIS2NnG6PyP"
      }
    },
    {
      "cell_type": "code",
      "source": [
        "# This is a code cell. This line is a comment. To execute this cell (provide information and/or instruction to our kernel \"child\"),\n",
        "# use the arrow on the LHS of the cell. Click it now!"
      ],
      "metadata": {
        "id": "OVOgv6U46cFo"
      },
      "execution_count": null,
      "outputs": []
    },
    {
      "cell_type": "markdown",
      "source": [
        "That's right, nothing of importance happened. We didn't give it any information or instruction. It essentially just received a blank fax. We'll come back to this.\n",
        "\n",
        "Let's look at some other tools provided by Google Colab before we get into the Python Language:\n",
        "* Hovering over the bottom of the cell provides options to create a new code cell or a new text/markdown cell\n",
        "* Shift + Enter executes the cell (without having to move your hands to the mouse/touchpad to click run)\n",
        "* If you ever want to Run cells in a certain way, for example all cells without executing them individually, check out the `Runtime` tab.\n",
        "\n",
        "There is also some functionality we won't talk about here, but message us and we'll make a separate session given enough demand. For example:\n",
        "* Mounting Google Drive (allowing you access to your cloud/shared data/documents)\n",
        "* Using scratchpads\n",
        "* Connecting to a local Jupyter runtime (Colab is in the cloud on far away machines; you could also connect it to your lab machine instead!)"
      ],
      "metadata": {
        "id": "qJB6bRxQ8RNX"
      }
    },
    {
      "cell_type": "markdown",
      "source": [
        "# How does this programming thing work?\n",
        "Let's start with something that we know - telling a child how to make a peanut butter and jelly sandwich!\n",
        "\n",
        "<center>\n",
        "<img src=\"https://live.staticflickr.com/28/59516971_393af81183_h.jpg\" width=\"200\">\n",
        "\n",
        "Imagine in this moment that a child calls you on the phone and asks you to guide them through making a peanut butter and jelly sandwich. What items do they need? What instructions do you give?"
      ],
      "metadata": {
        "id": "OX-7DwiOddrr"
      }
    },
    {
      "cell_type": "code",
      "source": [
        "#@title Your Answer { vertical-output: true }\n",
        "#@markdown **Items needed**:\n",
        "item_1 = \"\" #@param {type:\"string\"}\n",
        "item_2 = \"\" #@param {type:\"string\"}\n",
        "item_3 = \"\" #@param {type:\"string\"}\n",
        "\n",
        "#@markdown **List of steps**:\n",
        "step_1 = \"\" #@param {type:\"string\"}\n",
        "step_2 = \"\" #@param {type:\"string\"}\n",
        "step_3 = \"\" #@param {type:\"string\"}\n",
        "step_4 = \"\" #@param {type:\"string\"}\n",
        "\n",
        "#@markdown Why is this a meaningful exercise?\n",
        "#@markdown Let's examine.\n",
        "#@markdown [Oof! Hang in there for a moment of lecture-style instruction!]\n"
      ],
      "metadata": {
        "id": "oRAEc2sFeYQ-",
        "cellView": "form"
      },
      "execution_count": null,
      "outputs": []
    },
    {
      "cell_type": "markdown",
      "source": [
        "# Things Python Already Knows: Calculator Functionality\n",
        "Let's explore \"providing instructions\" and \"providing information\". As we said, there are things that the child \"knows of\" and \"knows how to do\" already. Let's look at the most important ones in Python."
      ],
      "metadata": {
        "id": "lOO3dQmj9AN3"
      }
    },
    {
      "cell_type": "markdown",
      "source": [
        "## Data types\n",
        "Python already knows a specific set of basic data types and knows how to interact with them in some somewhat expected ways. Let's check some out."
      ],
      "metadata": {
        "id": "ylQXpnde_Xi4"
      }
    },
    {
      "cell_type": "code",
      "source": [
        "# It gets what numbers are and common things we do with them\n",
        "print(7 + 7)\n",
        "\n",
        "# It can work with text/string data\n",
        "print('The data is ' + 'long')\n",
        "\n",
        "# It can automatically navigate (some) different data types\n",
        "print(2.8 + 9)"
      ],
      "metadata": {
        "colab": {
          "base_uri": "https://localhost:8080/"
        },
        "id": "MY7g9R-U_gsW",
        "outputId": "791d55a6-12f2-47e3-e9cd-cd1436971098"
      },
      "execution_count": null,
      "outputs": [
        {
          "output_type": "stream",
          "name": "stdout",
          "text": [
            "14\n",
            "The data is long\n",
            "11.8\n"
          ]
        }
      ]
    },
    {
      "cell_type": "markdown",
      "source": [
        "Using just raw numbers/hard coding is diminishing returns. Programming is built on the back of increasing levels of abstraction. We do this by assigning values to variables."
      ],
      "metadata": {
        "id": "nZKzPF3n_-2I"
      }
    },
    {
      "cell_type": "code",
      "source": [
        "# Numbers\n",
        "var_integer = 7\n",
        "var_float = 0.22\n",
        "\n",
        "# Strings\n",
        "var_string = 'the dog is cute'"
      ],
      "metadata": {
        "id": "SwFgJVeF8Qrs"
      },
      "execution_count": null,
      "outputs": []
    },
    {
      "cell_type": "markdown",
      "source": [
        "It is meaningless for us to just write this code....how does it get executed? If we just write the code and don't execute it, it's like speaking the instructions to the child that isn't even listening. Check this out.\n",
        "\n",
        "Before executing the cells above, execute the following cell:"
      ],
      "metadata": {
        "id": "OpHOO9xNEeQw"
      }
    },
    {
      "cell_type": "code",
      "source": [
        "dir()"
      ],
      "metadata": {
        "colab": {
          "base_uri": "https://localhost:8080/"
        },
        "id": "jc1t6obO-ywz",
        "outputId": "830dccae-ca0e-4c51-ee7b-4a8c624571b5"
      },
      "execution_count": null,
      "outputs": [
        {
          "output_type": "execute_result",
          "data": {
            "text/plain": [
              "['In',\n",
              " 'Out',\n",
              " '_',\n",
              " '__',\n",
              " '___',\n",
              " '__builtin__',\n",
              " '__builtins__',\n",
              " '__doc__',\n",
              " '__loader__',\n",
              " '__name__',\n",
              " '__package__',\n",
              " '__spec__',\n",
              " '_dh',\n",
              " '_i',\n",
              " '_i1',\n",
              " '_ih',\n",
              " '_ii',\n",
              " '_iii',\n",
              " '_oh',\n",
              " '_sh',\n",
              " 'exit',\n",
              " 'get_ipython',\n",
              " 'quit']"
            ]
          },
          "metadata": {},
          "execution_count": 1
        }
      ]
    },
    {
      "cell_type": "markdown",
      "source": [
        "These are some of the variables that are already populated and \"saved\" in the kernel. Let's see what happens when we actually execute the cells.\n",
        "\n",
        "Press the arrow next to the cell which defines some of our different variable types. Then, run the following cell."
      ],
      "metadata": {
        "id": "uPAXWaqovg5a"
      }
    },
    {
      "cell_type": "code",
      "source": [
        "dir()"
      ],
      "metadata": {
        "colab": {
          "base_uri": "https://localhost:8080/"
        },
        "id": "z3Zv8k8cwGij",
        "outputId": "c74aaceb-74ea-4d23-bef2-2b0c9f2c7952"
      },
      "execution_count": null,
      "outputs": [
        {
          "output_type": "execute_result",
          "data": {
            "text/plain": [
              "['In',\n",
              " 'Out',\n",
              " '_',\n",
              " '_1',\n",
              " '__',\n",
              " '___',\n",
              " '__builtin__',\n",
              " '__builtins__',\n",
              " '__doc__',\n",
              " '__loader__',\n",
              " '__name__',\n",
              " '__package__',\n",
              " '__spec__',\n",
              " '_dh',\n",
              " '_i',\n",
              " '_i1',\n",
              " '_i2',\n",
              " '_i3',\n",
              " '_ih',\n",
              " '_ii',\n",
              " '_iii',\n",
              " '_oh',\n",
              " '_sh',\n",
              " 'exit',\n",
              " 'get_ipython',\n",
              " 'quit',\n",
              " 'var_float',\n",
              " 'var_integer',\n",
              " 'var_string']"
            ]
          },
          "metadata": {},
          "execution_count": 3
        }
      ]
    },
    {
      "cell_type": "markdown",
      "source": [
        "Notice the new information in your kernel! These variables have been \"saved\" into your kernel and are now new pieces of information to be referenced. This is the fundamental operation of the kernel. Keep in mind two things:\n",
        "\n",
        "1. Notice that the execution/output of the first `dir()` code cell did not change. This reflects the outputs and the state of the kernel at the time that you ran the cell.\n",
        "2. Now, we can use these _objects_ that we've saved!\n",
        "\n",
        "One way of \"using\" these objects is just to see their values. Let's check out what this looks like:"
      ],
      "metadata": {
        "id": "Qd8ePLiLwKOp"
      }
    },
    {
      "cell_type": "code",
      "source": [
        "var_float"
      ],
      "metadata": {
        "colab": {
          "base_uri": "https://localhost:8080/"
        },
        "id": "vy114njmwMFM",
        "outputId": "3b9dbd16-336f-4346-a2e1-c40f79dd6fdb"
      },
      "execution_count": null,
      "outputs": [
        {
          "output_type": "execute_result",
          "data": {
            "text/plain": [
              "0.22"
            ]
          },
          "metadata": {},
          "execution_count": 6
        }
      ]
    },
    {
      "cell_type": "markdown",
      "source": [
        "## Basic Math Operations\n",
        "Beyond the datatypes and what they mean, Python already knows several types of math/set operations. Let's check it out. A great reference can be found in the [Python Reference API](https://docs.python.org/3/library/stdtypes.html#numeric-types-int-float-complex)."
      ],
      "metadata": {
        "id": "b09dkmG1xN-Z"
      }
    },
    {
      "cell_type": "code",
      "source": [
        "# Add together our float and our integer value\n",
        "var_float + var_integer"
      ],
      "metadata": {
        "colab": {
          "base_uri": "https://localhost:8080/"
        },
        "id": "aJ4Z-a_JwuTg",
        "outputId": "4f11cc38-8ce2-4517-f742-ce88215f34cd"
      },
      "execution_count": null,
      "outputs": [
        {
          "output_type": "execute_result",
          "data": {
            "text/plain": [
              "7.22"
            ]
          },
          "metadata": {},
          "execution_count": 7
        }
      ]
    },
    {
      "cell_type": "code",
      "source": [
        "# Subtract var_integer from var_float\n",
        "var_float - var_integer\n",
        "\n",
        "# Multiply var_integer with var_float\n",
        "var_float * var_integer\n",
        "\n",
        "# Quotient of var_float divided by var_integer\n",
        "var_float / var_integer"
      ],
      "metadata": {
        "colab": {
          "base_uri": "https://localhost:8080/"
        },
        "id": "BeyxECJWxb2l",
        "outputId": "c7ca6922-0e97-4387-ba6a-403ebda9f4e4"
      },
      "execution_count": null,
      "outputs": [
        {
          "output_type": "execute_result",
          "data": {
            "text/plain": [
              "0.03142857142857143"
            ]
          },
          "metadata": {},
          "execution_count": 2
        }
      ]
    },
    {
      "cell_type": "code",
      "source": [
        "#@title Try it Yourself!\n",
        "#@markdown Using the Python Reference API, find the symbols to achieve the following:\n",
        "#@markdown 1. The floored quotient of `var_float` and `var_integer`\n",
        "#@markdown 2. The remainder of `var_float` divided by `var_integer`\n",
        "\n",
        "#Answer to 1\n",
        "print(var_float//var_integer)\n",
        "\n",
        "#Answer to 2\n",
        "print(var_float % var_integer)\n",
        "\n",
        "#@markdown You can use the cell below for your answers. Use the `Show Code` button below\n",
        "#@markdown for the answers if you find yourself stuck.\n"
      ],
      "metadata": {
        "cellView": "form",
        "id": "AcpkmD5x4gUg"
      },
      "execution_count": null,
      "outputs": []
    },
    {
      "cell_type": "code",
      "source": [
        "#Answer to 1\n",
        "print(var_float//var_integer)\n",
        "\n",
        "#Answer to 2\n",
        "print(var_float % var_integer)"
      ],
      "metadata": {
        "id": "wT0_EI3GxmrR",
        "colab": {
          "base_uri": "https://localhost:8080/"
        },
        "outputId": "f82286ca-3377-4a09-a9ec-5822c65433fe"
      },
      "execution_count": null,
      "outputs": [
        {
          "output_type": "stream",
          "name": "stdout",
          "text": [
            "0.0\n",
            "0.22\n"
          ]
        }
      ]
    },
    {
      "cell_type": "markdown",
      "source": [
        "## Basic Comparisons\n",
        "We can see similar built-in behavior with comparisons. Let's quickly also check those out. We will again use the [Python library reference on Comparisons here.](https://docs.python.org/3/library/stdtypes.html#comparisons)"
      ],
      "metadata": {
        "id": "KZSMwj8c9542"
      }
    },
    {
      "cell_type": "code",
      "source": [
        "#Determine if one value is larger than another\n",
        "var_float > var_integer"
      ],
      "metadata": {
        "id": "ZcA73kxX-diX",
        "colab": {
          "base_uri": "https://localhost:8080/"
        },
        "outputId": "a181f15b-620c-4aa9-e759-d3462365b749"
      },
      "execution_count": null,
      "outputs": [
        {
          "output_type": "execute_result",
          "data": {
            "text/plain": [
              "False"
            ]
          },
          "metadata": {},
          "execution_count": 4
        }
      ]
    },
    {
      "cell_type": "code",
      "source": [
        "#Determine whether a numerical object is equal to another\n",
        "print(var_float == var_integer)\n",
        "\n",
        "#Determine inequality\n",
        "var_float != var_integer"
      ],
      "metadata": {
        "id": "FuB75o4y-kmo",
        "colab": {
          "base_uri": "https://localhost:8080/"
        },
        "outputId": "262b63a0-b354-4bfa-a928-f7ed700fcac5"
      },
      "execution_count": null,
      "outputs": [
        {
          "output_type": "stream",
          "name": "stdout",
          "text": [
            "False\n"
          ]
        },
        {
          "output_type": "execute_result",
          "data": {
            "text/plain": [
              "True"
            ]
          },
          "metadata": {},
          "execution_count": 5
        }
      ]
    },
    {
      "cell_type": "markdown",
      "source": [
        "# Things Python Already Knows: Aggregated Data Elements (Collections)\n",
        "\n",
        "Beyond single variables, we often want to be able to treat related values as components of a single variable as a _collection_. What the heck does that mean? Let's check out two built-in data structures.\n"
      ],
      "metadata": {
        "id": "wqRWwy7nAF_B"
      }
    },
    {
      "cell_type": "markdown",
      "source": [
        "## Lists\n",
        "Think of the hallway of an office building you're just visiting. I can think of at least 2 ways to name each of the individual offices:\n",
        "\n",
        "1. **Represent each object individually**: We can use what we've already learned and give each office an individual variable name.\n",
        "1. **Represent each object as a part of another object**: We could choose to represent all offices of a floor as a batch (single collection), and reference each object by its position on the floor.\n",
        "\n",
        "Let's compare these approaches:\n",
        "<center>\n",
        "<img src=\"https://github.com/vanderbilt-data-science/p4ai-essentials/blob/main/img/list_type_comparison.png?raw=true\" width=\"800\">\n",
        "</center>\n",
        "\n",
        "How do we do this in code? You'll have to take my word for it to start off with, but Python offers great functionality related to the list data structure as opposed to manipulating single elements. Let's check it out."
      ],
      "metadata": {
        "id": "cc5WpI22Abe7"
      }
    },
    {
      "cell_type": "markdown",
      "source": [
        "### Creating Lists\n",
        "Below, we will learn the _syntax_ and _language_ to speak with Python and it understand its tasks to complete."
      ],
      "metadata": {
        "id": "9oipPsrK31u0"
      }
    },
    {
      "cell_type": "code",
      "source": [
        "# How do we make a list?\n",
        "floor0 = ['judge chambers', 'jury entrance', 'media entrance', 'general entrance', 'gender-neutral restroom']"
      ],
      "metadata": {
        "id": "l70-JbPeI3Dm"
      },
      "execution_count": 1,
      "outputs": []
    },
    {
      "cell_type": "markdown",
      "source": [
        "### Retrieving elements of lists"
      ],
      "metadata": {
        "id": "D0BNQT4O34up"
      }
    },
    {
      "cell_type": "code",
      "source": [
        "# How do we reference elements in that list?\n",
        "print(floor0[0])\n",
        "floor0[2]"
      ],
      "metadata": {
        "colab": {
          "base_uri": "https://localhost:8080/",
          "height": 53
        },
        "id": "wqeTtQaeKJ33",
        "outputId": "ecac8e2c-ab93-4cdd-caea-5e18a794cacf"
      },
      "execution_count": null,
      "outputs": [
        {
          "output_type": "stream",
          "name": "stdout",
          "text": [
            "judge chambers\n"
          ]
        },
        {
          "output_type": "execute_result",
          "data": {
            "text/plain": [
              "'media entrance'"
            ],
            "application/vnd.google.colaboratory.intrinsic+json": {
              "type": "string"
            }
          },
          "metadata": {},
          "execution_count": 2
        }
      ]
    },
    {
      "cell_type": "code",
      "source": [
        "# How can we iterate over all values?\n",
        "for room in floor0:\n",
        "  print(room)"
      ],
      "metadata": {
        "colab": {
          "base_uri": "https://localhost:8080/"
        },
        "id": "sUHxNq2UKbX0",
        "outputId": "64dcd8b4-c860-4d40-ed80-3df18de79b4f"
      },
      "execution_count": null,
      "outputs": [
        {
          "output_type": "stream",
          "name": "stdout",
          "text": [
            "judge chambers\n",
            "jury entrance\n",
            "media entrance\n",
            "general entrance\n",
            "gender-neutral restroom\n"
          ]
        }
      ]
    },
    {
      "cell_type": "markdown",
      "source": [
        "### Iteration helpers you'll see frequently\n",
        "We'll go over this in more detail in a later class, but the following functions are helpful, particularly in iteration:\n",
        "* `enumerate`: returns both the index (position) in the list and the list value\n",
        "* `len`: returns the length of the list\n",
        "* `range`: returns a sequence of numbers (e.g., 1-4)\n",
        "\n",
        "Make sure to take a look at these in depth tonight for your homework."
      ],
      "metadata": {
        "id": "eXMZeBSi4drM"
      }
    },
    {
      "cell_type": "code",
      "source": [
        "# What else is something nice that we can do with that list data structure?\n",
        "for position, room in enumerate(floor0):\n",
        "  print(position, room)"
      ],
      "metadata": {
        "colab": {
          "base_uri": "https://localhost:8080/"
        },
        "id": "LRtyoWf0KiQN",
        "outputId": "fdb11c93-bbc2-4d70-8bc0-dabe6358c913"
      },
      "execution_count": 2,
      "outputs": [
        {
          "output_type": "stream",
          "name": "stdout",
          "text": [
            "0 judge chambers\n",
            "1 jury entrance\n",
            "2 media entrance\n",
            "3 general entrance\n",
            "4 gender-neutral restroom\n"
          ]
        }
      ]
    },
    {
      "cell_type": "code",
      "source": [
        "# What else can we do with that list data structure?\n",
        "for position in range(len(floor0)):\n",
        "  print(position, floor0[position])"
      ],
      "metadata": {
        "colab": {
          "base_uri": "https://localhost:8080/"
        },
        "id": "FpKukDqlK1ut",
        "outputId": "333b4966-8c2c-43f2-fc92-93f4516c87d8"
      },
      "execution_count": 3,
      "outputs": [
        {
          "output_type": "stream",
          "name": "stdout",
          "text": [
            "0 judge chambers\n",
            "1 jury entrance\n",
            "2 media entrance\n",
            "3 general entrance\n",
            "4 gender-neutral restroom\n"
          ]
        }
      ]
    },
    {
      "cell_type": "code",
      "source": [
        "# What if I needed to change the definition of an element?\n",
        "for position in range(len(floor0)):\n",
        "\n",
        "  # Room position 2 becomes a janitor closet\n",
        "  if position==2:\n",
        "    floor0[position] = 'janitor closet'\n",
        "  print(position, floor0[position])"
      ],
      "metadata": {
        "colab": {
          "base_uri": "https://localhost:8080/"
        },
        "id": "PfXp_YIaLGFA",
        "outputId": "20fd6d73-5f42-41bb-b752-9de7981222f5"
      },
      "execution_count": 4,
      "outputs": [
        {
          "output_type": "stream",
          "name": "stdout",
          "text": [
            "0 judge chambers\n",
            "1 jury entrance\n",
            "2 janitor closet\n",
            "3 general entrance\n",
            "4 gender-neutral restroom\n"
          ]
        }
      ]
    },
    {
      "cell_type": "markdown",
      "source": [
        "One thing to remember about lists is that lists are **ordered**, that is, they are in a specific sequence and are ALWAYS in that sequence unless you change it."
      ],
      "metadata": {
        "id": "vohrFh74JeYn"
      }
    },
    {
      "cell_type": "markdown",
      "source": [
        "## Dictionaries\n",
        "Think of dictionaries as exactly what the word implies - a dictionary. How do you use a dictionary?\n",
        "\n",
        "Dictionaries are a set of `keys` (the words) and `values` (the definitions) organized as `key`-`value` pairs. You use a word in a dictionary to look up its value.\n",
        "\n",
        "Let's return to our hallway example.\n",
        "<center>\n",
        "<img src=\"https://github.com/vanderbilt-data-science/p4ai-essentials/blob/main/img/dictionary_elements.png?raw=true\" width=\"800\">\n",
        "</center>\n",
        "\n",
        "We know that although a list structure _can_ represent this data, the ordered list isn't actually the _best_ representation we can get. But intuitively, we think of a _room number_ as defining what is in the room. We can use a dictionary to help us with this. Let's check that out."
      ],
      "metadata": {
        "id": "nhorE6i5Lbe9"
      }
    },
    {
      "cell_type": "markdown",
      "source": [
        "### Creating dictionaries"
      ],
      "metadata": {
        "id": "ZZHiflSx2ZvM"
      }
    },
    {
      "cell_type": "code",
      "source": [
        "# What is the syntax for creating a dictionary?\n",
        "floor0 = {'001':'judge chambers',\n",
        "          '002':'jury entrance',\n",
        "          '003':'janitor closet',\n",
        "          '004':'general entrance',\n",
        "          '005':'gender-neutral restroom'}\n",
        "floor0"
      ],
      "metadata": {
        "colab": {
          "base_uri": "https://localhost:8080/"
        },
        "id": "6Er3i1yWPYZb",
        "outputId": "fcb211e6-3e40-471f-cc5e-653f7f74d64f"
      },
      "execution_count": null,
      "outputs": [
        {
          "output_type": "execute_result",
          "data": {
            "text/plain": [
              "{'001': 'judge chambers',\n",
              " '002': 'jury entrance',\n",
              " '003': 'janitor closet',\n",
              " '004': 'general entrance',\n",
              " '005': 'gender-neutral restroom'}"
            ]
          },
          "metadata": {},
          "execution_count": 50
        }
      ]
    },
    {
      "cell_type": "code",
      "source": [
        "#@markdown We can also use other syntax to make dictionaries\n",
        "\n",
        "# Using dict function\n",
        "floor0 = dict({'001':'judge chambers',\n",
        "              '002':'jury entrance',\n",
        "              '003':'janitor closet',\n",
        "              '004':'general entrance',\n",
        "              '005':'gender-neutral restroom'})\n",
        "\n",
        "#Using a list of tuples, i.e., a list of pairs of elements\n",
        "floor0 = dict([('001', 'judge chambers'),\n",
        "               ('002', 'jury entrance'),\n",
        "               ('003', 'janitor closet'),\n",
        "               ('004', 'general entrance'),\n",
        "               ('005', 'gender-neutral restroom')])\n",
        "\n",
        "floor0"
      ],
      "metadata": {
        "cellView": "form",
        "id": "Aj-HBtIaXDeD"
      },
      "execution_count": null,
      "outputs": []
    },
    {
      "cell_type": "markdown",
      "source": [
        "### Retrieving elements of dictionaries"
      ],
      "metadata": {
        "id": "bQpvID3L2eyj"
      }
    },
    {
      "cell_type": "code",
      "source": [
        "# How do we use our dictionaries?\n",
        "print(floor0['001'])\n",
        "\n",
        "# What if we want to know what's in room 005?\n",
        "floor0['005']"
      ],
      "metadata": {
        "colab": {
          "base_uri": "https://localhost:8080/",
          "height": 53
        },
        "id": "U_pzs3KGSG13",
        "outputId": "34dcfcf2-ef48-4161-e08f-3543f6471959"
      },
      "execution_count": null,
      "outputs": [
        {
          "output_type": "stream",
          "name": "stdout",
          "text": [
            "judge_chambers\n"
          ]
        },
        {
          "output_type": "execute_result",
          "data": {
            "text/plain": [
              "'gender-neutral restroom'"
            ],
            "application/vnd.google.colaboratory.intrinsic+json": {
              "type": "string"
            }
          },
          "metadata": {},
          "execution_count": 10
        }
      ]
    },
    {
      "cell_type": "markdown",
      "source": [
        "### Built-in Functionality\n",
        "> Iteration, Keys, and Values"
      ],
      "metadata": {
        "id": "gS4FXbUm2l3c"
      }
    },
    {
      "cell_type": "code",
      "source": [
        "# we can use the dictionary for simple iteration over keys\n",
        "for room_no in floor0:\n",
        "  print(room_no)"
      ],
      "metadata": {
        "colab": {
          "base_uri": "https://localhost:8080/"
        },
        "id": "Fizs0MycSfFe",
        "outputId": "bddeb525-9742-4a4d-8e83-29ed6b1379bb"
      },
      "execution_count": null,
      "outputs": [
        {
          "output_type": "stream",
          "name": "stdout",
          "text": [
            "001\n",
            "002\n",
            "003\n",
            "004\n",
            "005\n"
          ]
        }
      ]
    },
    {
      "cell_type": "code",
      "source": [
        "# We can also iterate over the values by using the built-in values function for dictionaries\n",
        "for room_type in floor0.values():\n",
        "  print(room_type)"
      ],
      "metadata": {
        "colab": {
          "base_uri": "https://localhost:8080/"
        },
        "id": "Q879MjTWStjX",
        "outputId": "bb6a3f34-8c49-4479-e222-6175b3d5405d"
      },
      "execution_count": null,
      "outputs": [
        {
          "output_type": "stream",
          "name": "stdout",
          "text": [
            "judge_chambers\n",
            "jury_entrance\n",
            "janitor_closet\n",
            "general_entrance\n",
            "gender-neutral restroom\n"
          ]
        }
      ]
    },
    {
      "cell_type": "code",
      "source": [
        "# We can also use the built in items function to retrieve key, value pairs\n",
        "for room_no, room_type in floor0.items():\n",
        "  print(room_no, room_type)"
      ],
      "metadata": {
        "colab": {
          "base_uri": "https://localhost:8080/"
        },
        "id": "PqzsrjzpTE9X",
        "outputId": "7a0cf78f-4a13-4873-b737-694223485a15"
      },
      "execution_count": null,
      "outputs": [
        {
          "output_type": "stream",
          "name": "stdout",
          "text": [
            "001 judge_chambers\n",
            "002 jury_entrance\n",
            "003 janitor_closet\n",
            "004 general_entrance\n",
            "005 gender-neutral restroom\n"
          ]
        }
      ]
    },
    {
      "cell_type": "markdown",
      "source": [
        "One thing to remember about dictionaries is that dictionaries are **unordered**. The example above shows that the iteration returns the results in the order that we declared them in; but this is not the rule. It just so happens that this occurred, but **order in a dictionary should not be necesssary for code to behave appropriately.** There are different data structures if you need ordered key-value functionality."
      ],
      "metadata": {
        "id": "kxRiCFR1JpYI"
      }
    },
    {
      "cell_type": "markdown",
      "source": [
        "# Practical Application: Try it Yourself!\n",
        "You've just now learned (and seen) some of the most fundamental functionality in Python! Now, let's see some practical applications.\n",
        "\n",
        "The following exercises relate to the following scenario:\n",
        "\n",
        "Let's say that you're trying to perform classification. Most packages represent any given class as an integer number. However, you'd like to make sure that you can always relate a class \"number\" (usually called an `id`) to the human interpretation of a string.\n",
        "\n",
        "For example:\n",
        "* The `0` class represents `soil`\n",
        "* The `1` class represents `volcanic ash`\n",
        "* The `2` class represents `glass`\n",
        "* The `3` class represents `sand`\n",
        "\n",
        "Essentially, you're trying to make a simple \"lookup table\" called using the syntax we've learned. We'll call this lookup table `id2label`. Let's explore how the skills we've learned can contribute to this task.\n"
      ],
      "metadata": {
        "id": "3Z41BmK2TOmF"
      }
    },
    {
      "cell_type": "code",
      "source": [
        "#@title Exercise 1: Create class id list\n",
        "#@markdown Create a `list` named `class_ids` in the cell below with the numbers 0, 1, 2, and 3 representing the integers of your class. If you're confused, click the `Show Code` button below for the answer.\n",
        "\n",
        "class_ids = [0,1,2,3] "
      ],
      "metadata": {
        "id": "9e3FcerjVHH2",
        "cellView": "form"
      },
      "execution_count": null,
      "outputs": []
    },
    {
      "cell_type": "code",
      "source": [
        "# Create a list called class_ids for Exercise 1\n"
      ],
      "metadata": {
        "id": "eeilyTr6WEch"
      },
      "execution_count": null,
      "outputs": []
    },
    {
      "cell_type": "code",
      "source": [
        "#@title Exercise 2: Create class names list\n",
        "#@markdown Create a `list` called `class_names` with the values\n",
        "#@markdown `soil`, `volcanic ash`, `glass`, and `sand`. If you're confused,\n",
        "#@markdown click the `Show Code` button below for the answer.\n",
        "\n",
        "class_names = ['soil', 'volcanic ash', 'glass', 'sand']"
      ],
      "metadata": {
        "id": "rYT9dAgcTnWp"
      },
      "execution_count": null,
      "outputs": []
    },
    {
      "cell_type": "code",
      "source": [
        "# Create a list called class_names for Exercise 2\n"
      ],
      "metadata": {
        "id": "jobHiuREWXQP"
      },
      "execution_count": null,
      "outputs": []
    },
    {
      "cell_type": "code",
      "source": [
        "#@title Exercise 3: Expand your knowledge\n",
        "#@markdown Create a dictionary from the lists above using the `dict` function for dictionaries and a new function called `zip()`.\n",
        "#@markdown If you already know how to use `zip` and `dict`, feel free to skip the example below and\n",
        "#@markdown write your answer in the cell below.\n",
        "\n",
        "#@markdown The `zip` function reorganizes a set of lists by collating the elements across all the lists based on their positions.\n",
        "\n",
        "#@markdown What? Here's an example:\n",
        "#@markdown ```\n",
        "#@markdown numbers_list = [12, 13, 14]\n",
        "#@markdown letters_list = ['a', 'b', 'c']\n",
        "#@markdown \n",
        "#@markdown nl_zip = zip(numbers_list, letters_list)\n",
        "#@markdown ```\n",
        "\n",
        "#@markdown Although nl_list will be a `zip` object, it allows us to easily do things with it. For example:\n",
        "\n",
        "#@markdown ```\n",
        "#@markdown nl_dict = dict(nl_zip)\n",
        "#@markdown ```\n",
        "\n",
        "#@markdown will create a dictionary object for `nl_dict` with the following contents:\n",
        "#@markdown ```\n",
        "#@markdown nl_dict = {12:'a', 13:'b', 14:'c'}\n",
        "#@markdown ```\n",
        "\n",
        "#@markdown Thus, the `numbers_list` values became the set of keys of the dictionary, and the `letters_list` values became the values of the dictionary.\n",
        "\n",
        "#@markdown *** \n",
        "#@markdown\n",
        "#@markdown Consider that you need to do the same thing as above with your `class_ids`\n",
        "#@markdown list and your `class_names` list. You want to use\n",
        "#@markdown your `class_ids` list as the keys for your dictionary\n",
        "#@markdown and your `class_names` as the values.\n",
        "\n",
        "#@markdown Using the code above as a reference, create a dictionary called\n",
        "#@markdown `id2label` using the `dict` and `zip` functionality\n",
        "#@markdown shown above. If you need some help, click the `Show Code` button below.\n",
        "\n",
        "id2label = dict(zip(class_ids, class_names))\n",
        "id2label"
      ],
      "metadata": {
        "id": "ntSh1VIpZB-G",
        "colab": {
          "base_uri": "https://localhost:8080/"
        },
        "cellView": "form",
        "outputId": "ed91dd2f-c754-4ed4-b730-5a8ddcce4516"
      },
      "execution_count": null,
      "outputs": [
        {
          "output_type": "execute_result",
          "data": {
            "text/plain": [
              "{0: 'soil', 1: 'volcanic ash', 2: 'glass', 3: 'sand'}"
            ]
          },
          "metadata": {},
          "execution_count": 43
        }
      ]
    },
    {
      "cell_type": "code",
      "source": [
        "# Create a list called class_names for Exercise 3\n"
      ],
      "metadata": {
        "id": "yVj13oSFecCo"
      },
      "execution_count": null,
      "outputs": []
    },
    {
      "cell_type": "code",
      "source": [
        "#@title Exercise 4: Use your dictionary\n",
        "#@markdown You run your code and it says that you have a 93%\n",
        "#@markdown for class id 2. Programmatically determine what the name\n",
        "#@markdown of that class is. Click the `Show Code` button\n",
        "#@markdown below if you get stuck.\n",
        "\n",
        "id2label[2]"
      ],
      "metadata": {
        "colab": {
          "base_uri": "https://localhost:8080/",
          "height": 35
        },
        "cellView": "form",
        "id": "BB13x2pWZqL2",
        "outputId": "f6d43439-cc62-4c29-d80d-3a5dd408543e"
      },
      "execution_count": null,
      "outputs": [
        {
          "output_type": "execute_result",
          "data": {
            "text/plain": [
              "'glass'"
            ],
            "application/vnd.google.colaboratory.intrinsic+json": {
              "type": "string"
            }
          },
          "metadata": {},
          "execution_count": 41
        }
      ]
    },
    {
      "cell_type": "code",
      "source": [
        "# Create a list called class_names for Exercise 4\n"
      ],
      "metadata": {
        "id": "ob2f8TXzYKnG"
      },
      "execution_count": null,
      "outputs": []
    },
    {
      "cell_type": "markdown",
      "source": [
        "# Congratulations!\n",
        "\n",
        "Congratulations! You've made it through your first day crash course of Python! Today, you've learned:\n",
        "* Main tools of using Google Colab\n",
        "* The Python kernel and interpreter is running behind Google Colab and running code cells interacts with it, putting values and functions in memory for Python to process\n",
        "* Some things, Python already knows, and some things you have to tell it to do. You learned to leverage some of the built-in things it already knows how to do, such as:\n",
        "  * **Basic data elements** such as integers, floats strings, and Booleans\n",
        "  * **Basic data manipulation** like basic math operations and comparison\n",
        "  * **Powerful data structures** such as lists and dictionaries\n",
        "\n",
        "In tomorrow's class, we'll learn the language of talking with Python to tell it how to execute modularized, resuable code, and how we can rapidly expand its knowledgebase by using packages.\n"
      ],
      "metadata": {
        "id": "clS0YDh5h_ZJ"
      }
    },
    {
      "cell_type": "markdown",
      "source": [
        "\n",
        "\n",
        "---\n",
        "\n"
      ],
      "metadata": {
        "id": "wWd0j0YtzaxI"
      }
    },
    {
      "cell_type": "markdown",
      "source": [
        "# Homework\n",
        "Before tomorrow's class, you should cement this information in your mind and let it marinate and sink into your brain. Here are a few conceptual and applied questions to help you more fully understand what we've done today."
      ],
      "metadata": {
        "id": "oICyZ1fljKwd"
      }
    },
    {
      "cell_type": "markdown",
      "source": [
        "## Programming Practice\n",
        "Let's practice just a bit with basic data elements, lists, and dictionaries."
      ],
      "metadata": {
        "id": "3yauXkLJjZCp"
      }
    },
    {
      "cell_type": "code",
      "source": [
        "#@title Question 1: Strings\n",
        "#@markdown Before, we observed that we can add together numbers, like\n",
        "#@markdown floats and integers. But, we can also use the `+` operator with strings.\n",
        "#@markdown Let's observe this behavior.\n",
        "\n",
        "#@markdown 1. Create a string variable called `file_name` with the value `data/img_1`.  \n",
        "#@markdown 2. Create a string variable called `extension` with the value `.png`.\n",
        "#@markdown 3. Use the `+` operator to \"add\" these two variables behavior and store it as the variable `full_filename`.\n",
        "#@markdown 4. Output (using print or just output) `full_filename` to verify its contents.\n",
        "#@markdown 5. Comment on the behavior.\n",
        "\n",
        "#@markdown Use the next cell for your answers. Click the\n",
        "#@markdown `Show Code` button to check your answers.\n",
        "\n",
        "#1\n",
        "file_name = 'data/img_1'\n",
        "\n",
        "#2\n",
        "extension = '.png'\n",
        "\n",
        "#2\n",
        "full_filename = file_name + extension\n",
        "\n",
        "#4\n",
        "full_filename\n",
        "\n",
        "#5\n",
        "# The `+` operator on two strings has the effect of concatenating\n",
        "# them together.\n"
      ],
      "metadata": {
        "cellView": "form",
        "id": "id5RndLfltNn"
      },
      "execution_count": null,
      "outputs": []
    },
    {
      "cell_type": "code",
      "source": [
        "#Answers to Question 1\n"
      ],
      "metadata": {
        "id": "21Qo3cnfnqkt"
      },
      "execution_count": null,
      "outputs": []
    },
    {
      "cell_type": "code",
      "source": [
        "#@title Question 2: Dictionaries\n",
        "#@markdown In Exercise 3, we created an `id2label` variable which allowed us to look\n",
        "#@markdown up class names based on their class ID. Now, let's do the reverse.\n",
        "\n",
        "#@markdown 1. Create a `label2id` variable which allows us to look up\n",
        "#@markdown the IDs of the class given the class name.\n",
        "#@markdown 2. Show the dictionary contents (via print or just output) to confirm\n",
        "#@markdown its contents\n",
        "#@markdown 3. What is the class ID of the `volcanic ash` class? Find this programmatically.\n",
        "\n",
        "#@markdown Use the cell below for your answer, and click `Show Code`\n",
        "#@markdown to check your answers. Note that if you've already created (and executed)\n",
        "#@markdown the creation of the lists elsewhere in the code, you don't need\n",
        "#@markdown to create those two lists again.\n",
        "\n",
        "#1\n",
        "class_ids = [0,1,2,3]\n",
        "class_labels  = ['soil', 'volcanic ash', 'glass', 'sand']\n",
        "label2id = dict(zip(class_labels, class_ids))\n",
        "\n",
        "#2\n",
        "print(label2id)\n",
        "\n",
        "#3\n",
        "label2id['volcanic ash']"
      ],
      "metadata": {
        "colab": {
          "base_uri": "https://localhost:8080/"
        },
        "cellView": "form",
        "id": "AjFquRgkocyP",
        "outputId": "bf41aab0-6a6f-4e38-95a6-debf95ba8bc4"
      },
      "execution_count": null,
      "outputs": [
        {
          "output_type": "stream",
          "name": "stdout",
          "text": [
            "{'soil': 0, 'volcanic ash': 1, 'glass': 2, 'sand': 3}\n"
          ]
        },
        {
          "output_type": "execute_result",
          "data": {
            "text/plain": [
              "1"
            ]
          },
          "metadata": {},
          "execution_count": 45
        }
      ]
    },
    {
      "cell_type": "code",
      "source": [
        "#Answers to Question 2"
      ],
      "metadata": {
        "id": "L8KchozHqBBz"
      },
      "execution_count": null,
      "outputs": []
    },
    {
      "cell_type": "code",
      "source": [
        "#@title Question 3: Variable Names and Strings\n",
        "#@markdown Answer the following questions by experimentation.\n",
        "#@markdown Note the errors that you get are sometimes not clear, so think about\n",
        "#@markdown them and their relation to the code you have written.\n",
        "#@markdown 1. Can a variable name start with a number?\n",
        "#@markdown 2. Can a variable name have a dash in it?\n",
        "#@markdown 3. Can a variable name have a space in it?\n",
        "#@markdown 4. Can a variable name have an underscore in it?\n",
        "\n",
        "#@markdown Use the `Show Code` button to check your answers.\n",
        "\n",
        "#1 - Variable name cannot start with number\n",
        "#0dog = 8 #(uncomment to see behavior)\n",
        "\n",
        "#2 - Variable name cannot have a dash in it\n",
        "#cat-dog = 7 #(uncomment to see behavior)\n",
        "\n",
        "#3 - Variable name cannot have a space in it\n",
        "#cat dog = 7 #(uncomment to see behavior)\n",
        "\n",
        "#4 - Variable name CAN have underscores\n",
        "cat_dog = 7"
      ],
      "metadata": {
        "cellView": "form",
        "id": "ratLgf5-5S0B"
      },
      "execution_count": null,
      "outputs": []
    },
    {
      "cell_type": "markdown",
      "source": [
        "Use this markdown cell to answer Question 3."
      ],
      "metadata": {
        "id": "wU1vzlPAq0bE"
      }
    },
    {
      "cell_type": "markdown",
      "source": [
        "## Conceptual and Thought Questions"
      ],
      "metadata": {
        "id": "8boafNuwqtbX"
      }
    },
    {
      "cell_type": "code",
      "source": [
        "#@title Question 4: Lists, conceptual\n",
        "#@markdown Earlier in the lesson, we said that you'd have to take our word for it\n",
        "#@markdown that lists offer enhanced functionality to deal with collections of related\n",
        "#@markdown objects. Then, we demonstrated `for` loops and `if` statements which leverage\n",
        "#@markdown the collection object (list) for iteration. Let's take this moment for you\n",
        "#@markdown to demonstrate for yourself the power of collections rather than individual\n",
        "#@markdown objects. Click the `Show Code` button to show additional insights after answering\n",
        "#@markdown the following questions.\n",
        "\n",
        "#@markdown 1. How would you have made separate objects for each of the courtroom\n",
        "#@markdown rooms?\n",
        "#@markdown 2. Consider that we used a `for` loop to iterate through and print each\n",
        "#@markdown of the rooms. How would we do this with separate objects?\n",
        "#@markdown 3. This was 5 rooms that we looped over. Consider this single-object approach\n",
        "#@markdown vs the collection (list) approach that we presented. What are your thoughts on\n",
        "#@markdown scaling the code to 100 rooms. For example, if you wanted to print the list of\n",
        "#@markdown rooms for all 100 rooms, what would that code look like for the single-object\n",
        "#@markdown approach vs the list approach?\n",
        "\n",
        "#1\n",
        "floor0_room0 = 'judge_chambers'\n",
        "floor0_room1 = 'jury_entrance'\n",
        "floor0_room2 = 'janitor_closet'\n",
        "floor0_room3 = 'general_entrance'\n",
        "floor0_room4 = 'gender-neutral restroom'\n",
        "\n",
        "#2\n",
        "print(floor0_room0)\n",
        "print(floor0_room1)\n",
        "print(floor0_room2)\n",
        "print(floor0_room3)\n",
        "print(floor0_room4)\n",
        "\n",
        "#3\n",
        "#The single-object approach would make us write that print statement\n",
        "#100 times for each room, and is simply terrible in terms of scaling\n",
        "#and maintaining code. In fact, only the code for creating the list\n",
        "#of rooms would change in the collections case, and the code to print\n",
        "#all of the rooms would be identical."
      ],
      "metadata": {
        "cellView": "form",
        "id": "_cgloc41vN5U"
      },
      "execution_count": null,
      "outputs": []
    },
    {
      "cell_type": "markdown",
      "source": [
        "Use this markdown cell to answer Question 4."
      ],
      "metadata": {
        "id": "HWINMvM3sqH_"
      }
    },
    {
      "cell_type": "code",
      "source": [
        "#@title Question 5: Dictionaries, conceptual\n",
        "#@markdown Consider the zipping that we just performed. It appears to be correct because\n",
        "#@markdown the order of one list exactly matched the order of the other. If you were to\n",
        "#@markdown accidentally switch the order of one, would the class labels and class ids\n",
        "#@markdown match as you wanted them? Click the\n",
        "#@markdown `Show Code` button to check your answer.\n",
        "\n",
        "# No. They will be out of the order that you wanted.\n"
      ],
      "metadata": {
        "cellView": "form",
        "id": "4GlLONvsqLOa"
      },
      "execution_count": null,
      "outputs": []
    },
    {
      "cell_type": "markdown",
      "source": [
        "Use this markdown cell to answer Question 5."
      ],
      "metadata": {
        "id": "yuGhCzEZFkYl"
      }
    },
    {
      "cell_type": "code",
      "source": [
        "#@title Question 6: Dictionary Data Types\n",
        "#@markdown Consider the dictionary that we created for our courtroom\n",
        "#@markdown room numbers, where a single key/value pair was defined as `'001':'judge chambers'`.\n",
        "#@markdown Answer the following questions below, and use the `Show Code` button\n",
        "#@markdown to check your answers.\n",
        "\n",
        "#@markdown 1. Instead of using the string `'001'`, could we have used the integer value `001` in\n",
        "#@markdown our dictionary?\n",
        "#@markdown 2. Why might we choose to use the string `'001'` as the key rather than the integer `1`?\n",
        "#@markdown 3. We have established that variable names cannot contain spaces. Why can `judge chambers`\n",
        "#@markdown have a space in it?\n",
        "\n",
        "#1 No; syntax rules do not allow leading 0 for integer key\n",
        "#test = {001:'judge chambers'} #uncomment to show result\n",
        "\n",
        "#2\n",
        "#If the key is semantically the room number, 1 is semantically incorrect\n",
        "#and could be misleading and is technically incorrect.\n",
        "\n",
        "#3\n",
        "#'judge chambers' is STRICTLY a STRING LITERAL and NOT a variable name.\n",
        "#Strings can and do certainly have any number of characters that\n",
        "#variable names are not allowed to have. Draw a distinction between strings\n",
        "#(a data type) and a variable name (represents an object).\n"
      ],
      "metadata": {
        "cellView": "form",
        "id": "pvWPor4X8ubs"
      },
      "execution_count": null,
      "outputs": []
    },
    {
      "cell_type": "markdown",
      "source": [
        "Use this markdown cell to answer Question 6."
      ],
      "metadata": {
        "id": "gecfn0BCFoGN"
      }
    },
    {
      "cell_type": "code",
      "source": [
        "#@title Question 7: Dictionaries vs Lists\n",
        "#@markdown Under what circumstances might you prefer a list\n",
        "#@markdown to a dictionary and vice versa? Use the `Show Code`\n",
        "#@markdown button to see some considerations.\n",
        "\n",
        "#Lists\n",
        "#Lists are advantageous when the order is significant or sets of\n",
        "#lists will be in the same order and you want to put them together.\n",
        "#They're also advantageous when it's not necessarily the order/position\n",
        "#that is meaningful and they have a single value of interest. This is in\n",
        "#contrast to dictionaries where the order is also not meaningful,\n",
        "#but it has two meaningful components: the keys and the values.\n",
        "\n",
        "#Dictionaries\n",
        "#Dictionaries are advantageous when a key is useful as an \"index\", or\n",
        "#the value useful to look something up. A great example is\n",
        "#our hallway example, where we might want an actual \"address\" rather\n",
        "#than an arbitrary position on the road. Note that there is also a such\n",
        "#thing as an ordered dictionary available through Python in case\n",
        "#order is significant but the \"dictionary\" nature is desirable to be\n",
        "#maintained."
      ],
      "metadata": {
        "cellView": "form",
        "id": "gjLGaNMdq59g"
      },
      "execution_count": null,
      "outputs": []
    },
    {
      "cell_type": "markdown",
      "source": [
        "Use this markdown cell to answer Question 7."
      ],
      "metadata": {
        "id": "-HDyOESXszAb"
      }
    },
    {
      "cell_type": "code",
      "source": [
        "#@title Question 8: Python Kernel and Colab\n",
        "#@markdown Consider Question 2, where it is possible that the list variables\n",
        "#@markdown are executed earlier in the notebook. Answer the following questions:\n",
        "#@markdown 1. Is it necessary to replicate the creation of these variables\n",
        "#@markdown in the same cell as you put your answer to Question 2? Why or why not?\n",
        "#@markdown 2. If you were to run those original cells at the top, close Google Colab,\n",
        "#@markdown and then reopen it, would you need to run them again?\n",
        "#@markdown 3. Under what circumstances might you replicate code (e.g., creation of the\n",
        "#@markdown lists earlier AND in Question 2)? What advantages does this confer?\n",
        "#@markdown What disadvantages does this have? What do you think the best\n",
        "#@markdown practices would be?\n",
        "\n",
        "#@markdown Click the `Show Code` button to reveal insights on these questions.\n",
        "\n",
        "#1\n",
        "#No, it is not necessary. As long as they have already been executed, they're already\n",
        "#in memory (in the kernel) and available to be referenced and used.\n",
        "\n",
        "#2\n",
        "#Whenever you close Google Colab, you clear out the entirety of Python's working memory.\n",
        "#This means that all of your variables are erased and you start over completely from blank.\n",
        "\n",
        "#3\n",
        "#You may want to replicate code sometimes as a workflow enhancer when you're trying to work\n",
        "#out a bug or incorrect code behavior. This lets you not have to scroll up and down\n",
        "#or execute a bunch of cells just to get to one answer.\n",
        "\n",
        "#This has severe disadvantages, as if you leave this code in, the variables have the\n",
        "#same name and are likely conceptually similar as in the earlier code. It would be VERY\n",
        "#easy to change things in one place and not the other and lead to odd, hard-to-track-down bugs.\n",
        "#Another part of this is that separate places need to be continually synced, and this is\n",
        "#both hard, annoying, and inefficient.\n",
        "\n",
        "#If you have a variable that you will be using everywhere, define it once. If you need to debug,\n",
        "#fine, temporarily replicate (or even move the whole code cell down using the arrows), but make\n",
        "#sure to update this as soon as you can. Bugs are terrible."
      ],
      "metadata": {
        "cellView": "form",
        "id": "ObduUXsKssXJ"
      },
      "execution_count": null,
      "outputs": []
    },
    {
      "cell_type": "markdown",
      "source": [
        "Use this markdown cell to answer Question 8."
      ],
      "metadata": {
        "id": "tAXr5KrnzV99"
      }
    }
  ]
}