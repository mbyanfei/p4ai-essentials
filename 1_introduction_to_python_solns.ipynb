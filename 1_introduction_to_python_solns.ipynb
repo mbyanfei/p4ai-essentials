{
  "nbformat": 4,
  "nbformat_minor": 0,
  "metadata": {
    "colab": {
      "name": "1-introduction-to-python-solns",
      "provenance": [],
      "collapsed_sections": [],
      "toc_visible": true,
      "authorship_tag": "ABX9TyNbhSY7raxvuVxN/EClGyP3",
      "include_colab_link": true
    },
    "kernelspec": {
      "name": "python3",
      "display_name": "Python 3"
    },
    "language_info": {
      "name": "python"
    }
  },
  "cells": [
    {
      "cell_type": "markdown",
      "metadata": {
        "id": "view-in-github",
        "colab_type": "text"
      },
      "source": [
        "<a href=\"https://colab.research.google.com/github/vanderbilt-data-science/p4ai-essentials/blob/main/1_introduction_to_python_solns.ipynb\" target=\"_parent\"><img src=\"https://colab.research.google.com/assets/colab-badge.svg\" alt=\"Open In Colab\"/></a>"
      ]
    },
    {
      "cell_type": "markdown",
      "source": [
        "# Introduction to Python with Google Colab\n",
        "> An overview of the user interface to the kernel\n",
        "\n",
        "Welcome to your first lesson with Python using Google Colab!\n",
        "\n",
        "## Lesson Objectives\n",
        "At the end of this lesson, you should be able to:\n",
        "1. Provide a high-level description of interactions with the Python kernel\n",
        "2. Identify and use the relevant features of Google Colab and Jupyter Notebooks\n",
        "  * How to create a code cell\n",
        "  * How to create a markdown cell\n",
        "  * How to execute or render a cell\n",
        "3. Create and explain the use of literate programming\n",
        "4. Create and use basic Python data types\n",
        "5. Conceptually understand and explain, create, and use standard Python data structures\n",
        "  * Lists\n",
        "  * Dictionaries\n",
        "  * Tuples\n",
        "\n",
        "Let's get started!"
      ],
      "metadata": {
        "id": "63sdkoOBbZOY"
      }
    },
    {
      "cell_type": "markdown",
      "source": [
        "# How does this programming thing work?\n",
        "Let's start with something that we know - telling a child how to make a peanut butter and jelly sandwich!\n",
        "\n",
        "<center>\n",
        "<img src=\"https://live.staticflickr.com/28/59516971_393af81183_h.jpg\" width=\"200\">\n",
        "\n",
        "Imagine in this moment that a child calls you on the phone and asks you to guide them through making a peanut butter and jelly sandwich. What items do they need? What instructions do you give?"
      ],
      "metadata": {
        "id": "OX-7DwiOddrr"
      }
    },
    {
      "cell_type": "code",
      "source": [
        "#@title Your Answer { vertical-output: true }\n",
        "#@markdown **Items needed**:\n",
        "item_1 = \"\" #@param {type:\"string\"}\n",
        "item_2 = \"\" #@param {type:\"string\"}\n",
        "item_3 = \"\" #@param {type:\"string\"}\n",
        "\n",
        "#@markdown **List of steps**:\n",
        "step_1 = \"\" #@param {type:\"string\"}\n",
        "step_2 = \"\" #@param {type:\"string\"}\n",
        "step_3 = \"\" #@param {type:\"string\"}\n",
        "step_4 = \"\" #@param {type:\"string\"}\n",
        "\n",
        "#@markdown Why is this a meaningful exercise?\n",
        "#@markdown Let's examine.\n",
        "#@markdown [Oof! Hang in there for a moment of lecture-style instruction!]\n"
      ],
      "metadata": {
        "id": "oRAEc2sFeYQ-"
      },
      "execution_count": null,
      "outputs": []
    },
    {
      "cell_type": "markdown",
      "source": [
        "Now that we've learned the different components of a Python program and their roles, let's see what that looks like in Google Colab.\n",
        "\n",
        "# Introduction to Google Colab\n",
        "Google Colab facilitates literate programming, meaning that it's not just code and code comments. We can narrate, as you see here! Double click this cell to inspect what markdown notation looks like!"
      ],
      "metadata": {
        "id": "RSIS2NnG6PyP"
      }
    },
    {
      "cell_type": "code",
      "source": [
        "# This is a code cell. This line is a comment. To execute this cell (provide information and/or instruction to our kernel \"child\"),\n",
        "# use the arrow on the LHS of the cell. Click it now!"
      ],
      "metadata": {
        "id": "OVOgv6U46cFo"
      },
      "execution_count": null,
      "outputs": []
    },
    {
      "cell_type": "markdown",
      "source": [
        "That's right, nothing of importance happened. We didn't give it any information or instruction. It essentially just received a blank fax. We'll come back to this.\n",
        "\n",
        "Let's look at some other tools provided by Google Colab before we get into the Python Language:\n",
        "* Hovering over the bottom of the cell provides options to create a new code cell or a new text/markdown cell\n",
        "* Shift + Enter executes the cell (without having to move your hands to the mouse/touchpad to click run)\n",
        "* If you ever want to Run cells in a certain way, for example all cells without executing them individually, check out the `Runtime` tab.\n",
        "\n",
        "There is also some functionality we won't talk about here, but message us and we'll make a separate session given enough demand. For example:\n",
        "* Mounting Google Drive (allowing you access to your cloud/shared data/documents)\n",
        "* Using scratchpads\n",
        "* Connecting to a local Jupyter runtime (Colab is in the cloud on far away machines; you could also connect it to your lab machine instead!)"
      ],
      "metadata": {
        "id": "qJB6bRxQ8RNX"
      }
    },
    {
      "cell_type": "markdown",
      "source": [
        "# Things Python Already Knows: Calculator Functionality\n",
        "Let's explore \"providing instructions\" and \"providing information\". As we said, there are things that the child \"knows of\" and \"knows how to do\" already. Let's look at the most important ones in Python."
      ],
      "metadata": {
        "id": "lOO3dQmj9AN3"
      }
    },
    {
      "cell_type": "markdown",
      "source": [
        "## Data types\n",
        "Python already knows a specific set of basic data types and knows how to interact with them in some somewhat expected ways. Let's check some out."
      ],
      "metadata": {
        "id": "ylQXpnde_Xi4"
      }
    },
    {
      "cell_type": "code",
      "source": [
        "# It gets what numbers are and common things we do with them\n",
        "print(7 + 7)\n",
        "\n",
        "# It can work with text/string data\n",
        "print('The data is ' + 'long')\n",
        "\n",
        "# It can automatically navigate (some) different data types\n",
        "print(2.8 + 9)"
      ],
      "metadata": {
        "colab": {
          "base_uri": "https://localhost:8080/"
        },
        "id": "MY7g9R-U_gsW",
        "outputId": "791d55a6-12f2-47e3-e9cd-cd1436971098"
      },
      "execution_count": null,
      "outputs": [
        {
          "output_type": "stream",
          "name": "stdout",
          "text": [
            "14\n",
            "The data is long\n",
            "11.8\n"
          ]
        }
      ]
    },
    {
      "cell_type": "markdown",
      "source": [
        "Using just raw numbers/hard coding is diminishing returns. Programming is built on the back of increasing levels of abstraction. We do this by assigning values to variables."
      ],
      "metadata": {
        "id": "nZKzPF3n_-2I"
      }
    },
    {
      "cell_type": "code",
      "source": [
        "# Numbers\n",
        "var_integer = 7\n",
        "var_float = 0.22\n",
        "\n",
        "# Strings\n",
        "var_string = 'the dog is cute'"
      ],
      "metadata": {
        "id": "SwFgJVeF8Qrs"
      },
      "execution_count": 1,
      "outputs": []
    },
    {
      "cell_type": "markdown",
      "source": [
        "It is meaningless for us to just write this code....how does it get executed? If we just write the code and don't execute it, it's like speaking the instructions to the child that isn't even listening. Check this out.\n",
        "\n",
        "Before executing the cells above, execute the following cell:"
      ],
      "metadata": {
        "id": "OpHOO9xNEeQw"
      }
    },
    {
      "cell_type": "code",
      "source": [
        "dir()"
      ],
      "metadata": {
        "colab": {
          "base_uri": "https://localhost:8080/"
        },
        "id": "jc1t6obO-ywz",
        "outputId": "830dccae-ca0e-4c51-ee7b-4a8c624571b5"
      },
      "execution_count": null,
      "outputs": [
        {
          "output_type": "execute_result",
          "data": {
            "text/plain": [
              "['In',\n",
              " 'Out',\n",
              " '_',\n",
              " '__',\n",
              " '___',\n",
              " '__builtin__',\n",
              " '__builtins__',\n",
              " '__doc__',\n",
              " '__loader__',\n",
              " '__name__',\n",
              " '__package__',\n",
              " '__spec__',\n",
              " '_dh',\n",
              " '_i',\n",
              " '_i1',\n",
              " '_ih',\n",
              " '_ii',\n",
              " '_iii',\n",
              " '_oh',\n",
              " '_sh',\n",
              " 'exit',\n",
              " 'get_ipython',\n",
              " 'quit']"
            ]
          },
          "metadata": {},
          "execution_count": 1
        }
      ]
    },
    {
      "cell_type": "markdown",
      "source": [
        "These are some of the variables that are already populated and \"saved\" in the kernel. Let's see what happens when we actually execute the cells.\n",
        "\n",
        "Press the arrow next to the cell which defines some of our different variable types. Then, run the following cell."
      ],
      "metadata": {
        "id": "uPAXWaqovg5a"
      }
    },
    {
      "cell_type": "code",
      "source": [
        "dir()"
      ],
      "metadata": {
        "colab": {
          "base_uri": "https://localhost:8080/"
        },
        "id": "z3Zv8k8cwGij",
        "outputId": "c74aaceb-74ea-4d23-bef2-2b0c9f2c7952"
      },
      "execution_count": null,
      "outputs": [
        {
          "output_type": "execute_result",
          "data": {
            "text/plain": [
              "['In',\n",
              " 'Out',\n",
              " '_',\n",
              " '_1',\n",
              " '__',\n",
              " '___',\n",
              " '__builtin__',\n",
              " '__builtins__',\n",
              " '__doc__',\n",
              " '__loader__',\n",
              " '__name__',\n",
              " '__package__',\n",
              " '__spec__',\n",
              " '_dh',\n",
              " '_i',\n",
              " '_i1',\n",
              " '_i2',\n",
              " '_i3',\n",
              " '_ih',\n",
              " '_ii',\n",
              " '_iii',\n",
              " '_oh',\n",
              " '_sh',\n",
              " 'exit',\n",
              " 'get_ipython',\n",
              " 'quit',\n",
              " 'var_float',\n",
              " 'var_integer',\n",
              " 'var_string']"
            ]
          },
          "metadata": {},
          "execution_count": 3
        }
      ]
    },
    {
      "cell_type": "markdown",
      "source": [
        "Notice the new information in your kernel! These variables have been \"saved\" into your kernel and are now new pieces of information to be referenced. This is the fundamental operation of the kernel. Keep in mind two things:\n",
        "\n",
        "1. Notice that the execution/output of the first `dir()` code cell did not change. This reflects the outputs and the state of the kernel at the time that you ran the cell.\n",
        "2. Now, we can use these _objects_ that we've saved!\n",
        "\n",
        "One way of \"using\" these objects is just to see their values. Let's check out what this looks like:"
      ],
      "metadata": {
        "id": "Qd8ePLiLwKOp"
      }
    },
    {
      "cell_type": "code",
      "source": [
        "var_float"
      ],
      "metadata": {
        "colab": {
          "base_uri": "https://localhost:8080/"
        },
        "id": "vy114njmwMFM",
        "outputId": "3b9dbd16-336f-4346-a2e1-c40f79dd6fdb"
      },
      "execution_count": null,
      "outputs": [
        {
          "output_type": "execute_result",
          "data": {
            "text/plain": [
              "0.22"
            ]
          },
          "metadata": {},
          "execution_count": 6
        }
      ]
    },
    {
      "cell_type": "markdown",
      "source": [
        "## Basic Math Operations\n",
        "Beyond the datatypes and what they mean, Python already knows several types of math/set operations. Let's check it out. A great reference can be found in the [Python Reference API](https://docs.python.org/3/library/stdtypes.html#numeric-types-int-float-complex)."
      ],
      "metadata": {
        "id": "b09dkmG1xN-Z"
      }
    },
    {
      "cell_type": "code",
      "source": [
        "# Add together our float and our integer value\n",
        "var_float + var_integer"
      ],
      "metadata": {
        "colab": {
          "base_uri": "https://localhost:8080/"
        },
        "id": "aJ4Z-a_JwuTg",
        "outputId": "4f11cc38-8ce2-4517-f742-ce88215f34cd"
      },
      "execution_count": null,
      "outputs": [
        {
          "output_type": "execute_result",
          "data": {
            "text/plain": [
              "7.22"
            ]
          },
          "metadata": {},
          "execution_count": 7
        }
      ]
    },
    {
      "cell_type": "code",
      "source": [
        "# Subtract var_integer from var_float\n",
        "var_float - var_integer\n",
        "\n",
        "# Multiply var_integer with var_float\n",
        "var_float * var_integer\n",
        "\n",
        "# Quotient of var_float divided by var_integer\n",
        "var_float / var_integer"
      ],
      "metadata": {
        "colab": {
          "base_uri": "https://localhost:8080/"
        },
        "id": "BeyxECJWxb2l",
        "outputId": "c7ca6922-0e97-4387-ba6a-403ebda9f4e4"
      },
      "execution_count": 2,
      "outputs": [
        {
          "output_type": "execute_result",
          "data": {
            "text/plain": [
              "0.03142857142857143"
            ]
          },
          "metadata": {},
          "execution_count": 2
        }
      ]
    },
    {
      "cell_type": "code",
      "source": [
        "#@title Try it Yourself!\n",
        "#@markdown Using the Python Reference API, find the symbols to achieve the following:\n",
        "#@markdown 1. The floored quotient of `var_float` and `var_integer`\n",
        "#@markdown 2. The remainder of `var_float` divided by `var_integer`\n",
        "\n",
        "#Answer to 1\n",
        "print(var_float//var_integer)\n",
        "\n",
        "#Answer to 2\n",
        "print(var_float % var_integer)\n",
        "\n",
        "#@markdown You can use the cell below for your answers. Use the `Show Code` button below\n",
        "#@markdown for the answers if you find yourself stuck.\n"
      ],
      "metadata": {
        "cellView": "form",
        "id": "AcpkmD5x4gUg"
      },
      "execution_count": null,
      "outputs": []
    },
    {
      "cell_type": "code",
      "source": [
        "#Answer to 1\n",
        "print(var_float//var_integer)\n",
        "\n",
        "#Answer to 2\n",
        "print(var_float % var_integer)"
      ],
      "metadata": {
        "id": "wT0_EI3GxmrR",
        "colab": {
          "base_uri": "https://localhost:8080/"
        },
        "outputId": "f82286ca-3377-4a09-a9ec-5822c65433fe"
      },
      "execution_count": 3,
      "outputs": [
        {
          "output_type": "stream",
          "name": "stdout",
          "text": [
            "0.0\n",
            "0.22\n"
          ]
        }
      ]
    },
    {
      "cell_type": "markdown",
      "source": [
        "## Basic Comparisons\n",
        "We can see similar built-in behavior with comparisons. Let's quickly also check those out. We will again use the [Python library reference on Comparisons here.](https://docs.python.org/3/library/stdtypes.html#comparisons)"
      ],
      "metadata": {
        "id": "KZSMwj8c9542"
      }
    },
    {
      "cell_type": "code",
      "source": [
        "#Determine if one value is larger than another\n",
        "var_float > var_integer"
      ],
      "metadata": {
        "id": "ZcA73kxX-diX",
        "colab": {
          "base_uri": "https://localhost:8080/"
        },
        "outputId": "a181f15b-620c-4aa9-e759-d3462365b749"
      },
      "execution_count": 4,
      "outputs": [
        {
          "output_type": "execute_result",
          "data": {
            "text/plain": [
              "False"
            ]
          },
          "metadata": {},
          "execution_count": 4
        }
      ]
    },
    {
      "cell_type": "code",
      "source": [
        "#Determine whether a numerical object is equal to another\n",
        "print(var_float == var_integer)\n",
        "\n",
        "#Determine inequality\n",
        "var_float != var_integer"
      ],
      "metadata": {
        "id": "FuB75o4y-kmo",
        "colab": {
          "base_uri": "https://localhost:8080/"
        },
        "outputId": "262b63a0-b354-4bfa-a928-f7ed700fcac5"
      },
      "execution_count": 5,
      "outputs": [
        {
          "output_type": "stream",
          "name": "stdout",
          "text": [
            "False\n"
          ]
        },
        {
          "output_type": "execute_result",
          "data": {
            "text/plain": [
              "True"
            ]
          },
          "metadata": {},
          "execution_count": 5
        }
      ]
    },
    {
      "cell_type": "markdown",
      "source": [
        "# Things Python Already Knows: Aggregated Data Elements\n",
        "\n",
        "Beyond single variables, we often want to be able to treat related values as components of a single variable. What the heck does that mean? Let's check out two built-in data structures.\n"
      ],
      "metadata": {
        "id": "wqRWwy7nAF_B"
      }
    },
    {
      "cell_type": "markdown",
      "source": [
        "## Lists\n",
        "Think of the hallway of an office building you're just visiting. I can think of at least 2 ways to name each of the individual offices:\n",
        "\n",
        "1. **Represent each object individually**: We can use what we've already learned and give each office an individual variable name.\n",
        "1. **Represent each object as a part of another object**: We could choose to represent all offices of a floor as a batch (single object), and reference each object by its position on the floor.\n",
        "\n",
        "Let's compare these approaches:\n",
        "<center>\n",
        "<img src=\"https://github.com/vanderbilt-data-science/p4ai-essentials/blob/50ddb8c81a7873cd501c486a5a0437367e9a741e/img/list_type_comparison.png\" width=\"400\">\n",
        "</center>\n",
        "\n",
        "How do we do this in code? You'll have to take my word for it to start off with, but Python offers great functionality related to the list data structure as opposed to manipulating single elements. Let's check it out."
      ],
      "metadata": {
        "id": "cc5WpI22Abe7"
      }
    },
    {
      "cell_type": "code",
      "source": [
        "# How do we make a list?\n",
        "floor0 = ['judge_chambers', 'jury_entrance', 'media_entrance', 'general_entrance', 'gender-neutral restroom']"
      ],
      "metadata": {
        "id": "l70-JbPeI3Dm"
      },
      "execution_count": 6,
      "outputs": []
    },
    {
      "cell_type": "code",
      "source": [
        "# How do we reference elements in that list?\n",
        "print(floor0[0])\n",
        "floor0[2]"
      ],
      "metadata": {
        "colab": {
          "base_uri": "https://localhost:8080/",
          "height": 53
        },
        "id": "wqeTtQaeKJ33",
        "outputId": "c2f66f14-3401-4ad7-9781-ab19edd343db"
      },
      "execution_count": 7,
      "outputs": [
        {
          "output_type": "stream",
          "name": "stdout",
          "text": [
            "judge_chambers\n"
          ]
        },
        {
          "output_type": "execute_result",
          "data": {
            "text/plain": [
              "'media_entrance'"
            ],
            "application/vnd.google.colaboratory.intrinsic+json": {
              "type": "string"
            }
          },
          "metadata": {},
          "execution_count": 7
        }
      ]
    },
    {
      "cell_type": "code",
      "source": [
        "# What's an example of something nice we can do with that list?\n",
        "for room in floor0:\n",
        "  print(room)"
      ],
      "metadata": {
        "colab": {
          "base_uri": "https://localhost:8080/"
        },
        "id": "sUHxNq2UKbX0",
        "outputId": "4cf5dcaa-54b6-4fd5-d9a4-5df55d505650"
      },
      "execution_count": 8,
      "outputs": [
        {
          "output_type": "stream",
          "name": "stdout",
          "text": [
            "judge_chambers\n",
            "jury_entrance\n",
            "media_entrance\n",
            "general_entrance\n",
            "gender-neutral restroom\n"
          ]
        }
      ]
    },
    {
      "cell_type": "code",
      "source": [
        "# What else is something nice that we can do with that list data structure?\n",
        "for position, room in enumerate(floor0):\n",
        "  print(position, room)"
      ],
      "metadata": {
        "colab": {
          "base_uri": "https://localhost:8080/"
        },
        "id": "LRtyoWf0KiQN",
        "outputId": "f6a074db-9f8b-4052-a635-9ae821262db5"
      },
      "execution_count": 5,
      "outputs": [
        {
          "output_type": "stream",
          "name": "stdout",
          "text": [
            "0 judge_chambers\n",
            "1 jury_entrance\n",
            "2 media_entrance\n",
            "3 general_entrance\n",
            "4 gender-neutral restroom\n"
          ]
        }
      ]
    },
    {
      "cell_type": "code",
      "source": [
        "# What else can we do with that list data structure?\n",
        "for position in range(len(floor0)):\n",
        "  print(position, floor0[position])"
      ],
      "metadata": {
        "colab": {
          "base_uri": "https://localhost:8080/"
        },
        "id": "FpKukDqlK1ut",
        "outputId": "0e4a54d8-9c35-48d8-8f8d-e6fa2e5b40d8"
      },
      "execution_count": 6,
      "outputs": [
        {
          "output_type": "stream",
          "name": "stdout",
          "text": [
            "0 judge_chambers\n",
            "1 jury_entrance\n",
            "2 media_entrance\n",
            "3 general_entrance\n",
            "4 gender-neutral restroom\n"
          ]
        }
      ]
    },
    {
      "cell_type": "code",
      "source": [
        "# What if I needed to change the definition of an element?\n",
        "for position in range(len(floor0)):\n",
        "\n",
        "  # Room position 2 becomes a janitor closet\n",
        "  if position==2:\n",
        "    floor0[position] = 'janitor_closet'\n",
        "  print(position, floor0[position])"
      ],
      "metadata": {
        "colab": {
          "base_uri": "https://localhost:8080/"
        },
        "id": "PfXp_YIaLGFA",
        "outputId": "19421515-31a3-465e-b3ea-1cc4987bbfc4"
      },
      "execution_count": 8,
      "outputs": [
        {
          "output_type": "stream",
          "name": "stdout",
          "text": [
            "0 judge_chambers\n",
            "1 jury_entrance\n",
            "2 janitor_closet\n",
            "3 general_entrance\n",
            "4 gender-neutral restroom\n"
          ]
        }
      ]
    },
    {
      "cell_type": "code",
      "source": [
        ""
      ],
      "metadata": {
        "id": "nhorE6i5Lbe9"
      },
      "execution_count": null,
      "outputs": []
    }
  ]
}